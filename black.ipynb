{
  "nbformat": 4,
  "nbformat_minor": 0,
  "metadata": {
    "colab": {
      "name": "black.ipynb",
      "provenance": [],
      "collapsed_sections": []
    },
    "kernelspec": {
      "name": "python3",
      "display_name": "Python 3"
    },
    "language_info": {
      "name": "python"
    }
  },
  "cells": [
    {
      "cell_type": "code",
      "metadata": {
        "id": "pr7Td21CdtDz"
      },
      "source": [
        "import gym\n",
        "import numpy as np\n",
        "import scipy.stats as st\n",
        "\n",
        "import matplotlib.pyplot as plt\n",
        "from gym import spaces\n",
        "from gym.utils import seeding"
      ],
      "execution_count": 1,
      "outputs": []
    },
    {
      "cell_type": "code",
      "metadata": {
        "id": "YlbWMuFOdvbb"
      },
      "source": [
        "env = gym.make('Blackjack-v0', natural=True)"
      ],
      "execution_count": 2,
      "outputs": []
    },
    {
      "cell_type": "markdown",
      "metadata": {
        "id": "3KxXQl5fvDz-"
      },
      "source": [
        "Рассмотрим очень простую стратегию: говорить stand, если у нас на руках комбинация в 19, 20 или 21 очко, во всех остальных случаях говорить hit. Используйте методы Монте-Карло, чтобы оценить выигрыш от этой стратегии"
      ]
    },
    {
      "cell_type": "code",
      "metadata": {
        "id": "-zJtm-smwFGV"
      },
      "source": [
        "STAND = 0\n",
        "HIT = 1"
      ],
      "execution_count": 3,
      "outputs": []
    },
    {
      "cell_type": "code",
      "metadata": {
        "id": "4MQwfXk0u9i3"
      },
      "source": [
        "def policy_simple(state):\n",
        "  if (state[0] < 19):\n",
        "    return HIT\n",
        "  else:\n",
        "    return STAND  "
      ],
      "execution_count": 46,
      "outputs": []
    },
    {
      "cell_type": "code",
      "metadata": {
        "id": "KkBp6LaHd6T5"
      },
      "source": [
        "def get_rewards(policy, env, num_episodes):\n",
        "  rewards = []\n",
        "  for i in range(num_episodes):\n",
        "     done = 0\n",
        "     observation = env.reset()\n",
        "     while done == 0:\n",
        "        observation, reward, done, _ = env.step(policy(observation))\n",
        "     rewards.append(reward) \n",
        "  return rewards\n",
        "#def calc_rewards_parameters():\n",
        "\n"
      ],
      "execution_count": 14,
      "outputs": []
    },
    {
      "cell_type": "code",
      "metadata": {
        "id": "9qBB3Fq6yfXd"
      },
      "source": [
        "num_episodes = 100000\n",
        "rewards = (get_rewards(policy_simple, env,  num_episodes))\n"
      ],
      "execution_count": 50,
      "outputs": []
    },
    {
      "cell_type": "code",
      "metadata": {
        "colab": {
          "base_uri": "https://localhost:8080/"
        },
        "id": "5dgZteRO8Z7F",
        "outputId": "f379134d-f515-4d3f-85c9-c7dc81f28939"
      },
      "source": [
        "print(f\"Средний выигрыш по простой стратегии {np.mean(rewards)}\")"
      ],
      "execution_count": 51,
      "outputs": [
        {
          "output_type": "stream",
          "name": "stdout",
          "text": [
            "Средний выигрыш по простой стратегии -0.19999\n"
          ]
        }
      ]
    },
    {
      "cell_type": "code",
      "metadata": {
        "colab": {
          "base_uri": "https://localhost:8080/",
          "height": 313
        },
        "id": "Ew524AVR6zdK",
        "outputId": "ae7924c6-8fb9-404a-be48-d1ede31853fe"
      },
      "source": [
        "plt.hist(rewards, bins = 8 , range=[-2, 2])"
      ],
      "execution_count": 8,
      "outputs": [
        {
          "output_type": "execute_result",
          "data": {
            "text/plain": [
              "(array([    0.,     0., 56215.,     0.,  7594.,     0., 32080.,  4111.]),\n",
              " array([-2. , -1.5, -1. , -0.5,  0. ,  0.5,  1. ,  1.5,  2. ]),\n",
              " <a list of 8 Patch objects>)"
            ]
          },
          "metadata": {},
          "execution_count": 8
        },
        {
          "output_type": "display_data",
          "data": {
            "image/png": "[encoded data removed]",
            "text/plain": [
              "<Figure size 432x288 with 1 Axes>"
            ]
          },
          "metadata": {
            "needs_background": "light"
          }
        }
      ]
    },
    {
      "cell_type": "markdown",
      "metadata": {
        "id": "I2_WPjOg5H32"
      },
      "source": [
        "2. Реализуйте метод обучения с подкреплением без модели (можно Q-обучение, но рекомендую попробовать и другие, например Monte Carlo control) для обучения стратегии в блекджеке, используя окружение Blackjack-v0 из OpenAI Gym.\n",
        "3. Сколько выигрывает казино у вашей стратегии? Нарисуйте графики среднего дохода вашего метода (усреднённого по крайней мере по 100000 раздач, а лучше больше) по ходу обучения. Попробуйте подобрать оптимальные гиперпараметры.\n"
      ]
    },
    {
      "cell_type": "code",
      "metadata": {
        "id": "z__EaiL45GCn"
      },
      "source": [
        "from collections import defaultdict\n",
        "class mc_control():\n",
        "  def __init__(self, env,  eps_decay, eps_min, alpha, gamma, NSTATES, num_episodes):\n",
        "    self.NSTATES = NSTATES\n",
        "    self.env = env\n",
        "    self.eps_decay = eps_decay\n",
        "    self.eps_min = eps_min\n",
        "    self.alpha = alpha\n",
        "    self.gamma = gamma\n",
        "    #self.Q = {}\n",
        "    self.eps = 1.0\n",
        "    self.num_episodes = num_episodes\n",
        "    \n",
        "  def get_probs(self,state):\n",
        "       probs = np.ones(self.NSTATES) * self.eps/NSTATES\n",
        "       best_action = np.argmax(self.Q[state])\n",
        "       probs[best_action] = 1 - self.eps + self.eps/NSTATES\n",
        "       return probs\n",
        "\n",
        "  def best_policy(self):\n",
        "    return dict((state,np.argmax(actions)) for state, actions in self.Q.items())\n",
        "\n",
        "  def create_episode(self):\n",
        "      stages = []\n",
        "      state = self.env.reset()\n",
        "      done = False\n",
        "      while not done:\n",
        "        if state in self.Q:\n",
        "            probs = self.get_probs(state)\n",
        "            action = np.random.choice(np.arange(self.NSTATES), p=probs)\n",
        "        else:\n",
        "            action = self.env.action_space.sample()  \n",
        "        next_state, reward, done, _ = self.env.step(action)\n",
        "        stages.append((state, action, reward))\n",
        "        state = next_state\n",
        "      \n",
        "      return stages\n",
        "\n",
        "  def update_Q(self, episode):\n",
        "     for state, action, reward in episode:\n",
        "        first = next(i for i,x in enumerate(episode) if x[0] == state)\n",
        "        G = sum([x[2] * (gamma ** i) for i,x in enumerate(episode[first : ])])\n",
        "        self.Q[state][action] = self.Q[state][action] + self.alpha*(G - self.Q[state][action])\n",
        "\n",
        "  def learn(self):\n",
        "     self.Q =  defaultdict(lambda: np.zeros(self.NSTATES))\n",
        "     rewards = []\n",
        "     result = []\n",
        "     for i in range(self.num_episodes):\n",
        "        if (i+1) % 5000 == 0:\n",
        "            print(result[-1])\n",
        "        \n",
        "        self.eps = max(self.eps * self.eps_decay, self.eps_min)\n",
        "        stages = self.create_episode()\n",
        "        rewards.append(stages[-1][2])\n",
        "        result.append(np.mean(rewards))\n",
        "        self.update_Q(stages)\n",
        "       \n",
        "     policy = self.best_policy()\n",
        "     return policy, self.Q, result\n",
        "\n"
      ],
      "execution_count": 3,
      "outputs": []
    },
    {
      "cell_type": "markdown",
      "metadata": {
        "id": "qno9aX5J5v0R"
      },
      "source": [
        "Инициализируем функцию Q. По мере обучения выбираем или исследование или лучшую стратегию на данный момент обучения. Запоминаем все новые переходы в игре. Обновляем стратегию Q"
      ]
    },
    {
      "cell_type": "code",
      "metadata": {
        "colab": {
          "base_uri": "https://localhost:8080/"
        },
        "id": "vvt_wjV4fkKq",
        "outputId": "9df504c6-8f17-4f87-f162-20c4a85e4afd"
      },
      "source": [
        "eps_min = 0.01\n",
        "eps_decay = 0.9\n",
        "alpha = 0.005\n",
        "gamma = 1.0\n",
        "NSTATES = 2\n",
        "\n",
        "env_base = gym.make('Blackjack-v0')\n",
        "base = mc_control(env_base,  eps_decay, eps_min, alpha, gamma, NSTATES, 200000)\n",
        "policy_base, Q_base, result_base = base.learn()"
      ],
      "execution_count": 39,
      "outputs": [
        {
          "output_type": "stream",
          "name": "stdout",
          "text": [
            "-0.14862972594518903\n",
            "-0.1323132313231323\n",
            "-0.1198079871991466\n",
            "-0.1127556377818891\n",
            "-0.11308452338093523\n",
            "-0.10827027567585586\n",
            "-0.10534586702477214\n",
            "-0.10400260006500163\n",
            "-0.10382452943398743\n",
            "-0.10348206964139282\n",
            "-0.10242004400080001\n",
            "-0.10035167252787547\n",
            "-0.0997553808520131\n",
            "-0.09960142287746968\n",
            "-0.09786797157295431\n",
            "-0.09616370204627558\n",
            "-0.09374227932093318\n",
            "-0.09313436815964622\n",
            "-0.09090622006547437\n",
            "-0.08938089380893809\n",
            "-0.0895627577405499\n",
            "-0.08840989463540577\n",
            "-0.08804424386299012\n",
            "-0.08738406153384612\n",
            "-0.08638469107752862\n",
            "-0.08572373633643336\n",
            "-0.08482285053963362\n",
            "-0.08462203301452154\n",
            "-0.08372471534286444\n",
            "-0.08299388662591084\n",
            "-0.08214246543526087\n",
            "-0.08203801273757962\n",
            "-0.081461099764241\n",
            "-0.08110635944917323\n",
            "-0.08126903582306184\n",
            "-0.08008933382963239\n",
            "-0.07935178027989341\n",
            "-0.0788214674814078\n",
            "-0.07844655613618531\n",
            "-0.07829539147695738\n"
          ]
        }
      ]
    },
    {
      "cell_type": "code",
      "metadata": {
        "colab": {
          "base_uri": "https://localhost:8080/"
        },
        "id": "oNp7qDRR0v4L",
        "outputId": "ff84ed93-f7d8-4203-8b34-e0010ca54d20"
      },
      "source": [
        "print(f\"Обученная политика {policy_base}\")"
      ],
      "execution_count": 41,
      "outputs": [
        {
          "output_type": "stream",
          "name": "stdout",
          "text": [
            "Обученная политика {(17, 10, True): 1, (20, 8, False): 0, (17, 3, False): 0, (19, 10, True): 0, (16, 10, False): 1, (17, 10, False): 0, (16, 5, False): 0, (13, 3, False): 0, (19, 3, False): 0, (9, 2, False): 1, (16, 2, False): 0, (17, 1, False): 0, (20, 4, False): 0, (15, 4, True): 1, (18, 10, False): 0, (20, 6, False): 0, (18, 1, False): 0, (15, 10, True): 1, (15, 6, False): 0, (5, 3, False): 1, (12, 3, False): 1, (16, 3, True): 1, (12, 5, False): 0, (19, 5, False): 0, (15, 8, True): 1, (18, 8, True): 0, (17, 8, True): 1, (16, 8, False): 1, (20, 2, False): 0, (15, 4, False): 0, (13, 10, False): 1, (14, 10, False): 1, (19, 2, False): 0, (13, 1, True): 1, (20, 1, True): 0, (9, 3, False): 1, (13, 1, False): 1, (8, 3, False): 1, (13, 10, True): 1, (16, 4, False): 0, (12, 1, False): 1, (15, 1, False): 0, (9, 7, False): 1, (9, 8, False): 1, (11, 5, False): 1, (13, 8, False): 1, (18, 8, False): 0, (15, 10, False): 1, (20, 10, False): 0, (14, 10, True): 1, (20, 1, False): 0, (16, 1, True): 1, (19, 1, True): 0, (15, 2, False): 0, (21, 2, False): 0, (11, 1, False): 1, (14, 8, False): 1, (19, 8, False): 0, (19, 6, False): 0, (19, 7, False): 0, (21, 5, False): 0, (8, 7, False): 1, (11, 7, False): 1, (13, 7, False): 1, (14, 7, False): 1, (18, 7, False): 0, (17, 9, True): 0, (21, 9, True): 0, (20, 9, False): 0, (13, 5, True): 1, (13, 2, False): 0, (21, 10, True): 0, (5, 2, False): 0, (17, 9, False): 0, (13, 5, False): 0, (12, 7, False): 0, (10, 4, False): 1, (12, 10, False): 1, (19, 9, False): 0, (20, 5, False): 0, (4, 4, False): 0, (15, 3, False): 0, (14, 2, True): 1, (11, 6, False): 1, (14, 6, False): 0, (14, 4, False): 0, (6, 7, False): 1, (10, 7, False): 1, (16, 7, False): 1, (21, 8, True): 0, (21, 8, False): 0, (20, 3, False): 0, (11, 3, False): 1, (17, 3, True): 1, (12, 9, False): 1, (14, 1, False): 1, (6, 4, False): 1, (14, 5, False): 0, (17, 5, False): 0, (12, 1, True): 0, (8, 10, False): 1, (10, 10, False): 1, (11, 8, False): 1, (18, 9, True): 1, (9, 10, False): 1, (21, 10, False): 0, (5, 6, False): 1, (13, 7, True): 1, (16, 3, False): 0, (17, 5, True): 1, (21, 5, True): 0, (19, 10, False): 0, (12, 8, False): 1, (7, 7, False): 1, (17, 7, False): 0, (11, 10, False): 1, (6, 3, False): 1, (21, 4, True): 0, (19, 4, False): 0, (14, 3, False): 0, (10, 3, False): 1, (21, 3, True): 0, (21, 6, False): 0, (15, 8, False): 1, (17, 8, False): 0, (18, 3, False): 0, (10, 5, False): 1, (8, 8, False): 1, (19, 8, True): 0, (20, 10, True): 0, (6, 2, False): 1, (11, 4, False): 1, (15, 5, False): 0, (13, 9, False): 1, (10, 2, False): 1, (17, 2, False): 0, (20, 7, False): 0, (15, 9, False): 0, (4, 5, False): 1, (18, 9, False): 0, (10, 1, False): 1, (19, 1, False): 0, (17, 4, False): 0, (21, 7, True): 0, (12, 6, False): 0, (11, 2, False): 1, (18, 5, False): 0, (18, 2, False): 0, (6, 5, False): 1, (18, 10, True): 1, (16, 7, True): 1, (21, 7, False): 0, (13, 4, False): 0, (13, 6, False): 0, (17, 4, True): 1, (9, 5, False): 1, (16, 9, False): 1, (15, 9, True): 1, (16, 9, True): 1, (14, 5, True): 0, (20, 5, True): 0, (7, 4, False): 1, (12, 4, False): 1, (16, 6, False): 0, (21, 6, True): 0, (16, 1, False): 1, (9, 9, False): 1, (10, 9, False): 1, (7, 6, False): 1, (9, 6, False): 1, (20, 8, True): 0, (10, 6, False): 1, (14, 2, False): 0, (15, 7, False): 1, (21, 1, True): 0, (21, 1, False): 0, (10, 8, False): 1, (19, 9, True): 0, (18, 6, False): 0, (21, 2, True): 1, (7, 1, False): 1, (14, 9, False): 1, (7, 3, False): 1, (12, 2, False): 1, (16, 10, True): 1, (6, 10, False): 1, (20, 3, True): 0, (18, 2, True): 0, (13, 6, True): 1, (19, 6, True): 0, (18, 4, False): 0, (21, 3, False): 0, (14, 6, True): 1, (20, 6, True): 0, (17, 6, False): 0, (14, 8, True): 1, (20, 7, True): 0, (14, 4, True): 1, (7, 10, False): 1, (8, 4, False): 1, (8, 1, False): 0, (18, 5, True): 0, (4, 10, False): 1, (8, 9, False): 1, (7, 5, False): 1, (11, 9, False): 1, (16, 5, True): 1, (19, 4, True): 0, (21, 4, False): 0, (16, 8, True): 1, (13, 3, True): 1, (5, 9, False): 1, (7, 8, False): 1, (12, 9, True): 0, (18, 1, True): 0, (5, 8, False): 1, (13, 9, True): 1, (14, 7, True): 1, (7, 9, False): 1, (8, 6, False): 1, (6, 9, False): 1, (13, 4, True): 1, (18, 3, True): 0, (21, 9, False): 0, (6, 6, False): 0, (17, 7, True): 1, (18, 7, True): 1, (9, 4, False): 1, (15, 1, True): 0, (19, 5, True): 0, (15, 6, True): 1, (20, 9, True): 0, (4, 9, False): 1, (9, 1, False): 1, (19, 3, True): 0, (8, 2, False): 1, (15, 5, True): 1, (17, 1, True): 1, (16, 2, True): 1, (5, 5, False): 1, (20, 4, True): 0, (8, 5, False): 1, (12, 8, True): 1, (14, 3, True): 1, (15, 2, True): 1, (19, 7, True): 0, (17, 6, True): 1, (14, 9, True): 1, (12, 2, True): 1, (18, 4, True): 0, (17, 2, True): 1, (7, 2, False): 1, (5, 1, False): 1, (16, 6, True): 1, (5, 7, False): 1, (6, 1, False): 0, (19, 2, True): 0, (12, 6, True): 1, (12, 5, True): 1, (5, 10, False): 1, (13, 8, True): 1, (12, 10, True): 1, (6, 8, False): 1, (20, 2, True): 0, (13, 2, True): 1, (15, 7, True): 1, (16, 4, True): 1, (18, 6, True): 0, (14, 1, True): 1, (4, 1, False): 0, (4, 3, False): 0, (15, 3, True): 1, (4, 8, False): 1, (4, 6, False): 1, (12, 4, True): 0, (12, 3, True): 1, (4, 2, False): 1, (5, 4, False): 0, (12, 7, True): 1, (4, 7, False): 1}\n"
          ]
        }
      ]
    },
    {
      "cell_type": "markdown",
      "metadata": {
        "id": "o2sUu98r8gUE"
      },
      "source": [
        "График изменения средней награды по мере обучения"
      ]
    },
    {
      "cell_type": "code",
      "metadata": {
        "colab": {
          "base_uri": "https://localhost:8080/",
          "height": 297
        },
        "id": "0a3mpSyC83xF",
        "outputId": "50adaff5-3d61-43c3-cdb0-5b8b95f99338"
      },
      "source": [
        "plt.plot( range(200000), result_base)\n",
        "plt.title(\"Базовая среда, средняя награда по мере обучения\")"
      ],
      "execution_count": 45,
      "outputs": [
        {
          "output_type": "execute_result",
          "data": {
            "text/plain": [
              "Text(0.5, 1.0, 'Базовая среда, средняя награда по мере обучения')"
            ]
          },
          "metadata": {},
          "execution_count": 45
        },
        {
          "output_type": "display_data",
          "data": {
            "image/png": "[encoded data removed]",
            "text/plain": [
              "<Figure size 432x288 with 1 Axes>"
            ]
          },
          "metadata": {
            "needs_background": "light"
          }
        }
      ]
    },
    {
      "cell_type": "markdown",
      "metadata": {
        "id": "bYb1mysp84EO"
      },
      "source": [
        "Рассчитанная средняя награда по 100000 эпизодам на лучшей обученной политике"
      ]
    },
    {
      "cell_type": "code",
      "metadata": {
        "id": "uy8KTPMn-fHY"
      },
      "source": [
        "def policy_func(state):\n",
        "  return policy_base[state]"
      ],
      "execution_count": 75,
      "outputs": []
    },
    {
      "cell_type": "code",
      "metadata": {
        "id": "CU8lwuRK-VWK"
      },
      "source": [
        "num_episodes = 100000\n",
        "rewards_base_best = (get_rewards(policy_func, env, num_episodes))\n"
      ],
      "execution_count": 77,
      "outputs": []
    },
    {
      "cell_type": "code",
      "metadata": {
        "colab": {
          "base_uri": "https://localhost:8080/"
        },
        "id": "MoJ1eBfz-VWW",
        "outputId": "d0c275d4-1b2c-46fa-d60b-a371a24a9dff"
      },
      "source": [
        "print(f\"Средний выигрыш по полученной политике {np.mean(rewards_base_best)}\")"
      ],
      "execution_count": 78,
      "outputs": [
        {
          "output_type": "stream",
          "name": "stdout",
          "text": [
            "Средний выигрыш по полученной политике -0.05626\n"
          ]
        }
      ]
    },
    {
      "cell_type": "markdown",
      "metadata": {
        "id": "hVGApJrI7ZkD"
      },
      "source": [
        "Часть вторая, удвоенная\n",
        "\n",
        "В базовый блекджек, описанный в предыдущем разделе, обыграть казино вряд ли получится. Но, к счастью, на этом история не заканчивается. Описанные выше правила были упрощёнными, а на самом деле у игрока есть ещё и другие возможности. Реализовывать split может оказаться непросто, поэтому давайте ограничимся удвоением ставки. Итак, у игрока появляется дополнительное действие:\n",
        "\n",
        "double — удвоить ставку; при этом больше действий делать нельзя, игроку выдаётся ровно одна дополнительная карта, а выигрыш или проигрыш удваивается.\n",
        "\n",
        "Реализуйте новый вариант блекджека на основе окружения Blackjack-v0 из OpenAI Gym, в котором разрешено удвоение ставки.\n"
      ]
    },
    {
      "cell_type": "code",
      "metadata": {
        "id": "bBuDT2XcMfIj"
      },
      "source": [
        "def cmp(a, b):\n",
        "    return float(a > b) - float(a < b)\n",
        "\n",
        "\n",
        "# 1 = Ace, 2-10 = Number cards, Jack/Queen/King = 10\n",
        "deck = [1, 2, 3, 4, 5, 6, 7, 8, 9, 10, 10, 10, 10]\n",
        "\n",
        "\n",
        "def draw_card(np_random):\n",
        "    return int(np_random.choice(deck))\n",
        "\n",
        "\n",
        "def draw_hand(np_random):\n",
        "    return [draw_card(np_random), draw_card(np_random)]\n",
        "\n",
        "\n",
        "def usable_ace(hand):  # Does this hand have a usable ace?\n",
        "    return 1 in hand and sum(hand) + 10 <= 21\n",
        "\n",
        "\n",
        "def sum_hand(hand):  # Return current hand total\n",
        "    if usable_ace(hand):\n",
        "        return sum(hand) + 10\n",
        "    return sum(hand)\n",
        "\n",
        "\n",
        "def is_bust(hand):  # Is this hand a bust?\n",
        "    return sum_hand(hand) > 21\n",
        "\n",
        "\n",
        "def score(hand):  # What is the score of this hand (0 if bust)\n",
        "    return 0 if is_bust(hand) else sum_hand(hand)\n",
        "\n",
        "\n",
        "def is_natural(hand):  # Is this hand a natural blackjack?\n",
        "    return sorted(hand) == [1, 10]\n",
        "\n"
      ],
      "execution_count": 5,
      "outputs": []
    },
    {
      "cell_type": "code",
      "metadata": {
        "id": "KwScOAs4Lt9U"
      },
      "source": [
        "class BlackjackEnv(gym.Env):\n",
        "    def __init__(self, natural=False):\n",
        "        self.action_space = spaces.Discrete(3)\n",
        "        self.observation_space = spaces.Tuple(\n",
        "            (spaces.Discrete(32), spaces.Discrete(11), spaces.Discrete(2))\n",
        "        )\n",
        "        self.seed()\n",
        "\n",
        "        # Flag to payout 1.5 on a \"natural\" blackjack win, like casino rules\n",
        "        # Ref: http://www.bicyclecards.com/how-to-play/blackjack/\n",
        "        self.natural = natural\n",
        "\n",
        "        # Flag for full agreement with the (Sutton and Barto, 2018) definition. Overrides self.natural\n",
        "        #self.sab = sab\n",
        "\n",
        "    def seed(self, seed=None):\n",
        "        self.np_random, seed = seeding.np_random(seed)\n",
        "        return [seed]\n",
        "\n",
        "    def step(self, action):\n",
        "        #print(action)\n",
        "        assert self.action_space.contains(action)\n",
        "        if (action == 2):\n",
        "           done = True\n",
        "           self.player.append(draw_card(self.np_random))\n",
        "           if is_bust(self.player):\n",
        "                done = True\n",
        "                reward = -2.0\n",
        "           else: #then dealer starts his step\n",
        "                while sum_hand(self.dealer) < 17:\n",
        "                    self.dealer.append(draw_card(self.np_random))\n",
        "                reward = 2 * cmp(score(self.player), score(self.dealer))\n",
        "                #if reward < 0:\n",
        "                #   if is_natural(self.dealer):    \n",
        "                #      reward = -3\n",
        "        \n",
        "        elif action == 1:  # hit: add a card to players hand and return\n",
        "            self.player.append(draw_card(self.np_random))\n",
        "            if is_bust(self.player):\n",
        "                done = True\n",
        "                reward = -1.0\n",
        "            else:\n",
        "                done = False\n",
        "                reward = 0.0\n",
        "        else:  # stick: play out the dealers hand, and score\n",
        "            done = True\n",
        "            while sum_hand(self.dealer) < 17:\n",
        "                self.dealer.append(draw_card(self.np_random))\n",
        "            reward = cmp(score(self.player), score(self.dealer))\n",
        "            if is_natural(self.player) and not is_natural(self.dealer):\n",
        "                # Player automatically wins. Rules consistent with S&B\n",
        "                reward = 1.0\n",
        "            elif (self.natural   and is_natural(self.player) and reward == 1.0\n",
        "            ):\n",
        "                # Natural gives extra points, but doesn't autowin. Legacy implementation\n",
        "                reward = 1.5\n",
        "        return self._get_obs(), reward, done, {}\n",
        "\n",
        "    def _get_obs(self):\n",
        "        return (sum_hand(self.player), self.dealer[0], usable_ace(self.player))\n",
        "\n",
        "    def reset(self):\n",
        "        self.dealer = draw_hand(self.np_random)\n",
        "        self.player = draw_hand(self.np_random)\n",
        "        return self._get_obs()"
      ],
      "execution_count": 65,
      "outputs": []
    },
    {
      "cell_type": "markdown",
      "metadata": {
        "id": "VvySaH5-7jZL"
      },
      "source": [
        "Запускаем обучение методом Monte Carlo control для окружения с командой double"
      ]
    },
    {
      "cell_type": "code",
      "metadata": {
        "colab": {
          "base_uri": "https://localhost:8080/"
        },
        "id": "lCCklIUOzhVj",
        "outputId": "5f907871-fee3-45d5-c980-aeb6ba4b3fa3"
      },
      "source": [
        "eps_min = 0.01\n",
        "eps_decay = 0.9\n",
        "alpha = 0.01\n",
        "gamma = 1.0\n",
        "NSTATES = 3\n",
        "    \n",
        "env_double = BlackjackEnv()  \n",
        "base_double = mc_control(env_double,  eps_decay, eps_min, alpha, gamma, NSTATES, 200000)\n",
        "policy_double, Q_double, result_double = base_double.learn()"
      ],
      "execution_count": 66,
      "outputs": [
        {
          "output_type": "stream",
          "name": "stdout",
          "text": [
            "-0.20344068813762753\n",
            "-0.1931193119311931\n",
            "-0.19401293419561305\n",
            "-0.1808590429521476\n",
            "-0.1765670626825073\n",
            "-0.16573885796193205\n",
            "-0.1612046058458813\n",
            "-0.1550788769719243\n",
            "-0.15113669192648727\n",
            "-0.14446288925778517\n",
            "-0.14143893525336823\n",
            "-0.13595226587109785\n",
            "-0.13334051293096816\n",
            "-0.1302018600265718\n",
            "-0.12690835877811704\n",
            "-0.12371404642558032\n",
            "-0.12098965870186708\n",
            "-0.11920132445916065\n",
            "-0.11607490605164265\n",
            "-0.11488114881148812\n",
            "-0.11342965171096868\n",
            "-0.11057373248847717\n",
            "-0.1093052983069418\n",
            "-0.10652588771573096\n",
            "-0.10547284378275026\n",
            "-0.10351618089369918\n",
            "-0.10216371973125726\n",
            "-0.10060071857656126\n",
            "-0.09831102283464024\n",
            "-0.09695397969319795\n",
            "-0.09514254930676973\n",
            "-0.0942693391833699\n",
            "-0.09304298813932206\n",
            "-0.09144759675056913\n",
            "-0.09066337521928697\n",
            "-0.08969494274968194\n",
            "-0.08875183109097887\n",
            "-0.08831099111047953\n",
            "-0.0874927563731096\n",
            "-0.08701543507717538\n"
          ]
        }
      ]
    },
    {
      "cell_type": "markdown",
      "metadata": {
        "id": "45DX37cWBCTz"
      },
      "source": [
        ""
      ]
    },
    {
      "cell_type": "code",
      "metadata": {
        "colab": {
          "base_uri": "https://localhost:8080/"
        },
        "id": "UfyR0hzTBCt5",
        "outputId": "0be3344f-4483-4131-c6c2-0e34bed40e12"
      },
      "source": [
        "print(f\"Обученная политика c double {policy_double}\")"
      ],
      "execution_count": 67,
      "outputs": [
        {
          "output_type": "stream",
          "name": "stdout",
          "text": [
            "Обученная политика c double {(15, 10, False): 1, (19, 6, False): 0, (15, 1, False): 1, (19, 5, True): 0, (12, 9, False): 1, (12, 10, False): 1, (10, 6, False): 2, (20, 6, False): 0, (16, 1, False): 1, (12, 6, False): 0, (21, 8, True): 0, (20, 10, False): 0, (21, 10, False): 0, (17, 3, True): 1, (20, 3, True): 0, (15, 4, False): 0, (17, 8, False): 0, (20, 5, False): 0, (20, 1, False): 0, (11, 7, False): 2, (18, 3, False): 0, (21, 10, True): 0, (13, 3, False): 0, (21, 2, True): 0, (21, 2, False): 0, (13, 2, False): 0, (20, 5, True): 1, (12, 8, False): 1, (13, 5, False): 0, (14, 10, False): 1, (14, 8, False): 1, (9, 2, False): 1, (19, 10, False): 0, (11, 3, False): 2, (21, 3, True): 0, (18, 9, False): 0, (20, 9, False): 0, (20, 7, False): 0, (16, 3, False): 0, (17, 10, False): 0, (6, 5, False): 1, (14, 5, False): 0, (7, 8, False): 1, (16, 10, False): 0, (6, 7, False): 1, (14, 7, False): 1, (17, 4, True): 2, (19, 8, False): 0, (20, 9, True): 0, (10, 3, False): 2, (16, 8, False): 1, (21, 6, True): 0, (17, 6, False): 0, (15, 5, True): 1, (16, 5, True): 2, (20, 4, False): 0, (11, 2, False): 1, (14, 1, False): 1, (10, 5, False): 2, (19, 5, False): 0, (7, 10, False): 1, (10, 10, False): 1, (20, 10, True): 0, (20, 8, False): 0, (15, 7, False): 1, (18, 10, False): 0, (10, 9, False): 2, (6, 10, False): 1, (8, 10, False): 1, (14, 10, True): 1, (13, 8, False): 1, (13, 10, False): 1, (15, 4, True): 2, (10, 4, False): 2, (18, 7, True): 0, (14, 4, False): 0, (21, 9, True): 0, (11, 10, False): 1, (13, 6, False): 0, (14, 4, True): 1, (19, 4, True): 2, (17, 4, False): 0, (12, 2, False): 0, (9, 10, False): 1, (14, 9, False): 1, (21, 7, True): 0, (16, 7, False): 1, (8, 6, False): 2, (14, 3, False): 0, (12, 3, False): 0, (14, 2, True): 1, (14, 2, False): 0, (19, 9, False): 0, (13, 7, False): 1, (9, 7, False): 2, (19, 7, False): 0, (5, 2, False): 2, (13, 9, True): 1, (21, 5, True): 0, (14, 6, False): 0, (15, 6, False): 0, (18, 1, False): 0, (7, 7, False): 1, (11, 4, False): 1, (4, 3, False): 1, (15, 10, True): 1, (15, 9, False): 1, (19, 3, True): 0, (18, 4, True): 2, (18, 4, False): 0, (17, 5, True): 2, (15, 5, False): 0, (18, 3, True): 0, (12, 4, False): 0, (19, 10, True): 0, (8, 9, False): 1, (17, 9, False): 0, (11, 6, False): 2, (19, 7, True): 2, (19, 3, False): 0, (17, 2, True): 2, (7, 5, False): 1, (20, 2, False): 0, (18, 6, False): 0, (17, 3, False): 0, (13, 4, False): 1, (18, 5, False): 0, (6, 8, False): 1, (17, 2, False): 0, (10, 7, False): 1, (12, 6, True): 2, (16, 6, True): 1, (19, 2, True): 0, (19, 2, False): 0, (16, 9, False): 1, (8, 1, False): 1, (15, 8, True): 1, (12, 7, False): 1, (6, 4, False): 1, (6, 9, False): 1, (18, 2, False): 0, (20, 6, True): 0, (16, 6, False): 0, (18, 2, True): 0, (16, 4, False): 0, (13, 9, False): 1, (15, 2, False): 1, (9, 8, False): 1, (5, 7, False): 1, (18, 8, False): 0, (12, 5, False): 0, (7, 3, False): 2, (4, 10, False): 1, (14, 9, True): 1, (21, 9, False): 0, (16, 10, True): 1, (9, 1, False): 1, (13, 7, True): 1, (15, 8, False): 1, (17, 1, False): 0, (17, 10, True): 1, (15, 3, False): 0, (19, 1, False): 0, (19, 4, False): 0, (8, 3, False): 1, (13, 1, True): 1, (8, 7, False): 1, (18, 7, False): 0, (8, 2, False): 0, (21, 6, False): 0, (13, 1, False): 1, (17, 5, False): 0, (14, 3, True): 1, (18, 10, True): 0, (18, 5, True): 1, (11, 5, False): 1, (17, 9, True): 1, (21, 4, True): 0, (12, 5, True): 1, (21, 1, True): 0, (21, 1, False): 0, (12, 1, False): 1, (16, 2, False): 0, (17, 7, False): 0, (16, 5, False): 0, (8, 4, False): 1, (19, 1, True): 0, (20, 1, True): 0, (5, 3, False): 1, (10, 8, False): 1, (11, 1, False): 1, (7, 2, False): 1, (9, 9, False): 1, (6, 3, False): 1, (4, 8, False): 1, (9, 4, False): 1, (20, 2, True): 0, (17, 8, True): 0, (5, 9, False): 1, (6, 6, False): 0, (17, 1, True): 0, (4, 4, False): 0, (5, 10, False): 1, (13, 8, True): 1, (11, 8, False): 2, (7, 9, False): 1, (20, 3, False): 0, (16, 9, True): 1, (4, 9, False): 0, (13, 10, True): 1, (20, 8, True): 0, (15, 1, True): 0, (19, 8, True): 0, (5, 1, False): 2, (21, 7, False): 0, (10, 1, False): 1, (13, 5, True): 1, (9, 6, False): 1, (21, 4, False): 0, (18, 8, True): 0, (21, 5, False): 0, (9, 3, False): 2, (10, 2, False): 1, (13, 3, True): 1, (16, 4, True): 1, (12, 10, True): 0, (12, 1, True): 1, (5, 8, False): 1, (14, 1, True): 1, (8, 8, False): 1, (7, 1, False): 1, (21, 8, False): 0, (19, 9, True): 0, (4, 1, False): 0, (7, 6, False): 1, (13, 6, True): 1, (17, 6, True): 1, (7, 4, False): 1, (14, 5, True): 1, (15, 7, True): 1, (16, 7, True): 1, (9, 5, False): 1, (4, 2, False): 0, (5, 4, False): 2, (15, 6, True): 2, (14, 8, True): 1, (16, 3, True): 1, (16, 2, True): 1, (13, 4, True): 1, (5, 5, False): 1, (19, 6, True): 2, (17, 7, True): 1, (21, 3, False): 0, (11, 9, False): 1, (18, 1, True): 2, (16, 1, True): 1, (15, 2, True): 1, (4, 6, False): 1, (16, 8, True): 2, (20, 7, True): 0, (12, 3, True): 1, (6, 1, False): 1, (6, 2, False): 1, (14, 6, True): 1, (18, 9, True): 2, (15, 9, True): 1, (4, 7, False): 1, (14, 7, True): 1, (12, 8, True): 1, (20, 4, True): 2, (13, 2, True): 2, (5, 6, False): 1, (15, 3, True): 2, (8, 5, False): 1, (18, 6, True): 2, (4, 5, False): 1, (12, 7, True): 1, (12, 2, True): 1, (12, 4, True): 1, (12, 9, True): 1}\n"
          ]
        }
      ]
    },
    {
      "cell_type": "code",
      "metadata": {
        "colab": {
          "base_uri": "https://localhost:8080/",
          "height": 297
        },
        "id": "yy_1nvqiBCt6",
        "outputId": "a5d5e0c6-7a70-41f7-b02a-e6298b21c787"
      },
      "source": [
        "plt.plot( range(200000), result_double)\n",
        "plt.title(\"Cреда c double, средняя награда по мере обучения\")"
      ],
      "execution_count": 68,
      "outputs": [
        {
          "output_type": "execute_result",
          "data": {
            "text/plain": [
              "Text(0.5, 1.0, 'Cреда c double, средняя награда по мере обучения')"
            ]
          },
          "metadata": {},
          "execution_count": 68
        },
        {
          "output_type": "display_data",
          "data": {
            "image/png": "[encoded data removed]",
            "text/plain": [
              "<Figure size 432x288 with 1 Axes>"
            ]
          },
          "metadata": {
            "needs_background": "light"
          }
        }
      ]
    },
    {
      "cell_type": "code",
      "metadata": {
        "id": "u4wA9zz1BCt6"
      },
      "source": [
        "def policy_func_double(state):\n",
        "  return policy_double[state]"
      ],
      "execution_count": 69,
      "outputs": []
    },
    {
      "cell_type": "code",
      "metadata": {
        "id": "6BGwvhZ4BCt7"
      },
      "source": [
        "num_episodes = 100000\n",
        "rewards_double_best = (get_rewards(policy_func_double, env_double,  num_episodes))\n"
      ],
      "execution_count": 72,
      "outputs": []
    },
    {
      "cell_type": "code",
      "metadata": {
        "colab": {
          "base_uri": "https://localhost:8080/"
        },
        "id": "L_pMzrmVBCt7",
        "outputId": "b2a5ffcb-0c84-4051-bdde-bcf75726cf40"
      },
      "source": [
        "print(f\"Средний выигрыш по в полученной стратегии  {np.mean(rewards_double_best)}\")"
      ],
      "execution_count": 74,
      "outputs": [
        {
          "output_type": "stream",
          "name": "stdout",
          "text": [
            "Средний выигрыш по в полученной стратегии  -0.05027\n"
          ]
        }
      ]
    },
    {
      "cell_type": "markdown",
      "metadata": {
        "id": "yEAxfP6CA7ny"
      },
      "source": [
        "Реализуйте вариант окружения Blackjack-v0 из предыдущей части (с удвоением), в котором игрок имеет возможность “считать карты” в колоде. Это можно сделать разными способами; возможно, вам поможет статья википедии о блекджеке (а возможно, и нет).\n",
        "\n",
        "Реализуйте метод обучения с подкреплением без модели для этого варианта, постройте графики, аналогичные п.2.\n"
      ]
    },
    {
      "cell_type": "code",
      "metadata": {
        "id": "UdFsTsAKIW2i"
      },
      "source": [
        "import random\n",
        "class BlackjackEnvCountCards(gym.Env):\n",
        "    def __init__(self, natural=False):\n",
        "        self.cards_out_sum = 0\n",
        "        self.action_space = spaces.Discrete(3)\n",
        "        self.observation_space = spaces.Tuple(\n",
        "            (spaces.Discrete(32), spaces.Discrete(11), spaces.Discrete(2), spaces.Discrete(41))\n",
        "        )\n",
        "        self.seed()\n",
        "\n",
        "        # Flag to payout 1.5 on a \"natural\" blackjack win, like casino rules\n",
        "        # Ref: http://www.bicyclecards.com/how-to-play/blackjack/\n",
        "        self.natural = natural\n",
        "        self.deck = []\n",
        "        self.reset_deck()\n",
        "        self.dealer = []\n",
        "        self.player = []\n",
        "                          #[1, 2, 3, 4, 5, 6, 7, 8, 9, 10]        \n",
        "        self.card_values =[-1, 1, 1, 1, 1, 1, 0, 0, 0, -1 ]\n",
        "        \n",
        "\n",
        "    def seed(self, seed=None):\n",
        "        self.np_random, seed = seeding.np_random(seed)\n",
        "        return [seed]\n",
        "\n",
        "    def get_deсk_status(self):\n",
        "        return (self.cards_out_sum + 20)     \n",
        "\n",
        "    def _get_obs(self):\n",
        "        return (sum_hand(self.player), self.dealer[0], usable_ace(self.player), self.get_deсk_status())\n",
        "    \n",
        "        \n",
        "    def reset_deck(self):        \n",
        "        self.deck = [1, 2, 3, 4, 5, 6, 7, 8, 9, 10, 10, 10, 10] * 4\n",
        "        random.shuffle(self.deck)\n",
        "        self.cards_out_sum = 0\n",
        "        \n",
        "\n",
        "\n",
        "    def new_game(self):\n",
        "        self.dealer = []\n",
        "        self.dealer.append(self.draw_card())\n",
        "        self.dealer.append(self.draw_card(False))\n",
        "        self.player = []\n",
        "        self.player.append(self.draw_card())\n",
        "        self.player.append(self.draw_card())\n",
        "        return self._get_obs()\n",
        "\n",
        "    def draw_card(self, is_shown = True):\n",
        "        card = self.deck.pop()\n",
        "        if is_shown:\n",
        "            self.cards_out_sum += self.get_value(card)\n",
        "        if len(self.deck) < 15:\n",
        "            self.reset_deck()\n",
        "        return card   \n",
        "\n",
        "    def step(self, action):\n",
        "        assert self.action_space.contains(action)\n",
        "        if (action == 2):\n",
        "           done = True\n",
        "           self.player.append(self.draw_card())\n",
        "           if is_bust(self.player):\n",
        "                done = True\n",
        "                reward = -2.0\n",
        "           else: #then dealer starts his step\n",
        "                while sum_hand(self.dealer) < 17:\n",
        "                    self.dealer.append(self.draw_card(False))\n",
        "                reward = 2 * cmp(score(self.player), score(self.dealer))\n",
        "                #if reward < 0:\n",
        "                #   if is_natural(self.dealer):    \n",
        "                #      reward = -3\n",
        "        \n",
        "        elif action == 1:  # hit: add a card to players hand and return\n",
        "            self.player.append(self.draw_card())\n",
        "            if is_bust(self.player):\n",
        "                done = True\n",
        "                reward = -1.0\n",
        "            else:\n",
        "                done = False\n",
        "                reward = 0.0\n",
        "        else:  # stick: play out the dealers hand, and score\n",
        "            done = True\n",
        "            while sum_hand(self.dealer) < 17:\n",
        "                self.dealer.append(self.draw_card(False))\n",
        "            reward = cmp(score(self.player), score(self.dealer))\n",
        "            if is_natural(self.player) and not is_natural(self.dealer):\n",
        "                # Player automatically wins. Rules consistent with S&B\n",
        "                reward = 1.0\n",
        "            elif (self.natural   and is_natural(self.player) and reward == 1.0\n",
        "            ):\n",
        "                # Natural gives extra points, but doesn't autowin. Legacy implementation\n",
        "                reward = 1.5\n",
        "        return self._get_obs(), reward, done, {}\n",
        "\n",
        "    def get_value(self, card):\n",
        "        return self.card_values[card - 1]\n",
        "\n",
        "    def reset(self):\n",
        "        return self.new_game()"
      ],
      "execution_count": 2,
      "outputs": []
    },
    {
      "cell_type": "markdown",
      "metadata": {
        "id": "30JwbUgdCDuD"
      },
      "source": [
        "Обучим методом Monte Carlo политику для среду с подсчетом карт."
      ]
    },
    {
      "cell_type": "code",
      "metadata": {
        "colab": {
          "base_uri": "https://localhost:8080/"
        },
        "id": "wWYtTQ6uWW87",
        "outputId": "609c217d-aa79-41a8-938a-4703e79a60b1"
      },
      "source": [
        "eps_min = 0.01\n",
        "eps_decay = 0.99\n",
        "alpha = 0.01\n",
        "gamma = 1.0\n",
        "NSTATES = 3\n",
        "env_count = BlackjackEnvCountCards()    \n",
        "base_count = mc_control(env_count,  eps_decay, eps_min, alpha, gamma, NSTATES, 300000)\n",
        "policy_count, Q_count, result_count = base_count.learn()"
      ],
      "execution_count": 9,
      "outputs": [
        {
          "output_type": "stream",
          "name": "stdout",
          "text": [
            "-0.33326665333066613\n",
            "-0.28432843284328435\n",
            "-0.25561704113607575\n",
            "-0.24726236311815591\n",
            "-0.23180927237089483\n",
            "-0.22150738357945265\n",
            "-0.21769193405525872\n",
            "-0.20728018200455012\n",
            "-0.2038045289895331\n",
            "-0.19886397727954558\n",
            "-0.19723994981726942\n",
            "-0.1935032250537509\n",
            "-0.1925106540100617\n",
            "-0.18875983942627753\n",
            "-0.18526913692182562\n",
            "-0.1812147651845648\n",
            "-0.17836680431534488\n",
            "-0.17692418804653384\n",
            "-0.17526500278950305\n",
            "-0.17262172621726218\n",
            "-0.17002066686349393\n",
            "-0.16937426703879127\n",
            "-0.16695797354759606\n",
            "-0.16445970383086525\n",
            "-0.1641293130345043\n",
            "-0.16267817444749574\n",
            "-0.16256416714197883\n",
            "-0.16210830077357696\n",
            "-0.1614011131111249\n",
            "-0.1603344022293482\n",
            "-0.15974296608365215\n",
            "-0.15895099344370903\n",
            "-0.15883126564403421\n",
            "-0.15805975329266642\n",
            "-0.15662946645409404\n",
            "-0.15518975105417251\n",
            "-0.15407650852166768\n",
            "-0.15365344028126462\n",
            "-0.1524674485510182\n",
            "-0.15197075985379926\n",
            "-0.15031292835574808\n",
            "-0.14983404682879442\n",
            "-0.1492099963255643\n",
            "-0.14882340374274428\n",
            "-0.14854288241281072\n",
            "-0.14778759907651773\n",
            "-0.14691126345218491\n",
            "-0.14662977762407342\n",
            "-0.14647406724109077\n",
            "-0.14602458409833638\n",
            "-0.14559272781461888\n",
            "-0.14567363720629695\n",
            "-0.1450118679693131\n",
            "-0.14411905229278626\n",
            "-0.14342597609445853\n",
            "-0.14270050964467731\n",
            "-0.14208470906915463\n",
            "-0.1417729026651816\n",
            "-0.14141742853365605\n",
            "-0.14094713649045496\n"
          ]
        }
      ]
    },
    {
      "cell_type": "code",
      "metadata": {
        "colab": {
          "base_uri": "https://localhost:8080/"
        },
        "id": "Y4AXBqrtCSj3",
        "outputId": "069ee8dc-4ef4-4d81-dadd-27ebefb15302"
      },
      "source": [
        "print(f\"Обученная политика c подсчетом карт {policy_count}\")"
      ],
      "execution_count": 10,
      "outputs": [
        {
          "output_type": "stream",
          "name": "stdout",
          "text": [
            "Обученная политика c подсчетом карт {(7, 1, False, 21): 0, (13, 6, True, 22): 1, (15, 10, False, 21): 0, (21, 10, False, 22): 0, (16, 10, False, 21): 0, (20, 4, False, 19): 0, (13, 10, False, 18): 1, (11, 8, False, 19): 1, (13, 8, False, 20): 2, (18, 8, False, 21): 0, (20, 8, False, 22): 0, (14, 5, False, 20): 0, (14, 5, False, 22): 1, (19, 10, False, 20): 0, (14, 10, True, 19): 1, (18, 10, True, 20): 2, (18, 10, True, 17): 1, (16, 10, False, 17): 1, (12, 6, False, 18): 0, (14, 1, False, 17): 0, (21, 1, False, 17): 0, (5, 6, False, 23): 1, (20, 10, False, 20): 0, (14, 10, False, 19): 0, (17, 9, False, 19): 1, (19, 5, True, 20): 0, (17, 5, False, 19): 0, (16, 7, False, 20): 1, (20, 9, False, 18): 0, (17, 6, True, 19): 2, (9, 10, False, 19): 1, (17, 10, False, 19): 0, (18, 10, False, 18): 0, (17, 10, False, 16): 0, (13, 2, True, 16): 1, (18, 8, False, 19): 0, (14, 1, False, 18): 0, (13, 1, False, 19): 1, (12, 6, False, 20): 0, (9, 10, False, 22): 2, (19, 10, False, 21): 0, (19, 1, False, 19): 0, (17, 7, False, 20): 0, (15, 6, False, 21): 0, (6, 5, False, 23): 1, (14, 10, False, 23): 2, (13, 10, True, 22): 1, (14, 10, False, 21): 1, (18, 5, False, 20): 0, (12, 1, False, 20): 1, (13, 5, False, 21): 0, (17, 8, False, 21): 0, (9, 1, False, 22): 1, (20, 1, True, 21): 0, (12, 2, False, 22): 1, (13, 10, False, 22): 1, (12, 10, False, 21): 1, (21, 10, False, 21): 0, (15, 6, False, 23): 0, (19, 6, False, 24): 0, (18, 7, False, 24): 0, (6, 10, False, 24): 1, (12, 3, False, 25): 1, (17, 10, False, 22): 1, (19, 5, False, 22): 0, (13, 4, False, 23): 1, (18, 4, False, 20): 0, (13, 7, False, 20): 1, (20, 10, True, 18): 0, (21, 10, True, 17): 0, (8, 2, False, 21): 1, (10, 10, False, 22): 1, (19, 1, False, 20): 0, (15, 3, False, 22): 0, (8, 10, False, 21): 1, (12, 3, False, 22): 2, (12, 10, True, 19): 1, (12, 8, False, 19): 1, (18, 8, False, 20): 0, (20, 3, False, 22): 0, (12, 9, False, 22): 2, (18, 1, False, 18): 0, (20, 10, False, 16): 0, (13, 10, False, 17): 1, (15, 4, True, 17): 0, (14, 9, False, 18): 2, (16, 9, False, 19): 2, (11, 10, False, 20): 1, (17, 9, False, 20): 1, (11, 8, False, 23): 1, (10, 7, False, 25): 2, (15, 10, False, 24): 1, (12, 1, False, 24): 0, (19, 1, False, 24): 1, (16, 10, False, 22): 1, (4, 5, False, 25): 2, (10, 4, False, 21): 2, (20, 4, False, 20): 0, (14, 6, False, 21): 1, (13, 2, False, 22): 0, (19, 8, False, 22): 0, (6, 2, False, 25): 2, (9, 4, False, 26): 1, (19, 4, False, 25): 0, (21, 5, True, 19): 0, (15, 5, False, 20): 1, (16, 10, False, 18): 0, (9, 2, False, 22): 2, (9, 5, False, 25): 2, (12, 2, False, 26): 0, (11, 5, False, 22): 2, (9, 9, False, 23): 1, (20, 5, False, 22): 0, (13, 8, False, 22): 2, (19, 10, True, 20): 1, (15, 1, False, 19): 1, (9, 10, False, 20): 1, (19, 10, False, 19): 0, (13, 4, False, 20): 1, (12, 6, False, 22): 0, (13, 6, False, 23): 0, (12, 1, False, 22): 2, (9, 3, False, 25): 2, (14, 10, True, 24): 1, (12, 10, False, 24): 1, (12, 1, False, 19): 1, (11, 2, False, 21): 1, (16, 4, True, 21): 1, (13, 4, False, 21): 0, (12, 10, False, 23): 0, (13, 7, False, 24): 0, (7, 4, False, 27): 0, (18, 1, False, 25): 0, (8, 6, False, 22): 1, (21, 10, True, 19): 0, (20, 1, False, 16): 0, (18, 4, True, 16): 1, (20, 9, False, 14): 0, (12, 1, False, 14): 1, (21, 1, False, 14): 0, (19, 5, False, 14): 0, (13, 5, False, 20): 0, (12, 5, False, 22): 0, (21, 9, True, 19): 0, (14, 2, False, 19): 0, (12, 5, False, 20): 0, (11, 2, False, 20): 1, (20, 7, False, 18): 0, (8, 6, False, 20): 1, (12, 6, False, 21): 1, (7, 8, False, 23): 0, (21, 7, True, 20): 0, (20, 7, False, 20): 0, (21, 4, True, 19): 0, (15, 4, False, 20): 0, (21, 4, False, 21): 0, (13, 3, False, 22): 1, (5, 5, False, 23): 0, (17, 7, False, 22): 0, (20, 6, True, 22): 0, (21, 6, True, 21): 0, (15, 6, False, 22): 0, (18, 6, False, 21): 0, (15, 10, True, 20): 1, (13, 1, False, 20): 0, (7, 10, False, 21): 1, (14, 1, False, 19): 1, (19, 5, False, 19): 0, (8, 8, False, 20): 1, (16, 8, False, 20): 0, (19, 2, False, 19): 0, (20, 1, False, 17): 0, (13, 10, False, 16): 1, (15, 10, False, 17): 2, (10, 2, False, 22): 1, (17, 2, False, 22): 0, (15, 10, False, 22): 0, (18, 10, False, 23): 0, (18, 10, False, 20): 0, (14, 10, False, 20): 1, (19, 10, False, 18): 0, (9, 10, False, 18): 1, (17, 10, False, 18): 0, (15, 3, False, 20): 0, (10, 4, False, 22): 2, (19, 8, True, 21): 0, (16, 6, False, 21): 2, (13, 10, False, 20): 1, (20, 4, False, 18): 0, (8, 2, False, 20): 2, (18, 5, False, 19): 0, (6, 1, False, 20): 1, (20, 9, False, 17): 0, (15, 6, False, 18): 1, (8, 7, False, 20): 1, (13, 6, False, 20): 0, (20, 2, False, 18): 0, (21, 10, True, 15): 0, (10, 7, False, 16): 1, (20, 7, False, 15): 0, (19, 8, True, 14): 2, (16, 2, True, 16): 0, (17, 2, True, 15): 2, (17, 2, False, 14): 0, (21, 2, False, 15): 0, (10, 10, False, 15): 1, (12, 10, False, 19): 1, (16, 4, True, 19): 0, (16, 8, False, 19): 1, (16, 1, False, 19): 1, (8, 9, False, 22): 0, (20, 4, False, 22): 0, (15, 2, False, 21): 1, (19, 6, False, 20): 0, (20, 5, False, 17): 0, (21, 5, False, 16): 0, (17, 10, False, 14): 0, (14, 4, False, 16): 0, (21, 10, False, 18): 0, (18, 7, False, 16): 0, (19, 7, False, 15): 0, (18, 10, False, 14): 0, (11, 5, False, 17): 2, (16, 9, False, 20): 2, (20, 9, False, 21): 0, (5, 7, False, 22): 1, (12, 2, False, 24): 0, (19, 10, False, 22): 0, (16, 8, True, 21): 1, (11, 9, False, 22): 1, (13, 9, False, 23): 1, (19, 3, True, 21): 0, (14, 3, False, 22): 1, (21, 6, True, 20): 0, (12, 10, False, 20): 1, (18, 2, True, 20): 1, (13, 10, False, 19): 1, (20, 1, False, 20): 0, (8, 5, False, 23): 2, (18, 9, False, 21): 0, (12, 1, False, 21): 1, (15, 10, False, 19): 1, (20, 10, False, 19): 0, (14, 9, True, 21): 1, (20, 9, False, 19): 0, (7, 2, False, 23): 0, (10, 10, False, 20): 1, (16, 3, False, 23): 0, (12, 6, False, 23): 0, (12, 3, False, 23): 1, (11, 1, False, 22): 1, (16, 10, False, 20): 1, (10, 1, False, 21): 0, (16, 10, True, 20): 1, (18, 1, False, 19): 0, (19, 6, False, 18): 0, (15, 8, False, 18): 1, (17, 3, False, 18): 1, (17, 3, False, 20): 0, (19, 1, True, 19): 0, (17, 10, False, 17): 0, (14, 10, False, 18): 1, (9, 6, False, 20): 1, (18, 6, False, 20): 0, (8, 3, False, 22): 1, (11, 10, False, 22): 2, (12, 5, False, 23): 0, (19, 7, False, 21): 0, (8, 6, False, 24): 1, (19, 3, True, 24): 0, (14, 10, False, 24): 2, (16, 1, False, 20): 0, (12, 5, False, 21): 0, (15, 10, False, 20): 1, (15, 5, False, 21): 0, (19, 2, False, 21): 0, (10, 6, False, 23): 2, (12, 6, False, 24): 0, (10, 10, False, 25): 2, (19, 6, False, 25): 0, (19, 10, False, 23): 0, (14, 2, False, 24): 0, (7, 3, False, 27): 0, (15, 3, False, 27): 0, (9, 10, False, 21): 1, (17, 1, True, 18): 1, (12, 8, False, 18): 1, (16, 3, False, 19): 0, (20, 3, False, 20): 0, (13, 5, False, 22): 0, (14, 7, False, 22): 1, (18, 7, False, 23): 0, (20, 7, False, 24): 0, (13, 2, False, 21): 0, (17, 1, False, 17): 0, (14, 10, False, 16): 1, (21, 10, True, 13): 0, (14, 8, False, 19): 1, (20, 3, True, 19): 0, (17, 3, False, 19): 0, (21, 3, False, 20): 0, (17, 6, False, 20): 0, (11, 3, False, 22): 2, (8, 8, False, 22): 1, (19, 5, False, 20): 0, (16, 3, False, 21): 0, (18, 10, False, 17): 0, (20, 10, False, 18): 0, (7, 2, False, 21): 2, (11, 7, False, 22): 2, (20, 7, False, 21): 0, (12, 10, True, 18): 1, (5, 6, False, 21): 0, (13, 9, False, 20): 1, (14, 9, False, 19): 1, (20, 2, False, 17): 0, (13, 7, True, 18): 0, (12, 10, False, 18): 1, (17, 9, False, 17): 0, (12, 4, False, 19): 1, (16, 3, False, 20): 0, (19, 3, False, 19): 0, (9, 5, False, 21): 1, (16, 3, False, 22): 0, (19, 10, True, 21): 0, (21, 10, True, 22): 0, (5, 10, False, 23): 1, (7, 10, False, 24): 1, (19, 7, False, 23): 0, (14, 6, False, 20): 0, (12, 10, True, 17): 0, (12, 9, False, 18): 0, (14, 3, False, 19): 1, (19, 8, False, 18): 0, (10, 4, False, 19): 1, (16, 7, False, 18): 1, (19, 7, False, 19): 0, (15, 5, False, 22): 0, (20, 2, False, 20): 0, (15, 3, False, 21): 0, (19, 3, False, 22): 0, (14, 3, False, 21): 0, (15, 7, False, 21): 1, (16, 6, False, 23): 0, (5, 6, False, 26): 1, (15, 10, True, 23): 1, (18, 10, False, 19): 0, (13, 9, False, 18): 1, (21, 2, True, 17): 0, (21, 2, False, 16): 0, (12, 10, False, 17): 1, (18, 9, True, 17): 0, (16, 7, False, 17): 2, (21, 7, False, 18): 0, (14, 10, False, 17): 0, (17, 5, False, 16): 0, (12, 4, False, 16): 1, (15, 9, False, 16): 1, (11, 8, False, 17): 1, (14, 8, False, 18): 1, (20, 10, False, 17): 0, (15, 1, True, 17): 2, (20, 1, True, 18): 0, (19, 5, False, 21): 0, (17, 6, False, 22): 0, (6, 10, False, 23): 2, (14, 4, False, 21): 2, (16, 5, False, 23): 0, (11, 10, False, 23): 2, (15, 10, False, 23): 1, (19, 2, False, 22): 0, (17, 8, True, 22): 1, (19, 8, True, 20): 1, (9, 6, False, 23): 1, (19, 6, False, 22): 0, (15, 7, False, 22): 1, (20, 2, False, 21): 0, (21, 2, False, 20): 0, (17, 2, False, 20): 0, (19, 9, False, 21): 0, (21, 5, True, 20): 0, (7, 9, False, 21): 1, (7, 10, False, 20): 1, (15, 2, False, 20): 1, (21, 1, True, 16): 0, (17, 2, False, 16): 1, (11, 8, False, 20): 2, (10, 10, False, 18): 1, (21, 10, False, 16): 0, (13, 5, False, 18): 1, (13, 2, False, 20): 0, (18, 2, False, 21): 0, (6, 10, False, 21): 1, (21, 10, True, 16): 0, (21, 10, False, 15): 0, (14, 9, False, 15): 2, (14, 4, False, 15): 0, (5, 1, False, 16): 1, (19, 10, False, 14): 0, (12, 10, False, 16): 2, (14, 7, False, 20): 1, (16, 2, False, 19): 0, (17, 2, False, 18): 0, (18, 2, False, 17): 0, (19, 10, False, 15): 0, (10, 8, False, 17): 2, (20, 8, False, 16): 0, (18, 10, True, 14): 0, (10, 3, False, 17): 0, (20, 5, True, 20): 0, (20, 1, False, 18): 0, (12, 5, False, 19): 0, (18, 10, False, 16): 0, (10, 5, False, 18): 1, (13, 9, False, 21): 1, (9, 9, False, 22): 2, (15, 8, False, 21): 1, (6, 5, False, 24): 0, (9, 10, False, 26): 0, (16, 9, False, 26): 1, (14, 10, False, 25): 0, (17, 2, False, 21): 0, (21, 2, False, 22): 0, (16, 6, False, 20): 0, (17, 8, False, 20): 0, (17, 4, False, 22): 0, (9, 1, False, 23): 1, (11, 2, False, 24): 2, (14, 2, False, 25): 0, (16, 5, False, 25): 0, (16, 1, False, 24): 1, (17, 5, False, 21): 0, (12, 9, False, 21): 2, (7, 10, False, 22): 1, (13, 10, False, 23): 0, (17, 10, False, 21): 0, (11, 6, False, 21): 2, (14, 9, False, 20): 0, (14, 5, False, 19): 1, (16, 1, False, 16): 0, (12, 9, False, 15): 1, (9, 6, False, 21): 2, (14, 7, False, 21): 0, (9, 9, False, 24): 0, (19, 9, False, 23): 0, (15, 5, False, 25): 0, (10, 6, False, 27): 1, (19, 10, True, 25): 0, (14, 10, False, 26): 2, (19, 4, False, 20): 0, (15, 10, True, 18): 2, (10, 2, False, 19): 1, (18, 6, False, 19): 0, (5, 2, False, 22): 2, (15, 4, False, 24): 0, (21, 1, True, 22): 0, (21, 1, False, 21): 0, (20, 7, False, 19): 0, (7, 8, False, 22): 0, (9, 10, False, 23): 0, (11, 4, False, 22): 1, (14, 6, False, 23): 0, (20, 3, False, 21): 0, (11, 3, False, 21): 2, (7, 9, False, 23): 1, (15, 9, False, 23): 1, (14, 6, False, 25): 0, (11, 5, False, 27): 0, (11, 10, False, 27): 0, (12, 10, True, 23): 2, (18, 10, True, 24): 0, (16, 2, False, 20): 0, (5, 6, False, 24): 0, (7, 6, False, 25): 1, (14, 4, False, 25): 0, (14, 4, True, 25): 1, (12, 5, False, 26): 0, (15, 1, False, 15): 2, (10, 6, False, 18): 1, (12, 6, False, 19): 0, (11, 1, False, 20): 1, (18, 4, False, 19): 0, (5, 9, False, 20): 1, (15, 9, False, 19): 1, (14, 1, False, 22): 1, (20, 5, False, 20): 0, (20, 10, True, 16): 0, (16, 7, True, 16): 1, (20, 9, False, 15): 0, (6, 1, False, 17): 1, (17, 10, False, 20): 0, (21, 8, True, 19): 0, (14, 2, False, 20): 0, (14, 4, True, 21): 1, (12, 8, False, 20): 1, (6, 3, False, 22): 1, (14, 10, True, 21): 1, (19, 10, True, 22): 0, (19, 9, True, 22): 0, (14, 1, False, 20): 1, (16, 1, False, 21): 1, (13, 7, False, 21): 0, (14, 5, False, 23): 0, (18, 1, False, 22): 0, (10, 2, False, 25): 2, (20, 2, False, 24): 0, (14, 5, False, 24): 2, (17, 3, False, 21): 0, (20, 2, True, 21): 2, (15, 6, True, 24): 1, (13, 10, False, 21): 1, (19, 2, True, 21): 2, (16, 2, False, 21): 0, (9, 10, False, 24): 1, (14, 9, False, 24): 2, (12, 3, True, 24): 1, (11, 4, False, 25): 2, (20, 4, False, 25): 0, (16, 5, False, 22): 0, (19, 5, False, 23): 0, (6, 1, False, 25): 2, (14, 2, False, 26): 0, (17, 9, False, 24): 1, (20, 8, False, 19): 0, (18, 2, False, 19): 0, (11, 2, False, 19): 2, (19, 7, False, 22): 0, (20, 1, False, 13): 0, (16, 10, True, 13): 2, (15, 4, False, 14): 0, (8, 1, False, 15): 1, (7, 6, False, 23): 2, (17, 10, False, 23): 0, (21, 4, True, 22): 0, (13, 6, True, 21): 1, (16, 10, False, 19): 0, (14, 5, False, 21): 0, (16, 5, False, 20): 0, (10, 10, False, 19): 2, (17, 6, False, 18): 1, (15, 7, True, 20): 1, (5, 3, False, 22): 1, (14, 7, True, 20): 1, (12, 10, False, 22): 1, (21, 5, True, 18): 0, (18, 9, False, 15): 1, (15, 7, False, 14): 1, (15, 8, False, 13): 1, (13, 3, False, 13): 1, (12, 5, True, 11): 0, (11, 6, False, 20): 2, (16, 7, False, 22): 1, (17, 3, True, 23): 0, (17, 3, False, 22): 0, (7, 2, False, 25): 2, (17, 1, False, 24): 0, (15, 10, False, 18): 1, (11, 3, False, 20): 2, (14, 10, True, 20): 0, (20, 10, False, 15): 0, (18, 4, True, 20): 0, (20, 7, False, 16): 0, (11, 8, False, 16): 2, (15, 2, False, 14): 1, (21, 6, True, 17): 2, (13, 9, False, 17): 2, (18, 3, False, 17): 0, (20, 3, False, 18): 0, (21, 10, True, 14): 0, (21, 10, False, 13): 0, (19, 2, False, 20): 0, (9, 1, False, 19): 1, (19, 9, False, 17): 0, (17, 8, False, 18): 0, (12, 2, False, 21): 2, (19, 6, False, 21): 0, (21, 7, False, 21): 0, (17, 4, False, 19): 0, (8, 1, False, 16): 1, (10, 1, False, 17): 2, (9, 2, False, 18): 2, (19, 2, False, 17): 0, (17, 1, False, 16): 1, (16, 3, True, 18): 0, (12, 3, False, 19): 1, (18, 3, False, 20): 0, (17, 4, False, 20): 0, (8, 1, False, 21): 0, (12, 7, False, 22): 1, (12, 9, False, 20): 0, (13, 4, False, 19): 0, (11, 10, False, 17): 1, (21, 9, True, 14): 0, (17, 7, False, 14): 0, (14, 8, True, 20): 2, (5, 8, False, 22): 0, (10, 6, False, 24): 1, (20, 3, True, 24): 0, (9, 6, False, 24): 2, (8, 7, False, 22): 2, (6, 8, False, 27): 0, (20, 6, True, 27): 0, (20, 6, False, 26): 0, (6, 2, False, 27): 2, (12, 1, False, 28): 1, (14, 10, False, 22): 1, (21, 9, True, 17): 0, (19, 4, False, 18): 0, (8, 10, False, 19): 1, (12, 1, False, 18): 0, (19, 1, False, 18): 0, (10, 5, False, 19): 1, (21, 7, True, 18): 0, (15, 8, True, 17): 1, (18, 8, True, 18): 0, (21, 9, True, 15): 0, (13, 9, False, 16): 1, (9, 10, False, 17): 1, (7, 8, False, 20): 0, (11, 3, False, 24): 2, (20, 10, False, 21): 0, (18, 1, True, 19): 0, (6, 10, False, 22): 2, (11, 4, False, 24): 2, (21, 1, True, 20): 0, (13, 1, False, 18): 0, (14, 7, False, 19): 1, (15, 1, False, 20): 1, (16, 10, False, 16): 1, (14, 2, False, 18): 0, (18, 6, False, 18): 0, (14, 4, False, 19): 1, (20, 1, False, 14): 0, (11, 1, False, 13): 1, (21, 1, False, 12): 0, (11, 5, False, 14): 2, (17, 5, False, 14): 0, (13, 10, False, 15): 0, (12, 3, False, 18): 2, (14, 1, False, 16): 1, (16, 1, False, 17): 1, (16, 10, True, 16): 0, (20, 5, False, 18): 0, (4, 1, False, 18): 2, (16, 10, False, 15): 1, (9, 1, False, 16): 0, (17, 7, False, 21): 0, (18, 7, False, 20): 0, (16, 7, False, 19): 1, (14, 4, True, 17): 2, (14, 6, False, 19): 2, (11, 5, False, 23): 2, (20, 8, False, 18): 0, (11, 10, False, 16): 1, (18, 7, False, 15): 0, (13, 4, True, 16): 1, (18, 1, True, 14): 2, (8, 10, False, 15): 0, (20, 9, True, 19): 0, (17, 5, False, 18): 0, (21, 5, False, 19): 0, (10, 3, False, 22): 2, (19, 10, True, 19): 0, (18, 5, False, 18): 0, (15, 6, True, 21): 0, (15, 6, False, 20): 0, (14, 2, False, 22): 0, (14, 1, False, 21): 0, (14, 5, True, 22): 1, (21, 5, True, 22): 2, (21, 2, True, 20): 2, (16, 4, False, 24): 0, (7, 10, False, 25): 1, (20, 8, False, 23): 0, (17, 1, False, 22): 2, (19, 4, True, 19): 0, (12, 7, False, 20): 1, (9, 9, False, 21): 1, (19, 9, False, 20): 0, (18, 5, True, 20): 0, (8, 9, False, 23): 0, (21, 10, True, 20): 0, (11, 2, False, 23): 2, (21, 3, True, 18): 0, (12, 1, False, 17): 2, (15, 10, False, 16): 1, (20, 5, True, 16): 0, (17, 3, False, 15): 0, (20, 10, False, 12): 0, (14, 5, False, 13): 1, (8, 8, False, 21): 1, (10, 10, False, 21): 1, (11, 10, False, 21): 1, (9, 3, False, 23): 1, (19, 1, False, 21): 0, (10, 1, False, 20): 0, (19, 8, False, 19): 0, (13, 7, False, 19): 1, (20, 4, False, 16): 0, (13, 9, True, 15): 0, (11, 7, False, 16): 0, (21, 4, True, 15): 0, (18, 3, True, 20): 0, (13, 8, False, 21): 1, (19, 3, False, 21): 0, (19, 10, True, 23): 0, (15, 5, True, 21): 0, (9, 4, False, 24): 1, (10, 3, False, 27): 1, (14, 10, False, 27): 0, (17, 10, False, 28): 1, (15, 1, False, 21): 0, (8, 7, False, 24): 2, (18, 10, False, 21): 0, (5, 9, False, 22): 2, (19, 9, False, 25): 0, (18, 8, True, 24): 2, (16, 4, False, 25): 0, (16, 10, False, 23): 0, (20, 1, False, 19): 0, (12, 5, True, 18): 1, (16, 6, False, 18): 0, (12, 2, False, 19): 0, (12, 10, False, 15): 2, (5, 8, False, 17): 1, (20, 5, False, 19): 0, (19, 10, True, 17): 0, (15, 10, True, 16): 1, (10, 8, False, 18): 1, (14, 2, False, 21): 1, (9, 5, False, 23): 1, (16, 10, True, 22): 1, (7, 4, False, 23): 1, (18, 10, False, 22): 0, (17, 1, False, 20): 2, (11, 6, False, 22): 1, (5, 8, False, 25): 1, (13, 8, False, 25): 2, (17, 8, False, 26): 2, (7, 6, False, 29): 1, (16, 6, False, 29): 1, (7, 2, False, 32): 1, (18, 2, True, 31): 2, (8, 7, False, 32): 1, (17, 7, False, 32): 1, (19, 7, False, 33): 0, (20, 10, False, 30): 0, (20, 6, False, 17): 0, (12, 7, False, 17): 0, (21, 4, True, 16): 0, (18, 7, False, 18): 0, (17, 4, False, 17): 0, (21, 6, True, 16): 0, (12, 9, False, 16): 0, (9, 5, False, 20): 2, (17, 1, True, 19): 1, (15, 8, False, 20): 1, (5, 10, False, 21): 0, (21, 10, False, 19): 0, (13, 4, True, 21): 1, (20, 6, False, 15): 0, (19, 7, False, 14): 0, (20, 7, False, 13): 0, (7, 3, False, 15): 1, (9, 3, False, 16): 2, (6, 2, False, 21): 1, (8, 2, False, 24): 2, (20, 8, False, 20): 0, (20, 3, False, 19): 0, (13, 6, True, 20): 2, (13, 6, False, 19): 0, (18, 9, True, 19): 0, (21, 4, True, 18): 0, (8, 10, False, 23): 1, (16, 4, False, 23): 1, (20, 4, False, 24): 0, (17, 3, False, 25): 0, (16, 8, True, 25): 0, (19, 8, True, 26): 0, (18, 1, False, 21): 0, (9, 7, False, 22): 1, (10, 8, False, 20): 2, (11, 7, False, 18): 2, (15, 7, False, 19): 2, (21, 7, False, 20): 0, (16, 9, False, 22): 2, (21, 9, False, 23): 0, (18, 9, False, 22): 0, (14, 4, False, 22): 0, (17, 1, False, 18): 1, (13, 2, True, 19): 1, (20, 1, False, 15): 0, (16, 6, False, 15): 2, (20, 6, False, 16): 0, (15, 1, False, 17): 1, (6, 3, False, 20): 1, (19, 10, True, 18): 0, (16, 6, False, 19): 1, (17, 8, False, 19): 0, (10, 7, False, 20): 2, (18, 4, False, 17): 0, (16, 10, False, 12): 0, (11, 10, False, 12): 2, (21, 10, False, 11): 0, (8, 7, False, 14): 1, (21, 2, True, 13): 0, (16, 4, False, 20): 0, (16, 8, False, 21): 1, (21, 10, False, 20): 0, (16, 9, True, 19): 0, (6, 6, False, 23): 1, (15, 8, False, 22): 0, (17, 4, True, 21): 2, (13, 1, False, 22): 1, (10, 7, False, 24): 2, (8, 4, False, 25): 1, (14, 4, False, 26): 0, (18, 7, True, 25): 0, (20, 9, True, 18): 0, (13, 7, False, 17): 2, (16, 10, True, 19): 1, (16, 10, True, 18): 1, (10, 8, False, 19): 2, (11, 9, False, 21): 1, (16, 10, True, 23): 0, (17, 1, False, 19): 1, (19, 8, False, 16): 0, (5, 5, False, 18): 1, (21, 2, True, 16): 0, (17, 9, True, 16): 2, (17, 7, False, 16): 0, (20, 2, False, 19): 0, (19, 9, True, 21): 0, (16, 9, False, 21): 2, (21, 5, False, 21): 0, (6, 8, False, 20): 1, (17, 4, False, 21): 0, (13, 7, False, 23): 1, (21, 8, True, 20): 0, (5, 7, False, 21): 1, (10, 7, False, 23): 1, (12, 2, False, 20): 0, (19, 2, True, 16): 2, (15, 2, False, 17): 0, (12, 3, True, 19): 0, (12, 7, False, 21): 2, (13, 7, False, 22): 1, (20, 6, False, 18): 0, (20, 7, False, 17): 0, (7, 1, False, 18): 1, (18, 7, False, 21): 0, (5, 7, False, 23): 0, (15, 10, False, 25): 1, (18, 9, False, 25): 0, (21, 10, True, 23): 0, (19, 10, False, 16): 0, (16, 2, False, 14): 1, (13, 3, False, 16): 2, (14, 3, False, 15): 1, (16, 3, False, 16): 0, (5, 10, False, 20): 1, (17, 7, False, 19): 0, (21, 10, True, 18): 0, (13, 7, True, 20): 1, (19, 9, False, 18): 0, (19, 10, True, 16): 0, (20, 5, False, 15): 0, (17, 1, False, 12): 0, (16, 6, False, 13): 0, (17, 8, True, 19): 2, (13, 1, True, 19): 2, (11, 7, False, 21): 1, (6, 7, False, 24): 0, (19, 5, True, 16): 1, (20, 4, False, 14): 0, (16, 10, False, 11): 2, (18, 3, True, 19): 2, (21, 3, True, 20): 0, (14, 7, False, 18): 1, (13, 8, False, 18): 1, (11, 10, False, 18): 2, (17, 6, True, 23): 0, (7, 5, False, 26): 0, (15, 5, False, 26): 0, (20, 9, False, 23): 0, (20, 8, False, 21): 0, (6, 4, False, 24): 1, (13, 2, False, 23): 0, (11, 6, False, 25): 0, (21, 10, False, 24): 0, (15, 9, False, 24): 0, (20, 5, False, 26): 0, (5, 1, False, 27): 1, (12, 3, True, 18): 2, (12, 3, False, 17): 2, (18, 10, False, 15): 0, (14, 2, False, 17): 1, (12, 5, False, 18): 1, (20, 9, False, 16): 0, (14, 9, False, 16): 0, (12, 1, False, 15): 1, (15, 1, False, 16): 1, (14, 4, False, 18): 1, (13, 5, False, 23): 0, (15, 7, False, 23): 0, (17, 2, True, 24): 1, (13, 10, False, 24): 0, (21, 10, True, 24): 0, (7, 8, False, 19): 0, (13, 10, True, 18): 1, (12, 3, False, 21): 0, (14, 3, False, 23): 1, (18, 3, False, 24): 0, (21, 10, False, 23): 0, (13, 1, True, 21): 2, (12, 9, False, 19): 1, (7, 10, False, 19): 1, (15, 8, False, 23): 0, (18, 9, False, 14): 0, (12, 10, False, 14): 1, (15, 6, False, 14): 1, (19, 2, False, 13): 0, (15, 3, False, 23): 0, (16, 1, False, 22): 1, (13, 3, False, 24): 1, (9, 1, False, 25): 2, (11, 10, False, 25): 2, (14, 1, False, 24): 1, (17, 8, False, 23): 0, (21, 8, False, 24): 0, (14, 9, False, 17): 1, (18, 8, True, 19): 1, (18, 8, False, 18): 0, (6, 10, False, 20): 1, (21, 3, True, 19): 0, (13, 3, True, 20): 1, (10, 3, False, 23): 2, (12, 7, False, 19): 0, (13, 7, False, 18): 0, (13, 2, False, 17): 1, (12, 2, False, 18): 0, (15, 4, False, 19): 0, (20, 3, True, 21): 0, (20, 7, True, 22): 0, (21, 6, True, 18): 0, (21, 6, False, 17): 0, (20, 10, True, 14): 0, (19, 9, False, 19): 0, (4, 7, False, 21): 2, (16, 7, False, 16): 1, (13, 2, False, 18): 1, (19, 8, False, 21): 0, (15, 4, False, 21): 0, (17, 4, True, 22): 0, (20, 2, True, 22): 0, (8, 10, False, 20): 1, (21, 9, True, 18): 0, (19, 10, False, 17): 0, (10, 2, False, 20): 1, (18, 4, False, 21): 0, (15, 9, False, 18): 2, (10, 9, False, 18): 1, (14, 9, False, 21): 0, (10, 7, False, 21): 1, (10, 1, False, 22): 1, (15, 2, False, 24): 0, (19, 9, False, 22): 0, (13, 6, False, 24): 0, (12, 7, True, 21): 0, (20, 2, False, 22): 0, (17, 5, False, 24): 0, (13, 7, False, 25): 0, (16, 4, True, 20): 1, (9, 9, False, 20): 1, (11, 8, False, 22): 1, (14, 8, False, 23): 2, (9, 2, False, 21): 2, (8, 10, False, 18): 0, (20, 2, False, 16): 0, (7, 2, False, 20): 1, (15, 1, True, 20): 0, (17, 1, True, 21): 1, (17, 6, False, 21): 0, (14, 8, False, 20): 1, (4, 5, False, 23): 2, (13, 1, False, 21): 0, (10, 10, False, 16): 1, (20, 4, False, 15): 0, (20, 10, False, 13): 0, (10, 3, False, 14): 2, (15, 3, False, 15): 1, (16, 9, False, 17): 2, (18, 9, False, 18): 0, (20, 3, False, 17): 0, (11, 5, False, 19): 2, (15, 1, False, 14): 1, (17, 10, False, 11): 0, (14, 10, False, 10): 2, (18, 10, False, 12): 1, (10, 5, False, 15): 0, (13, 5, False, 16): 2, (17, 5, False, 17): 1, (16, 8, False, 17): 1, (15, 8, False, 19): 1, (13, 3, False, 23): 1, (10, 6, False, 26): 2, (20, 6, True, 19): 0, (14, 7, False, 16): 1, (19, 7, False, 17): 0, (14, 3, True, 22): 2, (21, 5, False, 22): 0, (12, 5, True, 19): 2, (14, 10, True, 17): 0, (11, 10, False, 19): 1, (14, 3, False, 18): 1, (13, 3, False, 19): 1, (12, 2, False, 23): 0, (8, 4, False, 23): 1, (13, 1, False, 23): 1, (10, 7, False, 22): 2, (18, 5, False, 21): 0, (13, 1, True, 18): 0, (18, 3, False, 16): 0, (17, 7, False, 18): 0, (20, 7, True, 20): 0, (9, 2, False, 23): 2, (21, 2, False, 24): 0, (6, 10, False, 26): 0, (10, 10, False, 27): 1, (19, 10, False, 27): 2, (17, 10, False, 24): 1, (11, 5, False, 21): 1, (21, 1, True, 19): 0, (21, 1, False, 18): 0, (13, 9, False, 19): 1, (18, 3, False, 22): 0, (21, 8, True, 16): 0, (11, 2, False, 18): 2, (4, 10, False, 19): 0, (13, 5, False, 19): 2, (18, 1, False, 17): 1, (5, 9, False, 21): 1, (18, 1, True, 20): 1, (12, 4, False, 20): 1, (15, 9, True, 22): 0, (17, 4, True, 20): 1, (12, 4, False, 21): 0, (15, 3, True, 21): 1, (4, 6, False, 25): 0, (14, 6, False, 24): 0, (20, 10, True, 21): 0, (15, 9, False, 21): 1, (12, 4, False, 23): 0, (16, 9, False, 24): 0, (21, 3, True, 23): 0, (15, 5, False, 19): 1, (12, 8, False, 21): 1, (13, 9, True, 21): 1, (17, 9, True, 22): 2, (12, 9, False, 23): 1, (19, 4, False, 22): 0, (18, 3, False, 21): 0, (8, 1, False, 22): 1, (12, 7, False, 23): 1, (19, 4, True, 20): 1, (19, 4, False, 19): 0, (9, 6, False, 22): 1, (12, 1, False, 23): 0, (15, 1, False, 24): 0, (19, 9, True, 19): 0, (19, 6, False, 19): 0, (8, 6, False, 21): 1, (13, 4, False, 25): 2, (18, 3, False, 23): 0, (21, 6, True, 22): 0, (12, 8, True, 19): 1, (14, 3, False, 17): 0, (13, 8, False, 16): 1, (15, 7, False, 20): 1, (16, 9, True, 20): 1, (6, 9, False, 22): 1, (14, 9, False, 22): 0, (16, 6, False, 24): 0, (18, 8, True, 21): 0, (10, 9, False, 21): 1, (11, 1, False, 21): 1, (12, 4, False, 22): 0, (21, 6, True, 19): 0, (11, 1, False, 18): 2, (15, 7, False, 15): 0, (7, 8, False, 18): 1, (18, 2, False, 20): 0, (12, 3, False, 20): 1, (15, 1, True, 18): 0, (6, 8, False, 21): 1, (17, 3, True, 21): 2, (15, 2, False, 23): 0, (17, 4, False, 23): 0, (19, 7, False, 25): 0, (7, 7, False, 24): 1, (15, 7, False, 26): 1, (9, 8, False, 27): 2, (15, 7, False, 27): 1, (20, 1, False, 23): 0, (16, 2, False, 24): 0, (14, 7, True, 16): 0, (16, 8, False, 16): 1, (14, 6, True, 16): 2, (7, 9, False, 18): 1, (19, 3, False, 20): 0, (7, 6, False, 19): 1, (12, 7, False, 18): 1, (17, 8, True, 20): 0, (17, 9, True, 19): 0, (7, 3, False, 21): 2, (14, 4, False, 24): 0, (21, 8, True, 23): 0, (14, 8, False, 24): 0, (9, 1, False, 18): 1, (15, 3, True, 20): 2, (8, 10, False, 22): 1, (4, 4, False, 19): 0, (8, 4, False, 20): 1, (12, 4, False, 18): 1, (15, 7, False, 18): 2, (15, 7, False, 17): 1, (9, 2, False, 20): 1, (20, 6, False, 22): 0, (14, 10, False, 15): 0, (21, 10, False, 17): 0, (13, 6, False, 18): 1, (5, 10, False, 18): 2, (8, 1, False, 20): 1, (9, 8, False, 22): 2, (14, 6, True, 22): 1, (12, 2, False, 25): 1, (19, 1, True, 20): 0, (20, 10, False, 14): 0, (15, 10, False, 14): 2, (14, 6, False, 16): 0, (20, 10, True, 17): 0, (13, 7, False, 15): 0, (16, 5, False, 17): 1, (13, 6, True, 17): 2, (19, 5, False, 17): 0, (18, 3, False, 19): 0, (8, 6, False, 23): 2, (14, 8, True, 19): 2, (11, 4, False, 20): 2, (21, 1, True, 18): 0, (14, 2, False, 23): 2, (17, 3, False, 24): 0, (17, 6, False, 24): 0, (15, 7, False, 25): 0, (19, 7, False, 18): 0, (10, 5, False, 16): 2, (13, 3, False, 17): 1, (19, 6, True, 22): 2, (21, 5, True, 21): 2, (21, 9, False, 24): 0, (16, 8, False, 24): 1, (10, 10, False, 23): 1, (10, 2, False, 21): 2, (21, 9, False, 20): 0, (21, 7, False, 22): 0, (7, 5, False, 19): 0, (11, 8, False, 21): 2, (21, 8, False, 20): 0, (21, 1, True, 17): 0, (21, 1, False, 16): 0, (9, 3, False, 20): 2, (15, 2, False, 18): 0, (15, 10, True, 19): 1, (15, 4, True, 18): 2, (13, 4, False, 18): 1, (20, 10, True, 19): 0, (20, 5, False, 21): 0, (16, 4, False, 22): 1, (7, 8, False, 24): 0, (9, 8, False, 25): 2, (21, 5, True, 17): 0, (14, 8, False, 17): 1, (17, 3, False, 14): 1, (12, 3, False, 24): 0, (9, 10, False, 25): 1, (16, 4, False, 26): 0, (14, 4, True, 28): 1, (21, 4, True, 28): 2, (13, 8, False, 30): 1, (20, 10, False, 26): 0, (14, 5, True, 18): 0, (20, 5, True, 19): 0, (20, 5, False, 14): 0, (11, 1, False, 19): 2, (12, 7, False, 24): 2, (15, 5, True, 23): 0, (20, 1, True, 17): 0, (11, 1, False, 16): 1, (18, 6, False, 16): 0, (11, 10, False, 14): 0, (7, 4, False, 21): 1, (15, 5, False, 23): 0, (19, 2, False, 23): 0, (20, 9, False, 22): 0, (9, 7, False, 21): 1, (17, 8, False, 22): 1, (16, 9, False, 18): 1, (4, 8, False, 21): 0, (18, 3, True, 21): 1, (17, 10, True, 20): 1, (15, 9, False, 22): 0, (13, 4, False, 22): 0, (8, 1, False, 19): 1, (14, 1, True, 17): 2, (19, 9, False, 15): 0, (16, 6, False, 17): 0, (15, 4, False, 23): 0, (14, 3, False, 20): 0, (19, 2, True, 20): 0, (7, 4, False, 25): 2, (16, 7, True, 19): 1, (21, 4, False, 20): 0, (11, 2, False, 22): 1, (21, 4, True, 21): 0, (19, 4, False, 21): 0, (15, 6, True, 20): 2, (18, 7, False, 19): 0, (17, 7, False, 17): 0, (16, 4, False, 19): 0, (18, 10, True, 19): 0, (11, 8, False, 18): 2, (13, 2, False, 19): 1, (18, 2, False, 22): 0, (15, 3, False, 26): 0, (21, 3, False, 27): 0, (18, 10, True, 25): 2, (18, 2, False, 18): 0, (4, 4, False, 22): 1, (10, 9, False, 22): 2, (11, 4, False, 23): 2, (7, 9, False, 24): 0, (17, 9, False, 23): 1, (15, 1, False, 23): 0, (13, 2, False, 24): 0, (21, 6, True, 15): 0, (19, 6, False, 15): 0, (12, 5, False, 15): 1, (8, 2, False, 17): 1, (9, 2, False, 16): 0, (21, 4, False, 19): 0, (18, 2, False, 16): 0, (20, 3, False, 14): 0, (19, 3, False, 16): 0, (13, 3, False, 18): 1, (10, 9, False, 23): 2, (18, 9, False, 23): 1, (16, 8, True, 22): 0, (20, 5, True, 22): 0, (21, 3, True, 17): 0, (17, 8, False, 17): 1, (15, 2, False, 16): 0, (15, 2, True, 21): 2, (16, 8, True, 23): 0, (16, 8, False, 22): 0, (15, 9, True, 17): 1, (19, 9, True, 18): 0, (7, 6, False, 20): 1, (13, 8, True, 19): 1, (6, 9, False, 20): 1, (12, 4, False, 24): 1, (21, 1, True, 15): 0, (20, 3, False, 13): 0, (7, 7, False, 16): 1, (10, 3, False, 19): 1, (21, 6, True, 13): 0, (13, 6, False, 14): 2, (20, 10, False, 11): 0, (11, 5, False, 13): 1, (18, 1, False, 20): 0, (17, 3, False, 23): 2, (7, 3, False, 23): 0, (16, 5, False, 24): 0, (13, 10, True, 23): 2, (18, 9, False, 19): 0, (10, 5, False, 21): 2, (10, 2, False, 26): 2, (13, 2, False, 27): 0, (21, 2, False, 27): 0, (18, 6, False, 26): 0, (18, 1, False, 24): 0, (7, 1, False, 19): 2, (18, 1, True, 18): 0, (12, 9, False, 17): 1, (18, 3, False, 18): 0, (19, 5, True, 15): 0, (12, 4, False, 25): 2, (11, 6, False, 27): 1, (21, 9, True, 25): 2, (16, 4, True, 27): 1, (20, 8, False, 24): 0, (7, 1, False, 20): 2, (19, 7, True, 15): 1, (9, 9, False, 18): 1, (14, 2, True, 20): 2, (13, 5, True, 20): 2, (10, 6, False, 21): 2, (20, 6, False, 20): 0, (11, 5, False, 24): 2, (20, 10, False, 23): 0, (11, 9, False, 20): 2, (18, 4, False, 22): 0, (5, 9, False, 26): 0, (16, 9, True, 25): 0, (14, 6, False, 26): 0, (13, 1, True, 20): 1, (18, 1, False, 16): 1, (19, 6, False, 16): 0, (13, 9, True, 18): 1, (8, 1, False, 23): 2, (20, 1, False, 24): 0, (18, 10, True, 22): 1, (16, 8, False, 18): 0, (14, 7, False, 15): 1, (17, 1, False, 15): 0, (18, 4, False, 18): 0, (20, 2, False, 15): 0, (7, 10, False, 16): 1, (18, 7, True, 18): 0, (21, 6, False, 20): 0, (20, 10, True, 20): 0, (11, 3, False, 19): 2, (7, 2, False, 22): 0, (13, 8, False, 23): 2, (17, 8, False, 16): 1, (13, 1, False, 17): 0, (6, 8, False, 18): 0, (21, 4, True, 20): 0, (21, 9, False, 21): 0, (11, 4, False, 21): 2, (8, 5, False, 22): 1, (18, 9, False, 17): 0, (13, 9, True, 19): 0, (9, 2, False, 19): 2, (19, 2, False, 18): 0, (15, 5, False, 18): 1, (13, 10, True, 17): 0, (8, 2, False, 22): 2, (20, 3, False, 24): 0, (12, 8, False, 24): 1, (14, 7, True, 25): 0, (17, 7, True, 21): 2, (8, 4, False, 22): 0, (19, 7, True, 22): 0, (8, 10, False, 24): 0, (8, 4, False, 17): 2, (10, 4, False, 18): 2, (15, 2, False, 19): 1, (13, 10, True, 21): 1, (6, 4, False, 23): 1, (20, 6, False, 21): 0, (16, 10, False, 13): 0, (13, 10, False, 14): 1, (17, 5, True, 20): 2, (15, 9, False, 20): 1, (7, 5, False, 23): 1, (15, 5, True, 19): 2, (20, 6, True, 23): 0, (17, 6, False, 23): 0, (12, 6, False, 25): 0, (20, 7, True, 18): 1, (18, 8, False, 22): 0, (19, 8, False, 23): 0, (9, 7, False, 19): 1, (18, 8, True, 17): 0, (7, 5, False, 17): 1, (4, 9, False, 21): 0, (17, 2, True, 19): 2, (17, 5, False, 20): 0, (16, 7, False, 21): 0, (14, 6, False, 22): 0, (16, 6, True, 19): 2, (7, 7, False, 18): 1, (16, 6, False, 25): 0, (16, 10, True, 26): 2, (20, 10, False, 22): 0, (12, 1, False, 25): 0, (16, 10, False, 24): 0, (20, 1, False, 21): 0, (8, 3, False, 21): 2, (10, 5, False, 22): 2, (15, 1, True, 19): 2, (18, 5, True, 19): 2, (18, 2, True, 21): 0, (13, 8, False, 19): 1, (21, 3, True, 21): 0, (15, 4, True, 20): 1, (21, 8, True, 18): 0, (8, 10, False, 16): 1, (15, 6, False, 16): 0, (13, 6, False, 21): 1, (10, 4, False, 26): 2, (14, 4, False, 27): 0, (17, 10, False, 25): 2, (14, 6, True, 26): 0, (16, 6, True, 27): 1, (6, 7, False, 22): 0, (7, 6, False, 26): 0, (18, 5, False, 26): 0, (19, 2, True, 26): 2, (18, 2, False, 26): 0, (20, 4, True, 25): 2, (16, 6, True, 21): 2, (8, 8, False, 23): 2, (13, 8, False, 24): 0, (17, 8, False, 25): 0, (19, 8, False, 26): 0, (12, 6, False, 29): 1, (7, 9, False, 25): 1, (20, 1, True, 23): 0, (20, 7, True, 19): 0, (8, 2, False, 23): 2, (19, 6, False, 23): 0, (20, 5, False, 23): 0, (14, 4, False, 23): 1, (19, 4, False, 24): 0, (15, 4, False, 25): 0, (11, 10, False, 26): 2, (21, 1, False, 20): 0, (15, 10, True, 17): 1, (18, 10, True, 18): 2, (20, 4, True, 22): 0, (20, 4, False, 21): 0, (16, 2, False, 22): 0, (11, 3, False, 25): 1, (12, 10, False, 25): 1, (19, 10, False, 13): 0, (16, 6, True, 13): 0, (12, 6, False, 14): 1, (16, 5, False, 19): 0, (12, 2, False, 27): 0, (15, 2, True, 22): 1, (19, 2, True, 23): 0, (9, 4, False, 23): 2, (19, 6, True, 23): 0, (18, 2, True, 24): 1, (20, 5, True, 21): 0, (12, 6, True, 16): 1, (12, 6, False, 15): 2, (9, 10, False, 16): 1, (7, 1, False, 22): 0, (14, 10, True, 18): 0, (17, 1, True, 20): 0, (7, 5, False, 22): 1, (17, 8, True, 18): 1, (8, 1, False, 18): 0, (14, 10, True, 22): 1, (18, 10, True, 23): 0, (20, 7, False, 22): 0, (21, 10, True, 21): 0, (17, 7, True, 18): 0, (16, 9, True, 21): 1, (20, 3, True, 20): 0, (18, 7, False, 14): 0, (17, 9, False, 14): 0, (17, 4, False, 14): 0, (17, 7, True, 20): 2, (15, 2, False, 22): 0, (8, 10, False, 17): 0, (20, 8, False, 15): 0, (9, 3, False, 17): 0, (18, 9, True, 20): 0, (17, 1, False, 21): 1, (20, 1, False, 22): 0, (19, 5, False, 24): 0, (12, 5, True, 20): 2, (13, 4, False, 26): 0, (17, 9, False, 18): 2, (16, 4, True, 22): 0, (5, 3, False, 26): 1, (9, 3, False, 27): 0, (18, 10, False, 26): 0, (20, 7, False, 23): 0, (19, 1, False, 22): 0, (16, 5, False, 21): 0, (11, 4, False, 18): 2, (10, 1, False, 23): 1, (6, 2, False, 26): 0, (10, 2, False, 27): 2, (15, 10, False, 26): 0, (14, 1, False, 25): 2, (13, 4, False, 17): 2, (16, 3, False, 25): 0, (11, 2, False, 27): 2, (16, 3, True, 20): 1, (7, 8, False, 21): 0, (21, 5, True, 16): 0, (16, 5, False, 16): 1, (20, 9, False, 20): 0, (12, 9, False, 24): 2, (18, 6, True, 24): 2, (12, 5, False, 24): 0, (20, 6, False, 24): 0, (21, 2, True, 18): 0, (14, 10, True, 15): 1, (10, 6, False, 25): 2, (16, 2, True, 20): 0, (15, 5, False, 24): 1, (15, 9, False, 25): 0, (18, 6, False, 22): 0, (4, 7, False, 25): 1, (18, 3, True, 25): 2, (15, 4, False, 26): 2, (13, 7, True, 21): 1, (16, 6, False, 22): 0, (19, 1, False, 17): 0, (10, 7, False, 19): 1, (6, 2, False, 23): 0, (17, 2, True, 22): 2, (20, 3, True, 22): 2, (7, 6, False, 21): 0, (10, 6, False, 22): 2, (11, 4, False, 26): 2, (8, 10, False, 26): 2, (15, 6, False, 24): 0, (20, 4, False, 23): 0, (13, 10, True, 19): 1, (20, 6, False, 19): 0, (19, 5, False, 18): 0, (13, 9, True, 17): 0, (16, 5, True, 21): 2, (10, 5, False, 23): 2, (12, 7, False, 25): 0, (15, 1, False, 25): 2, (14, 2, False, 27): 0, (12, 8, False, 16): 1, (10, 6, False, 17): 0, (13, 2, True, 23): 2, (19, 4, False, 23): 0, (14, 8, False, 21): 1, (9, 1, False, 21): 1, (19, 7, False, 20): 0, (20, 6, False, 14): 0, (7, 9, False, 16): 0, (9, 9, False, 17): 1, (16, 6, True, 20): 2, (13, 3, False, 21): 0, (8, 5, False, 21): 0, (16, 8, True, 20): 2, (13, 9, False, 15): 1, (16, 2, False, 17): 0, (14, 5, False, 18): 1, (19, 3, False, 18): 0, (10, 5, False, 20): 1, (11, 10, False, 24): 2, (9, 6, False, 25): 1, (20, 6, True, 24): 1, (12, 6, True, 19): 1, (17, 7, True, 19): 1, (19, 7, True, 20): 0, (6, 3, False, 25): 0, (10, 3, False, 26): 2, (21, 7, True, 19): 0, (17, 7, True, 16): 2, (18, 9, False, 20): 0, (21, 7, True, 17): 1, (19, 8, True, 15): 0, (17, 8, False, 15): 1, (12, 3, True, 13): 2, (15, 4, False, 15): 0, (7, 5, False, 20): 1, (6, 7, False, 21): 1, (4, 6, False, 23): 1, (14, 7, False, 24): 1, (20, 7, False, 25): 0, (19, 3, False, 25): 0, (13, 10, False, 25): 0, (17, 6, False, 19): 0, (14, 5, True, 20): 0, (18, 8, True, 23): 1, (20, 8, True, 24): 0, (15, 8, False, 25): 0, (13, 10, False, 26): 0, (21, 9, True, 20): 2, (5, 1, False, 21): 0, (17, 2, False, 19): 0, (15, 3, False, 18): 0, (19, 6, True, 21): 0, (13, 4, False, 24): 0, (13, 6, False, 27): 0, (19, 6, False, 28): 0, (21, 6, False, 29): 0, (19, 1, True, 18): 0, (20, 2, False, 14): 0, (20, 4, True, 14): 2, (9, 8, False, 16): 0, (6, 6, False, 19): 1, (14, 7, True, 19): 2, (16, 7, True, 20): 2, (15, 9, False, 17): 1, (14, 8, False, 16): 0, (6, 5, False, 17): 0, (14, 4, False, 20): 0, (18, 7, True, 17): 0, (19, 7, True, 16): 0, (8, 9, False, 20): 0, (21, 2, True, 19): 2, (17, 2, True, 20): 2, (6, 8, False, 22): 1, (13, 5, False, 25): 0, (6, 5, False, 25): 0, (15, 10, False, 15): 1, (19, 10, True, 14): 0, (12, 4, False, 15): 2, (21, 4, False, 15): 0, (8, 7, False, 25): 1, (16, 4, False, 21): 0, (18, 5, False, 14): 0, (21, 5, False, 15): 0, (12, 7, False, 16): 1, (15, 9, False, 15): 1, (13, 2, False, 16): 1, (10, 2, False, 18): 1, (20, 1, True, 16): 0, (18, 3, True, 16): 1, (13, 4, True, 20): 0, (13, 8, False, 17): 1, (21, 4, False, 18): 0, (19, 7, True, 17): 1, (20, 7, True, 16): 0, (15, 6, False, 17): 1, (9, 5, False, 24): 1, (14, 7, False, 23): 1, (16, 7, False, 24): 0, (13, 10, True, 24): 2, (21, 1, True, 21): 0, (20, 6, False, 23): 0, (19, 3, False, 23): 0, (21, 2, True, 22): 0, (21, 8, False, 19): 0, (10, 10, False, 17): 1, (14, 5, False, 16): 0, (18, 5, False, 17): 0, (16, 3, True, 19): 1, (18, 6, False, 24): 0, (7, 4, False, 26): 1, (17, 10, True, 17): 1, (15, 8, False, 16): 0, (10, 3, False, 21): 1, (8, 4, False, 24): 1, (4, 9, False, 20): 0, (20, 8, True, 19): 0, (12, 2, True, 20): 0, (15, 3, True, 25): 0, (17, 4, False, 15): 0, (12, 1, False, 16): 2, (14, 4, True, 18): 0, (17, 8, True, 21): 0, (14, 1, True, 20): 2, (18, 7, False, 17): 0, (9, 8, False, 19): 2, (14, 8, False, 22): 1, (16, 10, True, 21): 1, (9, 8, False, 20): 1, (21, 8, True, 21): 0, (11, 6, False, 18): 1, (12, 6, False, 17): 1, (9, 4, False, 19): 2, (16, 4, False, 18): 0, (10, 3, False, 24): 1, (20, 5, False, 16): 0, (16, 4, False, 17): 2, (13, 8, True, 17): 2, (16, 8, True, 17): 2, (10, 8, False, 21): 2, (19, 8, False, 17): 0, (18, 6, True, 15): 2, (14, 4, True, 20): 1, (19, 7, True, 18): 0, (9, 8, False, 21): 2, (14, 3, False, 25): 2, (19, 3, False, 26): 0, (21, 4, True, 17): 0, (19, 4, False, 17): 0, (13, 2, True, 17): 2, (17, 2, True, 18): 1, (17, 1, False, 14): 0, (13, 3, False, 14): 1, (5, 7, False, 26): 0, (19, 4, False, 27): 0, (16, 4, True, 28): 0, (16, 4, False, 27): 0, (12, 1, False, 26): 0, (7, 7, False, 20): 1, (15, 5, True, 22): 2, (20, 8, True, 18): 0, (10, 5, False, 24): 1, (10, 8, False, 26): 1, (16, 2, False, 23): 0, (16, 10, True, 17): 0, (21, 9, True, 16): 0, (14, 2, False, 16): 1, (13, 7, False, 16): 0, (16, 5, False, 18): 0, (13, 3, False, 20): 0, (6, 6, False, 21): 1, (15, 4, False, 22): 0, (20, 9, True, 23): 1, (6, 10, False, 19): 0, (21, 2, False, 21): 0, (16, 8, False, 23): 2, (17, 9, True, 23): 2, (17, 9, False, 21): 0, (5, 10, False, 22): 1, (13, 7, True, 19): 1, (17, 10, True, 19): 2, (14, 6, False, 17): 0, (13, 7, False, 26): 2, (21, 8, True, 17): 0, (5, 6, False, 20): 1, (15, 4, True, 22): 2, (19, 9, False, 16): 0, (8, 6, False, 19): 2, (12, 10, True, 16): 1, (4, 5, False, 20): 1, (16, 4, True, 23): 1, (12, 10, True, 20): 2, (6, 9, False, 23): 0, (16, 1, False, 23): 0, (9, 3, False, 19): 1, (20, 3, True, 18): 0, (15, 9, True, 18): 2, (17, 4, False, 24): 0, (9, 2, False, 27): 2, (10, 6, False, 29): 2, (15, 7, False, 29): 1, (18, 10, False, 28): 0, (17, 10, False, 15): 1, (14, 5, False, 17): 1, (20, 2, True, 19): 0, (20, 4, True, 15): 0, (4, 1, False, 21): 1, (13, 1, False, 16): 2, (17, 5, True, 16): 0, (13, 7, True, 15): 2, (20, 9, False, 13): 0, (7, 6, False, 16): 2, (10, 4, False, 20): 2, (17, 6, False, 17): 0, (15, 3, False, 19): 0, (19, 10, False, 25): 0, (12, 5, False, 17): 0, (15, 1, False, 22): 2, (18, 7, False, 22): 0, (5, 2, False, 23): 1, (6, 8, False, 24): 0, (18, 6, False, 23): 0, (16, 3, True, 25): 0, (20, 3, True, 26): 2, (14, 5, True, 21): 1, (13, 9, False, 22): 2, (18, 2, False, 23): 0, (16, 9, False, 23): 1, (14, 8, True, 21): 1, (9, 7, False, 23): 2, (20, 3, False, 23): 0, (16, 1, False, 18): 0, (17, 9, False, 22): 0, (15, 10, True, 21): 1, (11, 9, False, 19): 1, (6, 4, False, 20): 2, (8, 1, False, 26): 1, (8, 7, False, 29): 1, (18, 2, False, 29): 1, (8, 7, False, 26): 2, (9, 4, False, 20): 1, (13, 6, False, 22): 1, (17, 2, False, 24): 2, (13, 2, False, 25): 1, (8, 9, False, 19): 2, (18, 5, True, 21): 0, (15, 1, False, 10): 1, (14, 1, False, 10): 2, (17, 2, True, 11): 0, (19, 4, True, 21): 0, (7, 7, False, 22): 2, (19, 6, True, 20): 0, (21, 1, False, 23): 0, (10, 6, False, 20): 2, (15, 10, True, 22): 1, (12, 8, False, 22): 1, (11, 9, False, 24): 1, (12, 9, True, 19): 0, (12, 2, False, 17): 2, (11, 5, False, 20): 2, (8, 5, False, 25): 0, (21, 4, True, 25): 0, (16, 2, True, 26): 2, (9, 8, False, 24): 1, (13, 8, True, 18): 1, (11, 4, False, 17): 2, (16, 2, True, 24): 1, (15, 2, False, 26): 1, (19, 10, False, 24): 0, (18, 10, True, 21): 1, (13, 1, False, 15): 1, (19, 8, False, 14): 0, (16, 1, True, 17): 0, (15, 10, True, 25): 2, (18, 8, False, 24): 0, (18, 9, True, 18): 1, (16, 3, True, 22): 2, (19, 5, True, 19): 0, (16, 9, True, 16): 1, (17, 1, True, 25): 1, (11, 8, False, 26): 1, (20, 2, False, 25): 0, (8, 4, False, 29): 2, (10, 1, False, 19): 1, (15, 1, False, 18): 0, (14, 7, False, 14): 2, (18, 7, True, 13): 2, (11, 2, False, 15): 0, (16, 2, False, 16): 1, (7, 3, False, 26): 2, (19, 6, True, 27): 0, (20, 10, False, 24): 0, (21, 6, False, 25): 0, (21, 2, False, 19): 0, (10, 9, False, 19): 1, (7, 10, False, 18): 1, (14, 7, True, 18): 0, (9, 5, False, 18): 1, (13, 5, False, 17): 1, (21, 5, False, 17): 0, (19, 1, False, 16): 0, (6, 5, False, 19): 1, (13, 10, True, 20): 0, (5, 10, False, 19): 1, (6, 1, False, 22): 0, (4, 10, False, 21): 0, (16, 1, True, 19): 1, (14, 9, True, 20): 2, (13, 2, True, 21): 1, (11, 5, False, 26): 2, (10, 10, False, 26): 2, (21, 1, False, 19): 0, (17, 3, False, 17): 2, (13, 4, True, 18): 2, (18, 8, True, 20): 0, (12, 7, True, 18): 0, (7, 4, False, 20): 1, (11, 2, False, 26): 2, (15, 5, False, 14): 2, (14, 3, False, 16): 1, (16, 3, False, 17): 0, (18, 9, False, 16): 0, (16, 3, False, 18): 0, (9, 5, False, 22): 2, (16, 6, True, 17): 0, (8, 5, False, 18): 0, (18, 3, True, 22): 0, (7, 7, False, 21): 0, (17, 6, True, 18): 1, (14, 8, True, 24): 0, (16, 9, False, 25): 1, (8, 9, False, 21): 2, (16, 10, True, 15): 2, (18, 2, False, 15): 1, (21, 7, False, 17): 0, (20, 3, False, 15): 0, (19, 3, True, 16): 0, (7, 10, False, 23): 0, (14, 10, True, 23): 1, (13, 6, False, 25): 0, (18, 10, False, 24): 0, (5, 10, False, 26): 0, (14, 9, False, 26): 1, (20, 4, True, 20): 1, (12, 8, False, 23): 2, (4, 4, False, 26): 2, (11, 9, False, 27): 0, (21, 9, False, 26): 0, (7, 3, False, 25): 1, (13, 3, False, 26): 0, (21, 3, False, 26): 0, (12, 4, False, 26): 0, (21, 4, False, 26): 0, (15, 8, False, 26): 0, (13, 1, False, 14): 2, (17, 10, False, 13): 1, (11, 2, False, 14): 1, (16, 1, False, 14): 1, (21, 1, False, 15): 0, (14, 1, False, 15): 1, (6, 8, False, 23): 1, (13, 9, True, 20): 1, (9, 1, False, 20): 1, (12, 10, True, 12): 1, (17, 2, False, 13): 1, (16, 6, False, 14): 2, (21, 8, False, 22): 0, (14, 2, True, 22): 1, (15, 6, False, 19): 0, (17, 9, False, 15): 0, (7, 6, False, 18): 1, (6, 3, False, 18): 0, (19, 2, True, 22): 0, (14, 1, False, 23): 0, (12, 2, True, 18): 1, (19, 3, False, 17): 0, (18, 6, False, 17): 0, (10, 10, False, 24): 1, (5, 2, False, 21): 1, (20, 10, True, 23): 0, (14, 8, False, 25): 1, (5, 10, False, 25): 1, (15, 4, False, 17): 0, (17, 4, False, 18): 0, (12, 4, True, 16): 1, (19, 6, True, 24): 0, (15, 6, False, 25): 2, (9, 7, False, 26): 1, (17, 3, True, 17): 1, (8, 8, False, 24): 0, (21, 4, True, 23): 1, (14, 5, False, 26): 1, (13, 5, False, 26): 0, (16, 9, False, 14): 1, (10, 9, False, 15): 1, (8, 9, False, 16): 0, (17, 10, False, 12): 0, (9, 7, False, 14): 2, (16, 5, True, 23): 1, (11, 1, False, 17): 2, (9, 5, False, 26): 2, (13, 5, True, 21): 1, (9, 3, False, 18): 1, (11, 4, False, 19): 2, (10, 6, False, 19): 2, (6, 10, False, 18): 2, (8, 3, False, 20): 2, (20, 6, True, 20): 0, (7, 6, False, 24): 2, (21, 2, True, 21): 2, (15, 1, True, 21): 2, (15, 3, True, 19): 2, (10, 9, False, 24): 2, (12, 9, False, 25): 1, (7, 4, False, 28): 2, (15, 8, False, 28): 1, (9, 3, False, 31): 1, (15, 10, False, 30): 2, (20, 9, False, 28): 0, (7, 1, False, 17): 1, (9, 9, False, 26): 2, (7, 7, False, 27): 0, (17, 7, False, 26): 0, (5, 2, False, 25): 0, (6, 1, False, 21): 2, (21, 8, True, 13): 1, (13, 8, False, 14): 1, (10, 3, False, 20): 2, (21, 5, False, 20): 0, (9, 8, False, 23): 2, (16, 2, True, 23): 1, (21, 3, True, 16): 0, (14, 3, True, 18): 2, (9, 3, False, 21): 1, (7, 9, False, 19): 2, (16, 1, True, 20): 2, (16, 9, True, 18): 2, (14, 3, True, 21): 1, (17, 3, True, 22): 1, (18, 10, True, 16): 1, (9, 4, False, 21): 2, (17, 5, False, 25): 0, (20, 5, False, 25): 0, (20, 8, False, 17): 0, (17, 10, True, 18): 2, (6, 9, False, 21): 2, (19, 6, False, 17): 0, (7, 9, False, 20): 1, (13, 5, True, 22): 0, (17, 9, False, 13): 0, (21, 9, False, 14): 0, (21, 6, True, 14): 0, (13, 4, False, 15): 0, (14, 1, True, 21): 0, (20, 6, True, 21): 0, (17, 3, False, 16): 2, (15, 6, True, 17): 2, (19, 2, False, 24): 0, (20, 8, True, 22): 1, (7, 6, False, 22): 1, (14, 6, True, 20): 2, (9, 10, False, 15): 0, (10, 7, False, 15): 1, (18, 8, False, 17): 0, (10, 4, False, 23): 2, (17, 4, True, 23): 2, (19, 2, True, 24): 1, (8, 3, False, 24): 1, (11, 7, False, 26): 2, (16, 10, True, 24): 1, (19, 8, False, 20): 0, (5, 9, False, 17): 2, (9, 4, False, 22): 2, (9, 9, False, 19): 2, (21, 3, False, 22): 0, (17, 2, True, 23): 0, (9, 3, False, 22): 1, (13, 4, True, 23): 2, (19, 8, True, 17): 0, (20, 8, True, 16): 0, (20, 7, False, 14): 0, (7, 7, False, 23): 1, (18, 7, True, 22): 2, (10, 1, False, 16): 1, (6, 9, False, 25): 1, (11, 9, False, 26): 2, (12, 9, False, 26): 1, (17, 10, True, 21): 0, (16, 7, False, 25): 1, (6, 1, False, 26): 2, (13, 4, True, 22): 1, (11, 7, False, 23): 2, (17, 7, False, 24): 0, (11, 6, False, 24): 2, (5, 3, False, 23): 1, (18, 2, False, 25): 0, (14, 3, False, 26): 0, (12, 4, False, 28): 2, (13, 5, False, 27): 2, (17, 6, True, 22): 2, (21, 2, False, 18): 0, (17, 2, False, 23): 0, (15, 4, False, 18): 1, (16, 2, False, 18): 1, (17, 2, False, 17): 0, (7, 4, False, 19): 2, (19, 6, True, 19): 0, (14, 1, True, 14): 0, (10, 4, False, 17): 2, (20, 4, True, 17): 0, (10, 2, False, 15): 1, (8, 9, False, 24): 1, (14, 9, False, 25): 2, (5, 6, False, 22): 0, (21, 3, True, 14): 0, (4, 8, False, 14): 1, (19, 6, False, 14): 0, (21, 6, False, 21): 0, (6, 10, False, 25): 1, (18, 8, True, 25): 0, (13, 8, False, 26): 2, (12, 6, False, 26): 0, (21, 10, False, 26): 0, (13, 10, False, 27): 2, (21, 8, True, 25): 0, (9, 4, False, 25): 1, (14, 9, True, 25): 0, (5, 1, False, 24): 0, (9, 6, False, 30): 0, (13, 6, False, 31): 0, (20, 6, False, 31): 0, (19, 10, False, 28): 1, (21, 10, True, 26): 0, (16, 8, False, 15): 2, (7, 2, False, 17): 1, (14, 6, True, 21): 0, (8, 7, False, 18): 1, (16, 4, True, 18): 0, (8, 6, False, 18): 1, (20, 6, True, 16): 0, (19, 6, True, 16): 2, (18, 4, False, 26): 0, (11, 1, False, 27): 2, (14, 1, False, 28): 0, (14, 10, False, 28): 0, (8, 7, False, 23): 1, (13, 8, True, 23): 1, (17, 10, True, 22): 0, (15, 3, False, 24): 0, (5, 8, False, 23): 1, (18, 5, False, 23): 0, (5, 10, False, 24): 0, (5, 10, False, 27): 0, (8, 10, False, 28): 1, (18, 1, False, 26): 0, (20, 9, False, 25): 0, (13, 8, True, 20): 1, (17, 5, True, 21): 2, (20, 8, True, 21): 0, (18, 8, True, 16): 0, (12, 10, False, 13): 1, (8, 3, False, 23): 1, (18, 4, True, 19): 2, (14, 9, False, 14): 1, (7, 1, False, 23): 0, (18, 4, True, 23): 0, (4, 8, False, 22): 2, (18, 3, False, 15): 2, (21, 3, False, 16): 0, (17, 10, True, 15): 1, (14, 7, True, 15): 1, (21, 4, False, 22): 0, (14, 2, True, 21): 1, (13, 9, True, 25): 1, (7, 3, False, 24): 0, (14, 3, False, 13): 0, (19, 10, True, 15): 1, (17, 1, True, 16): 1, (15, 5, False, 15): 2, (19, 5, False, 16): 0, (9, 7, False, 17): 2, (8, 4, False, 27): 2, (14, 9, True, 26): 2, (14, 1, True, 23): 2, (20, 8, False, 13): 0, (11, 6, False, 23): 2, (6, 2, False, 24): 1, (16, 4, True, 17): 1, (14, 6, False, 18): 0, (15, 5, True, 20): 1, (12, 4, True, 19): 2, (8, 4, False, 21): 1, (11, 3, False, 18): 2, (8, 5, False, 20): 1, (5, 4, False, 24): 2, (16, 1, True, 18): 0, (16, 4, False, 16): 0, (14, 9, False, 23): 1, (18, 4, True, 21): 0, (10, 10, False, 14): 1, (19, 1, True, 16): 0, (13, 4, True, 17): 0, (13, 4, False, 16): 0, (13, 10, True, 16): 2, (15, 4, True, 21): 0, (18, 1, True, 23): 1, (11, 7, False, 20): 1, (8, 2, False, 25): 1, (5, 4, False, 21): 1, (15, 8, False, 17): 2, (13, 8, True, 21): 2, (7, 10, False, 17): 0, (9, 8, False, 18): 1, (15, 3, False, 17): 1, (19, 1, False, 15): 0, (11, 1, False, 25): 1, (17, 1, False, 26): 2, (13, 10, True, 25): 1, (14, 5, True, 24): 1, (19, 5, True, 25): 2, (11, 2, False, 28): 2, (14, 9, False, 28): 2, (13, 1, False, 27): 0, (21, 7, False, 16): 0, (15, 10, True, 14): 1, (20, 10, True, 15): 0, (14, 4, False, 17): 0, (19, 7, True, 19): 0, (8, 6, False, 16): 2, (17, 1, False, 23): 1, (16, 1, False, 15): 1, (16, 3, True, 21): 0, (15, 3, False, 16): 0, (15, 7, True, 15): 0, (15, 3, True, 22): 2, (18, 4, True, 22): 0, (12, 6, True, 20): 0, (13, 5, False, 24): 2, (18, 6, True, 20): 1, (21, 3, False, 21): 0, (21, 8, False, 18): 0, (21, 2, False, 17): 0, (21, 6, True, 23): 2, (19, 5, True, 23): 0, (11, 5, False, 25): 2, (15, 7, False, 24): 1, (21, 2, True, 14): 0, (19, 10, True, 13): 0, (16, 10, False, 25): 1, (17, 9, True, 20): 1, (10, 8, False, 23): 1, (15, 10, True, 15): 2, (17, 7, True, 15): 1, (9, 4, False, 18): 2, (12, 7, False, 26): 2, (19, 7, False, 26): 0, (13, 2, True, 20): 2, (7, 5, False, 25): 0, (18, 3, True, 17): 2, (5, 5, False, 19): 0, (20, 4, False, 17): 0, (19, 6, True, 18): 0, (13, 4, True, 19): 2, (12, 2, True, 19): 2, (16, 7, False, 23): 0, (16, 9, True, 24): 0, (7, 3, False, 22): 2, (4, 7, False, 22): 1, (21, 8, False, 21): 0, (19, 2, False, 14): 0, (17, 1, True, 12): 1, (19, 1, True, 13): 0, (12, 4, False, 14): 2, (17, 2, True, 21): 0, (21, 4, False, 25): 0, (14, 5, False, 15): 2, (19, 7, True, 21): 1, (13, 9, False, 14): 1, (6, 7, False, 17): 0, (13, 7, True, 23): 1, (18, 4, False, 24): 0, (12, 6, False, 16): 2, (17, 7, False, 23): 0, (14, 5, False, 14): 2, (15, 10, False, 28): 0, (20, 8, False, 26): 0, (20, 9, False, 24): 0, (17, 4, True, 19): 1, (15, 8, True, 26): 0, (21, 5, False, 26): 0, (13, 9, False, 24): 2, (4, 6, False, 24): 0, (12, 6, True, 23): 0, (21, 5, True, 23): 0, (14, 1, True, 19): 0, (11, 5, False, 18): 2, (17, 6, True, 20): 0, (17, 1, True, 15): 2, (18, 5, False, 16): 0, (11, 1, False, 24): 1, (20, 3, True, 25): 0, (18, 8, False, 23): 0, (11, 7, False, 19): 1, (12, 2, True, 16): 0, (9, 7, False, 24): 1, (18, 4, False, 23): 0, (19, 1, True, 17): 0, (17, 7, True, 17): 1, (15, 5, True, 18): 2, (18, 6, True, 17): 0, (20, 9, True, 21): 0, (8, 1, False, 25): 2, (11, 1, False, 26): 2, (19, 8, True, 19): 0, (12, 1, True, 18): 0, (19, 9, True, 16): 1, (18, 10, True, 15): 0, (15, 7, True, 18): 0, (21, 8, True, 15): 0, (16, 6, False, 16): 0, (15, 7, True, 16): 1, (15, 8, True, 20): 2, (10, 1, False, 24): 2, (8, 3, False, 26): 2, (17, 7, False, 25): 0, (6, 3, False, 19): 2, (18, 6, True, 21): 0, (7, 4, False, 24): 0, (17, 6, False, 27): 0, (17, 1, False, 25): 0, (12, 5, False, 27): 0, (6, 6, False, 22): 1, (11, 8, False, 24): 2, (7, 5, False, 21): 2, (19, 1, False, 14): 0, (12, 8, False, 25): 0, (21, 8, False, 25): 0, (20, 2, False, 23): 0, (17, 6, True, 21): 0, (9, 9, False, 27): 1, (16, 3, False, 28): 1, (18, 6, True, 22): 0, (9, 2, False, 25): 1, (10, 4, False, 24): 2, (12, 8, True, 17): 2, (10, 2, False, 23): 2, (16, 1, True, 22): 1, (7, 9, False, 22): 1, (8, 7, False, 21): 1, (15, 1, True, 16): 1, (16, 10, False, 14): 0, (15, 2, False, 15): 1, (6, 5, False, 20): 0, (17, 3, True, 20): 2, (6, 4, False, 21): 1, (5, 5, False, 20): 1, (19, 5, True, 18): 1, (20, 6, True, 18): 0, (15, 9, True, 23): 2, (20, 3, True, 23): 0, (14, 2, True, 17): 1, (5, 1, False, 18): 1, (19, 8, False, 24): 0, (21, 7, True, 21): 0, (10, 7, False, 27): 1, (19, 7, False, 27): 0, (18, 7, True, 20): 0, (19, 8, True, 18): 0, (20, 4, True, 19): 2, (16, 2, True, 21): 1, (19, 5, True, 24): 2, (14, 6, False, 15): 1, (12, 9, False, 14): 0, (4, 4, False, 25): 2, (16, 7, True, 24): 2, (7, 4, False, 22): 1, (10, 9, False, 25): 1, (13, 6, True, 23): 1, (10, 9, False, 20): 2, (17, 3, False, 26): 0, (14, 5, False, 27): 1, (20, 8, False, 25): 0, (20, 10, False, 25): 0, (21, 3, False, 19): 0, (16, 5, True, 20): 2, (19, 3, False, 24): 0, (19, 3, True, 19): 0, (15, 8, True, 19): 1, (5, 10, False, 16): 1, (12, 10, True, 14): 1, (18, 3, False, 25): 0, (17, 10, False, 26): 0, (21, 1, True, 14): 0, (17, 7, False, 12): 0, (16, 2, False, 13): 0, (11, 2, False, 16): 2, (14, 6, True, 17): 1, (11, 6, False, 19): 1, (21, 1, False, 22): 0, (21, 9, False, 16): 0, (13, 3, True, 22): 1, (19, 1, True, 21): 2, (12, 3, True, 20): 0, (14, 3, False, 24): 2, (12, 8, False, 26): 0, (16, 8, False, 27): 0, (16, 10, False, 26): 0, (8, 10, False, 27): 0, (21, 7, True, 25): 0, (21, 7, False, 24): 0, (11, 3, False, 23): 2, (16, 5, True, 24): 0, (16, 6, False, 26): 0, (15, 2, False, 25): 0, (16, 3, True, 24): 0, (17, 9, True, 21): 0, (6, 9, False, 24): 1, (17, 10, True, 23): 0, (19, 7, True, 24): 0, (8, 5, False, 24): 2, (19, 3, True, 17): 0, (14, 3, True, 20): 0, (18, 9, True, 22): 1, (20, 9, True, 25): 0, (14, 5, True, 23): 1, (20, 5, True, 24): 0, (17, 9, True, 18): 0, (17, 2, True, 26): 2, (6, 10, False, 15): 1, (20, 4, True, 21): 0, (7, 10, False, 26): 2, (14, 6, False, 27): 0, (8, 5, False, 19): 2, (8, 9, False, 25): 1, (18, 9, False, 24): 0, (14, 3, True, 23): 2, (17, 2, False, 25): 1, (17, 6, False, 25): 1, (14, 7, False, 25): 1, (21, 7, True, 15): 0, (12, 7, False, 15): 1, (20, 1, False, 11): 0, (18, 3, False, 14): 0, (15, 3, True, 23): 2, (21, 3, True, 24): 0, (21, 4, True, 13): 0, (13, 4, False, 14): 0, (12, 3, False, 16): 1, (18, 7, True, 19): 2, (19, 7, False, 16): 0, (9, 1, False, 17): 1, (9, 7, False, 20): 2, (21, 8, True, 14): 0, (20, 8, False, 14): 0, (13, 2, False, 14): 0, (13, 7, False, 14): 2, (17, 7, True, 23): 0, (5, 5, False, 22): 1, (18, 1, False, 15): 1, (10, 8, False, 24): 2, (20, 10, True, 22): 0, (10, 8, False, 22): 1, (10, 1, False, 18): 1, (16, 6, True, 16): 2, (12, 7, True, 17): 2, (6, 8, False, 25): 1, (13, 9, False, 26): 2, (9, 8, False, 26): 1, (20, 3, False, 16): 0, (18, 10, False, 13): 0, (7, 2, False, 15): 0, (6, 9, False, 28): 0, (16, 9, False, 27): 2, (18, 9, False, 28): 0, (18, 10, False, 27): 0, (15, 8, True, 27): 2, (14, 8, False, 27): 1, (19, 1, True, 24): 0, (13, 1, False, 25): 0, (16, 6, True, 26): 0, (14, 3, True, 24): 0, (7, 10, False, 27): 1, (18, 4, False, 25): 0, (21, 9, False, 25): 0, (14, 8, False, 15): 0, (6, 1, False, 19): 1, (21, 7, True, 22): 0, (15, 5, True, 15): 0, (9, 7, False, 18): 1, (17, 9, False, 16): 2, (16, 10, True, 14): 2, (14, 10, False, 14): 1, (6, 2, False, 17): 0, (18, 3, True, 24): 0, (6, 7, False, 20): 1, (6, 4, False, 22): 2, (20, 8, True, 20): 0, (14, 1, True, 22): 2, (21, 8, False, 23): 0, (12, 5, False, 16): 2, (10, 7, False, 18): 1, (11, 6, False, 17): 2, (7, 2, False, 19): 1, (14, 7, False, 17): 1, (21, 6, False, 24): 0, (13, 3, True, 21): 2, (20, 9, True, 20): 0, (18, 1, True, 21): 0, (13, 10, True, 15): 1, (13, 3, True, 23): 1, (9, 3, False, 24): 1, (14, 8, False, 13): 0, (19, 5, True, 14): 0, (14, 8, False, 26): 1, (17, 5, True, 27): 1, (17, 2, False, 26): 0, (21, 10, False, 25): 0, (15, 2, False, 27): 0, (13, 9, False, 28): 0, (18, 5, False, 15): 0, (21, 7, True, 16): 0, (17, 8, False, 24): 0, (21, 4, False, 27): 0, (16, 5, False, 28): 0, (19, 1, True, 26): 1, (16, 2, False, 26): 1, (8, 9, False, 18): 1, (18, 4, True, 18): 2, (4, 4, False, 24): 2, (15, 4, True, 19): 2, (17, 6, False, 15): 0, (21, 9, False, 19): 0, (15, 7, False, 16): 0, (19, 6, True, 25): 2, (17, 10, True, 16): 0, (9, 5, False, 19): 2, (15, 10, False, 12): 1, (16, 4, False, 14): 2, (10, 5, False, 26): 1, (17, 5, False, 26): 1, (15, 6, False, 27): 2, (17, 5, True, 22): 2, (21, 7, False, 19): 0, (8, 2, False, 26): 2, (18, 2, True, 19): 1, (21, 6, False, 19): 0, (8, 6, False, 26): 2, (18, 6, False, 25): 0, (19, 5, False, 26): 0, (11, 9, False, 23): 2, (14, 3, False, 28): 2, (15, 6, False, 29): 0, (6, 2, False, 29): 1, (20, 4, False, 28): 0, (17, 1, False, 13): 0, (19, 2, False, 16): 0, (17, 4, True, 18): 1, (4, 7, False, 20): 1, (19, 7, True, 23): 0, (13, 6, True, 19): 0, (18, 6, False, 15): 0, (15, 5, True, 26): 1, (21, 5, True, 27): 2, (13, 8, False, 28): 1, (17, 2, False, 27): 0, (19, 1, False, 23): 0, (15, 2, True, 23): 2, (16, 2, True, 22): 0, (8, 8, False, 17): 1, (8, 1, False, 24): 0, (18, 1, False, 23): 0, (4, 6, False, 22): 1, (5, 2, False, 20): 2, (17, 8, True, 23): 1, (14, 6, True, 19): 0, (21, 9, True, 21): 0, (5, 5, False, 26): 0, (12, 5, False, 28): 0, (21, 8, True, 26): 1, (16, 8, False, 26): 0, (5, 8, False, 20): 2, (11, 7, False, 24): 1, (21, 7, False, 23): 0, (12, 2, False, 16): 1, (15, 4, True, 14): 1, (17, 5, False, 22): 0, (18, 5, True, 22): 2, (6, 3, False, 23): 1, (5, 5, False, 25): 2, (11, 1, False, 23): 1, (5, 4, False, 23): 0, (15, 2, True, 19): 0, (20, 3, True, 16): 0, (17, 5, False, 23): 0, (17, 9, True, 24): 2, (21, 5, True, 15): 0, (13, 7, True, 16): 2, (21, 7, False, 15): 0, (19, 4, True, 24): 1, (12, 9, True, 18): 0, (16, 5, True, 18): 0, (4, 1, False, 22): 0, (8, 3, False, 25): 1, (5, 4, False, 19): 0, (5, 9, False, 27): 2, (18, 10, True, 11): 0, (15, 4, False, 12): 2, (20, 4, False, 13): 0, (11, 10, False, 15): 1, (19, 4, True, 13): 0, (18, 1, True, 22): 1, (11, 8, False, 25): 2, (15, 9, True, 21): 0, (10, 8, False, 25): 1, (9, 10, False, 14): 1, (16, 4, True, 16): 2, (18, 5, False, 22): 0, (14, 4, True, 22): 0, (21, 3, True, 22): 0, (17, 4, False, 13): 0, (7, 4, False, 16): 0, (18, 5, False, 24): 0, (14, 2, True, 18): 0, (12, 8, False, 12): 1, (13, 8, False, 11): 1, (20, 8, False, 11): 0, (17, 10, True, 14): 1, (11, 10, False, 13): 0, (14, 10, False, 13): 0, (15, 10, False, 13): 1, (19, 9, False, 14): 0, (21, 9, False, 15): 0, (18, 2, True, 22): 0, (5, 1, False, 19): 0, (5, 10, False, 15): 0, (16, 6, True, 22): 1, (19, 8, True, 22): 0, (19, 3, True, 20): 2, (14, 9, True, 19): 1, (13, 6, False, 26): 0, (21, 6, False, 26): 0, (7, 5, False, 18): 2, (16, 8, True, 18): 1, (14, 8, False, 14): 1, (18, 4, True, 24): 2, (12, 9, True, 17): 1, (18, 2, False, 14): 0, (20, 2, False, 13): 0, (14, 6, False, 14): 1, (15, 7, True, 19): 1, (7, 10, False, 15): 2, (17, 7, False, 15): 0, (20, 1, True, 19): 0, (4, 7, False, 23): 1, (4, 5, False, 22): 0, (9, 2, False, 24): 1, (16, 3, False, 24): 0, (9, 7, False, 25): 2, (18, 7, False, 25): 0, (11, 3, False, 17): 1, (5, 5, False, 21): 1, (13, 4, False, 27): 0, (13, 4, False, 29): 0, (15, 1, False, 27): 1, (5, 3, False, 21): 1, (20, 8, True, 17): 1, (4, 3, False, 22): 1, (15, 8, False, 15): 0, (17, 6, False, 16): 1, (17, 9, True, 17): 1, (12, 5, False, 25): 0, (21, 4, True, 26): 2, (19, 10, False, 26): 2, (15, 9, False, 26): 2, (18, 3, False, 26): 0, (15, 7, True, 25): 0, (8, 3, False, 28): 2, (12, 6, True, 21): 0, (14, 6, True, 25): 2, (20, 1, True, 14): 0, (10, 2, False, 28): 2, (14, 10, True, 28): 0, (13, 10, False, 29): 0, (20, 7, False, 27): 0, (17, 9, False, 26): 0, (14, 7, True, 21): 2, (18, 3, True, 18): 0, (6, 3, False, 21): 1, (15, 5, False, 17): 0, (13, 1, True, 22): 1, (16, 9, True, 13): 0, (16, 9, True, 22): 2, (17, 5, True, 18): 0, (18, 2, True, 18): 0, (15, 8, True, 22): 1, (12, 10, False, 26): 0, (13, 2, False, 28): 0, (19, 2, False, 29): 0, (19, 4, False, 15): 0, (15, 3, False, 25): 0, (18, 4, False, 16): 0, (10, 4, False, 27): 0, (14, 4, False, 28): 2, (5, 8, False, 19): 1, (15, 6, True, 22): 1, (21, 6, False, 22): 0, (21, 8, False, 17): 0, (16, 8, True, 24): 1, (10, 2, False, 24): 2, (8, 3, False, 19): 2, (20, 2, True, 20): 0, (17, 8, True, 17): 1, (10, 1, False, 15): 0, (21, 10, True, 12): 0, (10, 6, False, 14): 0, (6, 6, False, 18): 0, (14, 3, False, 27): 0, (17, 3, False, 28): 0, (18, 7, False, 28): 0, (11, 10, False, 29): 0, (6, 10, False, 17): 0, (15, 6, True, 15): 1, (16, 5, False, 26): 0, (20, 10, False, 10): 0, (16, 4, False, 12): 1, (19, 10, True, 10): 0, (15, 6, True, 25): 0, (16, 6, True, 24): 1, (6, 2, False, 22): 2, (20, 1, True, 22): 0, (18, 5, True, 16): 2, (21, 3, True, 15): 0, (19, 4, True, 22): 0, (18, 10, True, 12): 2, (10, 1, False, 13): 2, (16, 3, True, 16): 0, (5, 4, False, 22): 1, (13, 6, False, 17): 0, (13, 10, True, 14): 1, (17, 3, True, 18): 1, (15, 9, True, 20): 1, (6, 3, False, 24): 2, (8, 10, False, 25): 1, (21, 6, True, 24): 0, (15, 9, True, 16): 2, (15, 8, False, 14): 0, (16, 8, False, 25): 0, (20, 1, True, 20): 0, (16, 9, False, 15): 1, (20, 9, True, 17): 0, (14, 10, True, 16): 2, (16, 7, True, 21): 0, (12, 6, True, 17): 0, (6, 1, False, 23): 0, (8, 8, False, 19): 1, (19, 5, True, 21): 2, (13, 2, False, 26): 0, (12, 8, False, 28): 1, (12, 9, True, 21): 0, (19, 9, False, 26): 0, (21, 2, True, 26): 0, (19, 8, False, 15): 0, (21, 1, True, 13): 0, (18, 3, True, 23): 2, (19, 3, True, 22): 0, (8, 9, False, 28): 2, (13, 9, False, 29): 2, (17, 4, False, 28): 2, (15, 7, True, 17): 1, (20, 5, True, 18): 0, (15, 8, True, 21): 0, (6, 7, False, 23): 2, (11, 6, False, 26): 1, (20, 4, False, 26): 0, (13, 10, False, 11): 2, (10, 5, False, 14): 2, (21, 5, True, 13): 0, (7, 5, False, 24): 1, (10, 5, False, 25): 2, (19, 9, True, 20): 0, (19, 6, True, 14): 0, (16, 5, True, 19): 1, (4, 3, False, 21): 0, (18, 2, False, 24): 0, (4, 5, False, 21): 0, (7, 3, False, 19): 1, (5, 3, False, 20): 0, (20, 2, True, 16): 0, (4, 3, False, 23): 1, (21, 2, True, 23): 0, (6, 5, False, 21): 1, (13, 9, True, 23): 2, (8, 4, False, 18): 2, (15, 5, False, 27): 2, (18, 1, False, 12): 1, (17, 5, True, 19): 2, (12, 4, False, 29): 2, (18, 4, False, 30): 0, (19, 4, False, 29): 0, (17, 4, False, 27): 0, (21, 3, False, 18): 0, (13, 3, True, 24): 0, (12, 6, False, 28): 0, (15, 5, True, 29): 2, (15, 5, False, 28): 0, (6, 10, False, 28): 0, (14, 8, True, 18): 1, (5, 10, False, 17): 1, (16, 1, True, 21): 0, (4, 3, False, 24): 2, (12, 3, False, 26): 1, (16, 5, False, 27): 0, (13, 8, False, 13): 0, (18, 8, False, 14): 0, (5, 1, False, 14): 2, (5, 7, False, 25): 0, (15, 2, True, 20): 1, (12, 7, False, 14): 0, (17, 7, True, 13): 0, (20, 4, True, 24): 0, (5, 7, False, 20): 1, (19, 1, False, 13): 0, (8, 8, False, 15): 2, (4, 9, False, 23): 0, (16, 7, True, 23): 2, (4, 3, False, 26): 1, (4, 10, False, 23): 1, (12, 5, True, 16): 2, (4, 5, False, 24): 0, (19, 5, False, 25): 0, (20, 5, False, 24): 0, (18, 9, False, 13): 0, (14, 10, False, 12): 2, (21, 10, False, 12): 0, (7, 3, False, 14): 1, (18, 10, False, 11): 0, (12, 8, True, 9): 1, (19, 10, False, 7): 0, (18, 4, False, 14): 0, (14, 7, True, 14): 1, (16, 7, True, 15): 0, (18, 10, False, 25): 2, (7, 3, False, 20): 1, (5, 1, False, 23): 1, (19, 10, False, 12): 0, (8, 5, False, 14): 0, (12, 7, True, 19): 1, (21, 1, True, 12): 0, (11, 6, False, 16): 1, (8, 4, False, 19): 1, (17, 10, True, 24): 2, (8, 2, False, 19): 1, (16, 9, False, 16): 0, (16, 3, False, 14): 0, (20, 1, False, 12): 0, (11, 3, False, 14): 0, (11, 1, False, 15): 2, (5, 2, False, 24): 1, (14, 7, True, 23): 0, (15, 7, True, 22): 1, (12, 6, True, 18): 1, (12, 1, True, 19): 0, (11, 6, False, 30): 0, (16, 6, False, 31): 0, (20, 6, False, 32): 0, (17, 10, False, 30): 0, (18, 1, False, 13): 0, (19, 8, False, 12): 2, (12, 10, True, 22): 1, (9, 6, False, 26): 2, (18, 9, True, 16): 1, (17, 2, True, 16): 0, (10, 2, False, 17): 2, (16, 6, True, 23): 1, (9, 1, False, 24): 1, (18, 9, False, 12): 0, (11, 3, False, 26): 2, (6, 5, False, 26): 0, (16, 2, False, 25): 1, (17, 3, True, 24): 1, (13, 9, True, 24): 2, (19, 4, True, 18): 2, (5, 2, False, 19): 2, (15, 4, False, 16): 0, (14, 5, True, 17): 1, (9, 9, False, 25): 1, (11, 8, False, 27): 0, (13, 2, True, 28): 1, (13, 5, True, 18): 2, (16, 1, False, 25): 1, (11, 7, False, 25): 2, (19, 2, True, 19): 0, (20, 6, True, 14): 2, (9, 6, False, 29): 0, (12, 6, False, 30): 1, (16, 10, False, 29): 0, (12, 10, False, 28): 1, (21, 9, True, 13): 0, (5, 4, False, 15): 1, (16, 4, True, 14): 1, (14, 2, True, 19): 0, (12, 3, True, 21): 2, (10, 1, False, 14): 2, (21, 3, False, 25): 0, (9, 5, False, 27): 0, (8, 9, False, 27): 1, (17, 9, False, 27): 1, (11, 7, False, 27): 1, (10, 3, False, 25): 1, (8, 9, False, 26): 0, (19, 9, True, 25): 2, (19, 9, False, 24): 0, (9, 5, False, 28): 2, (8, 2, False, 28): 1, (16, 10, False, 28): 1, (9, 4, False, 27): 1, (8, 7, False, 17): 1, (21, 1, False, 13): 0, (13, 10, False, 13): 1, (16, 2, False, 15): 1, (10, 7, False, 26): 2, (13, 7, True, 25): 2, (12, 8, False, 15): 0, (4, 10, False, 22): 0, (14, 6, True, 18): 1, (4, 10, False, 20): 1, (20, 7, False, 12): 0, (14, 1, False, 11): 2, (14, 9, False, 13): 1, (9, 5, False, 16): 0, (14, 4, True, 15): 0, (4, 7, False, 19): 1, (20, 5, True, 23): 0, (12, 9, True, 23): 2, (18, 6, True, 19): 0, (17, 3, False, 13): 0, (20, 5, False, 12): 0, (19, 10, True, 11): 1, (18, 8, True, 13): 0, (13, 9, False, 25): 0, (12, 3, False, 27): 0, (6, 4, False, 19): 0, (19, 2, True, 18): 2, (13, 1, False, 24): 0, (18, 8, True, 22): 0, (19, 4, False, 16): 0, (12, 3, False, 15): 0, (19, 3, False, 15): 0, (21, 2, False, 25): 0, (16, 5, True, 16): 1, (19, 5, True, 17): 2, (14, 7, False, 26): 1, (21, 9, False, 22): 0, (18, 1, True, 16): 1, (13, 7, True, 24): 1, (21, 7, True, 24): 2, (19, 2, False, 12): 0, (9, 6, False, 19): 2, (7, 2, False, 16): 1, (11, 9, False, 18): 2, (15, 6, True, 19): 2, (10, 9, False, 17): 1, (5, 4, False, 20): 0, (19, 2, False, 15): 0, (19, 5, False, 15): 0, (21, 7, False, 14): 0, (16, 10, True, 12): 1, (13, 10, False, 12): 1, (16, 3, False, 13): 0, (8, 2, False, 18): 1, (20, 4, True, 18): 0, (11, 3, False, 29): 2, (17, 9, False, 28): 2, (12, 10, False, 27): 2, (10, 10, False, 28): 0, (18, 8, False, 27): 0, (18, 4, False, 15): 0, (20, 6, True, 17): 0, (15, 8, True, 23): 0, (8, 3, False, 27): 0, (10, 9, False, 26): 0, (14, 5, False, 25): 0, (12, 4, False, 17): 0, (12, 8, False, 13): 0, (12, 1, False, 13): 0, (21, 8, False, 16): 0, (20, 7, True, 17): 0, (16, 7, False, 14): 2, (8, 5, False, 17): 0, (5, 4, False, 25): 1, (16, 4, False, 15): 0, (21, 10, True, 9): 0, (18, 9, True, 21): 0, (8, 6, False, 25): 1, (10, 6, False, 28): 2, (20, 6, False, 27): 0, (21, 6, False, 23): 0, (12, 8, True, 16): 0, (14, 4, True, 19): 1, (16, 3, False, 26): 0, (13, 5, True, 26): 1, (21, 3, False, 28): 0, (8, 4, False, 28): 1, (18, 4, False, 27): 0, (5, 7, False, 19): 0, (16, 7, True, 18): 2, (21, 7, True, 13): 0, (17, 5, False, 13): 0, (13, 4, False, 13): 2, (12, 4, True, 20): 0, (19, 5, True, 22): 2, (16, 1, True, 16): 1, (13, 7, False, 27): 0, (18, 8, False, 12): 0, (14, 4, False, 13): 0, (19, 4, False, 14): 0, (5, 1, False, 22): 1, (10, 1, False, 27): 0, (19, 3, False, 27): 0, (15, 2, False, 28): 0, (16, 4, True, 15): 2, (20, 7, False, 11): 0, (21, 2, True, 24): 0, (16, 7, True, 17): 2, (11, 4, False, 16): 1, (21, 10, False, 14): 0, (14, 10, True, 13): 1, (19, 7, False, 24): 0, (10, 1, False, 25): 0, (19, 1, False, 25): 0, (6, 3, False, 16): 2, (9, 6, False, 18): 2, (21, 9, False, 17): 0, (10, 3, False, 15): 0, (17, 2, False, 15): 2, (16, 6, True, 18): 2, (13, 6, False, 16): 0, (7, 7, False, 19): 2, (8, 5, False, 26): 2, (15, 9, False, 14): 1, (16, 3, True, 23): 0, (6, 4, False, 25): 2, (16, 10, False, 27): 0, (16, 7, False, 26): 2, (19, 4, True, 27): 0, (19, 4, False, 26): 0, (4, 9, False, 18): 2, (7, 2, False, 24): 1, (6, 1, False, 24): 0, (17, 7, True, 25): 2, (21, 3, False, 23): 0, (13, 5, False, 15): 1, (17, 9, False, 25): 0, (21, 1, True, 11): 0, (13, 1, False, 12): 1, (17, 7, False, 27): 0, (18, 7, False, 26): 0, (20, 1, False, 26): 0, (17, 6, False, 28): 0, (10, 5, False, 27): 1, (14, 5, False, 28): 2, (13, 1, False, 28): 1, (9, 6, False, 27): 0, (12, 10, True, 24): 0, (11, 3, False, 16): 2, (5, 9, False, 23): 1, (15, 2, True, 17): 0, (4, 2, False, 23): 2, (7, 1, False, 25): 2, (21, 1, False, 25): 0, (18, 1, False, 14): 1, (21, 8, True, 22): 0, (14, 3, True, 25): 1, (15, 9, False, 27): 0, (21, 9, False, 28): 0, (13, 3, False, 28): 0, (18, 3, False, 29): 0, (6, 5, False, 18): 0, (7, 8, False, 17): 0, (6, 4, False, 17): 0, (16, 2, True, 17): 1, (20, 5, True, 17): 0, (6, 5, False, 22): 2, (16, 1, False, 13): 2, (15, 9, True, 19): 0, (7, 10, False, 14): 1, (16, 8, False, 13): 1, (13, 10, True, 12): 0, (5, 6, False, 19): 0, (12, 8, False, 17): 1, (18, 4, True, 17): 1, (9, 1, False, 27): 1, (14, 2, True, 23): 1, (14, 7, False, 11): 1, (18, 7, False, 12): 1, (19, 7, False, 11): 0, (5, 2, False, 14): 1, (10, 4, False, 25): 1, (9, 5, False, 29): 0, (18, 10, True, 26): 2, (14, 8, True, 27): 1, (21, 6, False, 13): 0, (9, 9, False, 14): 2, (14, 8, True, 15): 0, (13, 8, False, 15): 1, (12, 9, True, 16): 1, (20, 7, True, 24): 0, (5, 5, False, 24): 0, (18, 9, True, 15): 2, (20, 6, True, 15): 1, (5, 9, False, 16): 1, (7, 4, False, 18): 1, (15, 8, True, 24): 2, (6, 4, False, 26): 0, (21, 9, False, 27): 0, (14, 4, True, 26): 2, (7, 6, False, 27): 0, (17, 3, False, 27): 0, (12, 5, False, 29): 0, (5, 6, False, 18): 0, (12, 10, True, 13): 1, (4, 5, False, 28): 0, (20, 8, False, 27): 0, (11, 7, False, 17): 1, (13, 10, False, 10): 1, (6, 6, False, 24): 0, (13, 3, False, 25): 1, (6, 2, False, 28): 1, (12, 2, False, 29): 2, (17, 2, False, 30): 0, (15, 10, False, 29): 2, (16, 5, False, 15): 1, (19, 6, True, 17): 0, (9, 9, False, 16): 1, (13, 5, True, 15): 0, (21, 3, True, 13): 0, (19, 3, False, 13): 0, (18, 8, False, 15): 0, (6, 2, False, 18): 0, (14, 9, True, 18): 1, (21, 7, False, 25): 0, (19, 10, False, 11): 0, (15, 2, False, 12): 0, (9, 8, False, 17): 2, (12, 2, False, 28): 1, (16, 1, False, 27): 2, (14, 1, False, 26): 0, (14, 3, True, 19): 1, (17, 8, False, 14): 2, (12, 3, False, 14): 2, (4, 1, False, 16): 1, (15, 5, False, 16): 0, (15, 3, True, 16): 1, (13, 6, True, 18): 2, (12, 6, True, 22): 1, (13, 1, True, 17): 2, (14, 9, True, 17): 1, (6, 7, False, 26): 1, (5, 9, False, 19): 2, (14, 2, True, 24): 1, (18, 2, True, 16): 2, (19, 2, True, 15): 0, (15, 8, True, 18): 2, (18, 10, True, 13): 2, (18, 2, True, 15): 0, (4, 4, False, 21): 1, (18, 8, False, 26): 0, (19, 8, False, 25): 0, (21, 5, True, 25): 0, (21, 4, True, 24): 0, (16, 6, False, 27): 0, (12, 3, False, 12): 1, (7, 2, False, 28): 2, (18, 2, True, 27): 2, (14, 2, False, 28): 0, (9, 8, False, 29): 2, (20, 9, False, 26): 0, (21, 4, False, 23): 0, (17, 8, True, 14): 0, (20, 8, True, 15): 0, (13, 3, True, 25): 1, (11, 9, False, 25): 1, (6, 6, False, 20): 0, (13, 8, True, 16): 1, (4, 3, False, 19): 0, (9, 6, False, 16): 1, (17, 6, True, 15): 2, (9, 9, False, 15): 0, (14, 1, True, 16): 2, (12, 2, True, 17): 1, (15, 2, True, 18): 2, (19, 9, True, 17): 0, (12, 4, False, 27): 2, (20, 7, True, 21): 1, (21, 2, True, 25): 0, (16, 9, True, 15): 1, (5, 1, False, 25): 0, (17, 4, False, 16): 0, (13, 2, True, 25): 0, (12, 4, True, 18): 1, (6, 2, False, 20): 1, (21, 5, True, 24): 0, (14, 9, True, 23): 2, (21, 9, True, 23): 0, (15, 6, False, 26): 0, (16, 8, True, 19): 2, (10, 7, False, 17): 2, (6, 8, False, 19): 1, (18, 8, False, 16): 0, (8, 7, False, 15): 1, (12, 2, True, 22): 2, (11, 2, False, 17): 1, (5, 2, False, 26): 1, (4, 9, False, 22): 2, (15, 4, True, 24): 2, (13, 2, True, 22): 0, (5, 2, False, 17): 1, (14, 1, True, 15): 0, (18, 5, False, 25): 0, (16, 2, True, 25): 1, (4, 5, False, 17): 2, (13, 2, True, 24): 1, (12, 6, False, 27): 0, (10, 9, False, 16): 1, (20, 10, False, 9): 0, (19, 4, True, 15): 2, (12, 3, False, 29): 0, (16, 2, False, 30): 1, (15, 3, True, 18): 2, (8, 1, False, 17): 0, (6, 6, False, 25): 1, (11, 5, False, 15): 0, (18, 4, True, 26): 0, (21, 8, False, 12): 0, (15, 3, True, 17): 0, (15, 2, True, 24): 1, (16, 7, True, 22): 2, (15, 9, False, 12): 1, (18, 10, False, 10): 0, (15, 4, False, 11): 0, (16, 10, True, 25): 2, (19, 2, False, 25): 0, (21, 5, False, 18): 0, (7, 2, False, 26): 2, (16, 1, True, 13): 1, (13, 8, True, 15): 1, (11, 2, False, 13): 1, (4, 1, False, 23): 1, (6, 10, False, 14): 1, (21, 5, False, 23): 0, (17, 8, True, 24): 2, (8, 8, False, 25): 2, (21, 3, False, 29): 0, (12, 10, False, 29): 1, (14, 9, True, 27): 0, (11, 9, False, 17): 2, (15, 8, False, 12): 0, (14, 6, True, 23): 2, (18, 3, False, 27): 0, (15, 1, False, 26): 1, (18, 2, True, 23): 0, (21, 7, True, 14): 0, (20, 9, True, 14): 0, (20, 2, True, 24): 0, (18, 2, False, 27): 0, (19, 2, False, 26): 0, (18, 1, True, 12): 2, (21, 5, False, 25): 0, (4, 2, False, 26): 2, (20, 1, False, 27): 2, (18, 7, True, 21): 0, (13, 6, True, 24): 0, (9, 2, False, 26): 2, (10, 5, False, 30): 0, (9, 3, False, 26): 1, (13, 3, False, 27): 0, (4, 2, False, 19): 1, (14, 9, True, 16): 1, (17, 5, False, 27): 0, (21, 7, True, 23): 2, (10, 6, False, 15): 2, (10, 3, False, 18): 1, (4, 6, False, 21): 1, (14, 8, True, 22): 1, (20, 3, False, 25): 0, (13, 4, True, 26): 1, (8, 5, False, 31): 1, (12, 8, False, 33): 1, (15, 8, False, 34): 2, (16, 7, False, 15): 0, (14, 7, True, 22): 2, (21, 9, True, 24): 0, (10, 10, False, 13): 0, (15, 1, False, 11): 1, (9, 5, False, 14): 1, (18, 7, True, 24): 1, (15, 4, True, 23): 2, (21, 9, True, 22): 0, (13, 9, True, 26): 0, (7, 6, False, 30): 2, (5, 1, False, 20): 2, (18, 5, True, 18): 0, (6, 1, False, 18): 1, (7, 8, False, 25): 0, (17, 5, False, 15): 2, (16, 8, False, 14): 1, (17, 4, True, 15): 1, (6, 7, False, 19): 2, (21, 2, False, 23): 0, (5, 4, False, 27): 0, (16, 2, False, 27): 2, (12, 3, True, 16): 0, (16, 7, False, 27): 1, (4, 5, False, 19): 1, (4, 8, False, 27): 0, (16, 5, True, 22): 0, (12, 7, False, 27): 2, (20, 10, True, 24): 0, (15, 8, False, 24): 2, (15, 10, True, 24): 0, (16, 5, True, 25): 2, (5, 9, False, 18): 2, (7, 7, False, 26): 1, (13, 9, False, 13): 1, (13, 5, False, 14): 1, (13, 5, True, 25): 0, (14, 3, True, 26): 1, (6, 6, False, 27): 2, (14, 6, False, 13): 1, (4, 3, False, 20): 0, (12, 9, False, 13): 1, (13, 9, True, 16): 1, (18, 1, True, 17): 0, (21, 5, False, 24): 0, (20, 7, True, 23): 0, (8, 7, False, 19): 1, (17, 1, True, 17): 0, (12, 7, True, 24): 2, (6, 9, False, 18): 0, (15, 6, True, 16): 0, (6, 3, False, 26): 0, (14, 10, True, 25): 2, (18, 4, True, 15): 2, (8, 7, False, 28): 2, (19, 7, True, 27): 0, (15, 8, False, 27): 0, (18, 5, True, 25): 0, (18, 8, True, 26): 0, (16, 2, True, 19): 1, (12, 9, True, 20): 2, (13, 1, True, 16): 2, (13, 6, True, 16): 1, (12, 8, False, 14): 2, (18, 9, False, 26): 1, (12, 7, True, 20): 1, (8, 3, False, 16): 1, (13, 2, True, 14): 2, (11, 9, False, 16): 0, (10, 2, False, 16): 0, (11, 3, False, 28): 0, (15, 9, False, 29): 0, (13, 10, False, 28): 1, (19, 3, True, 23): 0, (14, 3, True, 17): 0, (17, 7, True, 22): 0, (21, 6, True, 26): 0, (8, 5, False, 28): 1, (4, 10, False, 15): 0, (11, 4, False, 27): 1, (14, 6, False, 28): 0, (5, 2, False, 31): 2, (17, 4, True, 25): 2, (17, 8, True, 16): 1, (13, 1, True, 14): 0, (19, 9, True, 15): 2, (20, 5, True, 14): 0, (17, 6, True, 14): 1, (4, 8, False, 24): 0, (18, 5, True, 23): 2, (13, 2, True, 18): 1, (6, 7, False, 18): 0, (5, 8, False, 21): 0, (14, 1, True, 18): 2, (14, 7, True, 17): 2, (20, 7, True, 15): 1, (17, 8, False, 13): 2, (7, 10, False, 28): 2, (7, 7, False, 30): 1, (17, 7, False, 29): 0, (20, 7, True, 27): 0, (11, 8, False, 28): 2, (12, 8, False, 27): 2, (21, 10, True, 25): 0, (20, 10, True, 11): 0, (21, 10, True, 10): 0, (12, 2, False, 12): 2, (15, 7, False, 13): 0, (8, 5, False, 27): 1, (4, 1, False, 19): 0, (15, 2, True, 16): 0, (17, 4, True, 26): 0, (20, 6, False, 13): 0, (4, 2, False, 24): 1, (4, 8, False, 18): 1, (15, 4, True, 16): 1, (20, 5, True, 27): 0, (16, 3, False, 15): 0, (14, 6, True, 24): 2, (12, 8, True, 20): 1, (8, 9, False, 17): 1, (18, 2, True, 17): 0, (13, 1, False, 13): 1, (21, 2, True, 15): 0, (5, 8, False, 18): 2, (4, 4, False, 17): 0, (8, 8, False, 18): 0, (8, 6, False, 28): 0, (15, 5, True, 16): 2, (13, 8, True, 14): 2, (13, 8, True, 24): 2, (9, 5, False, 17): 0, (21, 3, True, 25): 0, (8, 7, False, 16): 1, (20, 2, True, 23): 0, (18, 6, True, 23): 0, (11, 10, False, 11): 2, (18, 6, False, 11): 0, (4, 10, False, 18): 1, (21, 8, True, 12): 0, (14, 4, True, 24): 2, (13, 3, True, 17): 1, (8, 3, False, 17): 2, (14, 7, True, 24): 0, (15, 1, True, 23): 0, (7, 8, False, 16): 1, (5, 4, False, 18): 0, (4, 9, False, 25): 0, (5, 2, False, 28): 0, (11, 1, False, 29): 1, (18, 5, True, 17): 2, (6, 7, False, 25): 2, (5, 3, False, 25): 1, (21, 10, True, 11): 0, (15, 2, False, 13): 0, (20, 6, False, 12): 0, (12, 2, False, 15): 0, (15, 8, True, 15): 2, (13, 7, True, 17): 0, (19, 2, True, 25): 0, (5, 1, False, 26): 0, (20, 8, False, 12): 0, (14, 5, True, 14): 1, (12, 7, True, 13): 2, (6, 9, False, 29): 1, (10, 6, False, 32): 0, (21, 6, True, 31): 0, (21, 6, False, 30): 0, (21, 1, True, 28): 0, (16, 9, True, 17): 1, (19, 1, False, 12): 2, (15, 5, True, 17): 0, (5, 8, False, 24): 0, (19, 3, True, 18): 0, (14, 8, True, 17): 1, (19, 6, False, 13): 0, (14, 2, False, 13): 2, (9, 3, False, 15): 2, (10, 5, False, 28): 2, (18, 1, True, 27): 0, (13, 5, True, 19): 1, (12, 4, False, 30): 0, (7, 7, False, 17): 1, (4, 8, False, 20): 0, (19, 6, False, 26): 0, (12, 3, True, 14): 1, (7, 7, False, 25): 1, (20, 3, True, 17): 0, (8, 8, False, 30): 0, (9, 7, False, 29): 2, (19, 7, False, 28): 0, (14, 7, False, 28): 0, (17, 3, True, 19): 1, (21, 6, True, 12): 0, (19, 5, True, 12): 0, (10, 4, False, 16): 1, (13, 3, True, 18): 0, (14, 5, True, 19): 0, (14, 8, True, 16): 2, (17, 4, True, 24): 0, (4, 2, False, 25): 0, (10, 5, False, 17): 1, (9, 2, False, 17): 1, (11, 5, False, 28): 2, (12, 5, False, 14): 0, (8, 8, False, 26): 1, (19, 1, True, 22): 0, (9, 4, False, 17): 1, (21, 3, True, 12): 0, (20, 3, False, 12): 0, (16, 8, False, 12): 0, (17, 4, False, 12): 0, (7, 1, False, 24): 1, (20, 2, True, 18): 1, (5, 4, False, 28): 1, (14, 10, True, 14): 1, (21, 4, True, 12): 0, (19, 4, False, 12): 1, (21, 4, False, 13): 0, (5, 8, False, 26): 0, (12, 10, False, 12): 0, (5, 3, False, 24): 1, (14, 1, False, 13): 2, (14, 3, False, 14): 1, (17, 6, True, 16): 0, (15, 7, True, 24): 2, (4, 2, False, 22): 1, (13, 8, True, 22): 0, (19, 8, True, 23): 0, (12, 10, True, 21): 1, (10, 9, False, 27): 1, (20, 1, False, 25): 0, (5, 8, False, 16): 0, (15, 1, True, 24): 1, (17, 4, True, 16): 2, (13, 4, False, 28): 2, (21, 4, False, 28): 0, (16, 4, True, 25): 1, (15, 5, True, 24): 0, (13, 7, True, 22): 2, (8, 4, False, 26): 1, (18, 2, True, 26): 0, (20, 2, False, 26): 0, (7, 9, False, 27): 2, (21, 9, False, 18): 0, (21, 1, False, 24): 0, (20, 1, True, 12): 0, (17, 6, True, 24): 0, (13, 2, False, 15): 2, (20, 5, False, 13): 0, (21, 3, False, 17): 0, (4, 1, False, 24): 1, (16, 3, True, 26): 2, (10, 9, False, 28): 0, (19, 9, False, 27): 0, (12, 5, True, 24): 0, (20, 9, False, 12): 0, (16, 6, True, 14): 0, (6, 10, False, 16): 1, (12, 4, True, 17): 0, (16, 4, True, 24): 1, (9, 10, False, 12): 0, (21, 10, False, 10): 0, (18, 6, False, 14): 0, (8, 8, False, 14): 0, (21, 8, False, 15): 0, (20, 4, True, 23): 2, (11, 6, False, 14): 2, (5, 7, False, 16): 1, (15, 3, True, 24): 0, (5, 4, False, 26): 1, (19, 4, False, 13): 0, (12, 7, True, 16): 1, (19, 10, False, 10): 0, (15, 10, True, 10): 0, (20, 6, True, 12): 2, (11, 9, False, 13): 2, (12, 6, False, 13): 1, (15, 10, True, 26): 1, (12, 1, True, 16): 1, (16, 3, True, 27): 0, (17, 4, True, 17): 1, (5, 6, False, 25): 0, (20, 1, True, 24): 1, (6, 2, False, 19): 1, (4, 1, False, 17): 1, (14, 7, False, 13): 2, (20, 2, True, 14): 0, (11, 1, False, 14): 2, (14, 8, True, 23): 1, (16, 1, True, 23): 1, (20, 10, True, 13): 0, (20, 9, False, 9): 0, (15, 6, True, 18): 2, (17, 4, False, 25): 0, (20, 10, True, 12): 1, (17, 7, True, 24): 0, (20, 9, False, 10): 0, (18, 4, False, 10): 1, (16, 2, False, 11): 1, (18, 9, False, 10): 0, (10, 1, False, 11): 1, (5, 1, False, 28): 0, (13, 5, True, 29): 2, (20, 9, False, 27): 0, (9, 10, False, 27): 1, (10, 7, False, 13): 2, (15, 1, False, 12): 1, (8, 10, False, 13): 0, (20, 6, False, 25): 0, (12, 3, True, 17): 0, (13, 5, True, 23): 0, (12, 2, True, 14): 0, (16, 3, False, 12): 1, (20, 9, True, 15): 0, (17, 3, True, 26): 2, (4, 10, False, 17): 0, (17, 5, True, 17): 2, (5, 6, False, 28): 0, (4, 6, False, 27): 0, (13, 1, True, 26): 2, (16, 1, True, 27): 0, (14, 1, False, 27): 0, (16, 4, False, 28): 0, (17, 8, True, 25): 2, (16, 3, True, 17): 0, (20, 9, False, 11): 0, (15, 3, False, 12): 0, (21, 3, False, 14): 0, (13, 8, True, 25): 0, (21, 8, True, 24): 0, (14, 9, True, 24): 1, (20, 3, False, 11): 0, (21, 10, True, 8): 0, (10, 1, False, 26): 0, (17, 2, False, 10): 0, (10, 3, False, 13): 1, (21, 5, True, 14): 1, (8, 2, False, 29): 1, (18, 2, False, 28): 1, (18, 5, False, 27): 0, (15, 9, True, 15): 2, (16, 3, False, 27): 0, (4, 8, False, 25): 0, (17, 5, True, 23): 0, (21, 3, False, 24): 0, (4, 1, False, 28): 1, (7, 2, False, 27): 2, (12, 9, False, 27): 0, (20, 6, False, 28): 0, (5, 7, False, 18): 0, (16, 9, False, 13): 1, (7, 4, False, 17): 1, (17, 5, True, 25): 1, (18, 5, True, 24): 2, (13, 2, True, 26): 0, (15, 1, True, 22): 1, (6, 8, False, 26): 0, (15, 2, True, 27): 2, (19, 8, True, 16): 2, (18, 3, True, 15): 0, (13, 3, True, 16): 1, (15, 6, True, 26): 1, (14, 2, False, 14): 2, (16, 5, False, 12): 0, (9, 4, False, 15): 2, (5, 2, False, 18): 1, (8, 1, False, 14): 2, (11, 8, False, 15): 2, (18, 6, True, 25): 1, (6, 8, False, 17): 1, (11, 6, False, 15): 0, (5, 3, False, 19): 1, (20, 4, True, 26): 1, (17, 3, True, 16): 2, (15, 4, False, 13): 0, (14, 2, True, 26): 0, (19, 4, True, 23): 0, (6, 7, False, 15): 1, (17, 6, True, 25): 1, (6, 4, False, 27): 1, (11, 10, False, 28): 0, (11, 8, False, 13): 0, (19, 8, False, 13): 0, (5, 1, False, 15): 1, (17, 6, False, 26): 0, (19, 4, True, 17): 0, (12, 1, True, 21): 2, (12, 2, False, 14): 0, (14, 5, True, 25): 0, (18, 9, True, 13): 0, (9, 7, False, 15): 1, (12, 9, True, 22): 0, (21, 5, True, 26): 0, (19, 9, True, 23): 0, (15, 9, True, 25): 0, (5, 5, False, 16): 0, (8, 2, False, 27): 2, (4, 2, False, 21): 0, (14, 1, False, 14): 0, (6, 3, False, 27): 1, (19, 4, True, 16): 0, (9, 1, False, 14): 1, (20, 6, True, 13): 0, (17, 6, False, 13): 0, (16, 9, True, 14): 0, (4, 7, False, 24): 0, (15, 6, True, 23): 2, (13, 6, False, 15): 0, (20, 2, True, 17): 2, (4, 8, False, 23): 2, (15, 4, True, 27): 1, (19, 1, True, 15): 0, (4, 8, False, 17): 0, (19, 1, False, 26): 0, (13, 9, True, 22): 1, (13, 3, True, 19): 0, (6, 9, False, 19): 1, (12, 8, True, 22): 2, (20, 2, False, 12): 0, (6, 6, False, 16): 2, (5, 5, False, 28): 0, (5, 2, False, 16): 1, (18, 9, True, 24): 2, (11, 3, False, 27): 2, (15, 10, True, 27): 2, (19, 5, True, 27): 2, (15, 6, False, 28): 2, (14, 6, True, 15): 0, (4, 4, False, 27): 0, (6, 6, False, 17): 2, (6, 7, False, 28): 0, (19, 2, False, 27): 0, (4, 10, False, 14): 0, (8, 6, False, 14): 1, (6, 7, False, 16): 1, (13, 7, False, 13): 0, (5, 2, False, 29): 2, (20, 8, True, 13): 0, (10, 3, False, 16): 0, (14, 8, True, 25): 0, (12, 5, True, 17): 2, (18, 6, True, 18): 2, (18, 6, True, 16): 0, (16, 9, True, 23): 1, (7, 3, False, 29): 2, (7, 8, False, 28): 1, (6, 4, False, 18): 1, (17, 6, False, 14): 2, (20, 2, False, 27): 0, (21, 2, False, 26): 0, (13, 6, False, 28): 2, (17, 8, True, 15): 1, (18, 4, False, 12): 2, (6, 6, False, 28): 0, (9, 6, False, 28): 1, (18, 8, True, 14): 0, (15, 9, True, 24): 0, (15, 7, True, 23): 2, (16, 4, True, 26): 0, (13, 1, True, 23): 1, (8, 2, False, 16): 1, (15, 3, True, 26): 1, (18, 9, True, 23): 1, (13, 1, True, 15): 0, (6, 10, False, 27): 0, (5, 8, False, 15): 1, (17, 9, False, 12): 1, (9, 10, False, 13): 2, (8, 6, False, 17): 1, (12, 9, True, 12): 2, (5, 1, False, 17): 0, (20, 3, False, 26): 0, (4, 1, False, 20): 1, (7, 3, False, 18): 0, (5, 4, False, 17): 1, (21, 6, True, 25): 0, (11, 7, False, 28): 1, (8, 3, False, 18): 2, (20, 9, True, 13): 1, (14, 4, False, 14): 0, (16, 5, True, 17): 1, (11, 7, False, 14): 2, (13, 4, True, 24): 1, (14, 4, True, 23): 1, (4, 7, False, 16): 2, (10, 8, False, 14): 1, (17, 2, True, 25): 2, (5, 5, False, 29): 0, (16, 3, True, 14): 2, (21, 6, False, 27): 0, (13, 9, False, 27): 1, (19, 10, True, 26): 0, (14, 5, False, 12): 1, (18, 5, False, 13): 2, (19, 2, True, 13): 2, (15, 7, True, 21): 1, (4, 10, False, 25): 1, (4, 7, False, 18): 1, (16, 7, True, 14): 1, (21, 7, True, 12): 0, (21, 1, True, 23): 0, (12, 8, True, 21): 2, (8, 8, False, 27): 1, (11, 2, False, 25): 1, (7, 1, False, 26): 0, (18, 1, True, 25): 1, (6, 5, False, 16): 1, (7, 7, False, 15): 1, (4, 9, False, 19): 0, (12, 10, True, 10): 1, (13, 5, False, 11): 0, (20, 2, True, 15): 0, (21, 4, False, 17): 0, (9, 7, False, 16): 2, (17, 1, True, 22): 0, (18, 8, False, 25): 0, (12, 10, True, 15): 1, (11, 4, False, 14): 1, (16, 8, False, 28): 0, (7, 10, False, 13): 0, (8, 10, False, 14): 2, (20, 9, True, 22): 0, (20, 7, True, 14): 0, (10, 7, False, 14): 1, (21, 1, False, 26): 0, (16, 5, True, 26): 2, (14, 2, False, 12): 2, (15, 5, False, 29): 2, (18, 7, True, 23): 0, (10, 8, False, 13): 1, (7, 6, False, 17): 0, (13, 9, True, 14): 0, (10, 8, False, 27): 1, (19, 6, False, 27): 0, (17, 10, True, 12): 2, (8, 9, False, 15): 0, (13, 6, True, 26): 0, (19, 8, True, 24): 0, (16, 8, True, 16): 1, (15, 1, True, 15): 0, (15, 6, False, 15): 2, (10, 10, False, 12): 0, (12, 3, False, 31): 0, (5, 9, False, 24): 0, (16, 7, False, 29): 0, (10, 2, False, 31): 2, (20, 8, False, 29): 0, (4, 7, False, 17): 1, (15, 1, True, 25): 1, (13, 8, False, 27): 0, (4, 9, False, 17): 0, (7, 9, False, 26): 1, (19, 7, True, 25): 1, (14, 7, False, 27): 2, (12, 8, True, 25): 0, (12, 6, True, 15): 1, (16, 8, True, 14): 0, (19, 9, False, 13): 2, (21, 5, True, 11): 0, (16, 6, True, 25): 0, (15, 4, True, 26): 0, (6, 7, False, 29): 1, (13, 3, False, 15): 2, (21, 9, True, 11): 0, (5, 7, False, 13): 1, (13, 6, True, 15): 0, (11, 5, False, 16): 2, (19, 3, True, 14): 1, (19, 1, False, 11): 0, (17, 9, False, 11): 2, (8, 2, False, 15): 1, (19, 3, True, 25): 1, (20, 6, True, 26): 2, (20, 9, True, 16): 0, (18, 3, True, 13): 0, (20, 3, True, 14): 0, (19, 10, True, 24): 0, (17, 8, False, 27): 0, (21, 8, False, 28): 0, (19, 7, False, 13): 0, (17, 2, False, 12): 0, (5, 7, False, 24): 2, (20, 7, False, 7): 0, (13, 6, True, 8): 0, (13, 6, False, 7): 0, (13, 8, False, 8): 0, (17, 3, True, 25): 2, (12, 3, False, 13): 1, (10, 4, False, 15): 0, (4, 6, False, 20): 0, (20, 10, True, 25): 0, (9, 4, False, 28): 2, (18, 4, False, 28): 1, (19, 6, False, 30): 0, (18, 7, False, 29): 1, (14, 10, False, 29): 1, (8, 8, False, 16): 2, (16, 6, True, 15): 1, (5, 10, False, 14): 1, (18, 4, True, 25): 0, (13, 2, False, 13): 1, (14, 2, False, 30): 1, (17, 7, False, 30): 0, (16, 6, False, 28): 0, (17, 7, False, 28): 0, (4, 4, False, 23): 1, (12, 1, True, 20): 0, (10, 4, False, 14): 1, (20, 6, True, 25): 0, (10, 3, False, 28): 2, (9, 6, False, 17): 0, (9, 7, False, 28): 1, (20, 9, True, 24): 0, (15, 5, True, 25): 0, (17, 5, True, 26): 0, (19, 9, True, 26): 0, (14, 2, True, 25): 2, (21, 4, False, 24): 0, (17, 9, True, 25): 1, (10, 10, False, 29): 1, (8, 3, False, 29): 1, (20, 9, True, 26): 0, (7, 5, False, 28): 0, (9, 3, False, 30): 0, (19, 3, False, 29): 0, (12, 8, False, 29): 0, (16, 1, False, 26): 2, (4, 7, False, 27): 0, (10, 8, False, 28): 2, (19, 8, False, 28): 0, (16, 10, True, 28): 1, (8, 1, False, 29): 1, (8, 7, False, 27): 0, (13, 5, True, 24): 0, (9, 1, False, 28): 2, (12, 1, False, 29): 1, (7, 1, False, 14): 1, (19, 9, True, 24): 2, (21, 9, True, 28): 0, (20, 8, True, 23): 0, (7, 8, False, 27): 1, (20, 5, False, 27): 0, (11, 9, False, 28): 2, (7, 4, False, 30): 0, (13, 6, True, 25): 1, (20, 4, True, 13): 0, (12, 9, True, 15): 1, (9, 7, False, 27): 1, (18, 6, True, 14): 0, (12, 7, False, 28): 0, (14, 2, False, 29): 2, (21, 2, False, 29): 0, (12, 1, True, 15): 1, (15, 9, False, 13): 1, (8, 3, False, 15): 0, (6, 5, False, 27): 1, (12, 8, True, 18): 1, (17, 1, True, 24): 2, (14, 6, True, 27): 1, (13, 6, False, 13): 0, (15, 10, True, 13): 0, (17, 2, True, 17): 2, (16, 2, True, 18): 1, (19, 5, True, 13): 0, (17, 9, True, 14): 1, (15, 1, False, 13): 1, (12, 1, True, 17): 1, (18, 1, True, 15): 2, (14, 10, True, 12): 2, (13, 8, False, 12): 1, (6, 6, False, 26): 2, (21, 4, True, 14): 0, (16, 1, False, 12): 2, (17, 7, True, 27): 1, (21, 7, True, 28): 2, (18, 6, False, 29): 0, (19, 2, False, 28): 0, (14, 6, False, 29): 0, (17, 9, True, 30): 0, (17, 10, False, 27): 0, (12, 3, True, 22): 1, (4, 9, False, 26): 0, (4, 3, False, 27): 0, (10, 1, False, 28): 1, (12, 8, True, 23): 2, (4, 6, False, 17): 1, (20, 2, True, 26): 0, (12, 1, False, 27): 1, (4, 10, False, 24): 1, (19, 1, True, 14): 0, (16, 1, True, 25): 1, (12, 2, True, 21): 0, (18, 6, True, 30): 0, (12, 8, False, 30): 0, (6, 8, False, 28): 0, (19, 5, False, 27): 0, (18, 6, True, 28): 2, (9, 4, False, 29): 2, (13, 3, False, 32): 0, (15, 8, False, 31): 0, (15, 10, False, 31): 0, (13, 5, True, 17): 2, (4, 2, False, 20): 0, (20, 5, False, 29): 0, (16, 1, False, 28): 0, (17, 10, True, 25): 2, (13, 4, False, 11): 2, (7, 3, False, 17): 0, (11, 9, False, 15): 2, (17, 10, True, 26): 2, (21, 10, True, 27): 0, (18, 1, True, 24): 0, (13, 5, False, 28): 2, (20, 10, True, 28): 0, (9, 1, False, 29): 0, (10, 7, False, 31): 1, (7, 9, False, 28): 0, (6, 1, False, 16): 0, (13, 3, True, 27): 0, (18, 5, True, 15): 0, (12, 4, True, 25): 2, (15, 10, True, 12): 2, (8, 4, False, 15): 0, (18, 8, False, 13): 0, (15, 8, True, 16): 1, (12, 2, True, 25): 2, (20, 8, True, 25): 0, (15, 4, False, 27): 0, (17, 10, True, 13): 2, (20, 3, True, 15): 0, (6, 9, False, 16): 2, (18, 8, True, 15): 0, (7, 1, False, 27): 0, (17, 9, True, 15): 1, (11, 7, False, 15): 2, (14, 9, False, 12): 1, (15, 3, False, 14): 0, (17, 3, True, 13): 1, (15, 1, True, 13): 1, (15, 5, False, 13): 0, (6, 9, False, 26): 0, (7, 3, False, 28): 2, (20, 7, False, 26): 0, (12, 5, False, 12): 2, (17, 2, False, 28): 2, (15, 10, False, 27): 1, (14, 9, True, 22): 0, (12, 6, True, 26): 0, (19, 3, False, 14): 0, (9, 1, False, 26): 0, (17, 8, False, 12): 2, (18, 1, False, 10): 0, (19, 1, False, 9): 0, (10, 5, False, 11): 0, (9, 4, False, 16): 1, (14, 1, False, 12): 0, (19, 5, False, 29): 0, (18, 7, True, 15): 1, (17, 5, False, 29): 1, (7, 8, False, 26): 0, (21, 2, True, 11): 0, (16, 2, False, 12): 2, (10, 3, False, 29): 2, (17, 3, False, 29): 1, (6, 8, False, 30): 0, (14, 8, False, 30): 1, (8, 6, False, 13): 2, (4, 8, False, 19): 0, (19, 3, False, 12): 1, (13, 10, True, 11): 1, (11, 7, False, 12): 1, (16, 7, False, 28): 1, (12, 6, True, 24): 0, (14, 2, True, 27): 1, (17, 6, True, 17): 1, (13, 6, False, 29): 0, (19, 1, False, 27): 0, (21, 7, False, 13): 0, (5, 10, False, 13): 0, (11, 6, False, 29): 1, (12, 4, True, 21): 2, (20, 7, True, 25): 0, (6, 3, False, 14): 2, (9, 8, False, 28): 2, (19, 8, False, 27): 0, (18, 9, True, 26): 2, (15, 3, False, 28): 1, (12, 6, True, 27): 2, (7, 7, False, 28): 0, (16, 5, False, 13): 0, (12, 10, False, 11): 1, (17, 5, True, 15): 1, (21, 10, False, 27): 0, (10, 9, False, 12): 0, (15, 2, True, 15): 2, (19, 2, True, 17): 0, (17, 1, True, 23): 2, (15, 3, True, 15): 0, (18, 7, True, 16): 0, (18, 2, False, 13): 0, (12, 5, True, 15): 0, (18, 9, True, 14): 0, (17, 2, False, 11): 0, (19, 8, False, 11): 1, (8, 2, False, 30): 2, (17, 9, True, 27): 2, (14, 3, False, 12): 1, (9, 8, False, 14): 2, (4, 4, False, 28): 0, (5, 4, False, 16): 2, (18, 2, True, 28): 0, (12, 5, True, 21): 2, (15, 4, True, 25): 0, (16, 1, True, 24): 0, (19, 4, True, 14): 0, (9, 10, False, 29): 1, (14, 1, False, 29): 2, (16, 6, False, 30): 0, (19, 7, True, 14): 2, (13, 7, False, 12): 0, (6, 7, False, 27): 1, (6, 9, False, 17): 1, (11, 6, False, 28): 2, (8, 3, False, 30): 1, (19, 7, True, 13): 0, (19, 7, False, 12): 0, (5, 7, False, 27): 0, (13, 5, True, 27): 2, (5, 8, False, 27): 0, (8, 8, False, 28): 1, (19, 8, False, 29): 0, (21, 3, False, 15): 0, (12, 7, True, 23): 0, (18, 4, False, 11): 1, (10, 5, False, 31): 1, (17, 4, False, 31): 0, (15, 9, True, 31): 0, (15, 9, False, 30): 0, (13, 2, False, 29): 1, (21, 2, True, 27): 0, (12, 1, False, 12): 1, (4, 9, False, 28): 0, (19, 5, True, 26): 1, (10, 8, False, 16): 1, (18, 3, False, 13): 2, (15, 2, True, 25): 2, (7, 5, False, 16): 1, (9, 10, False, 28): 1, (17, 1, False, 27): 0, (7, 1, False, 16): 1, (9, 1, False, 13): 2, (4, 5, False, 16): 1, (16, 1, False, 11): 1, (15, 10, False, 10): 0, (6, 1, False, 11): 1, (19, 4, False, 11): 2, (14, 4, True, 16): 1, (16, 8, True, 13): 1, (21, 9, True, 10): 0, (6, 10, False, 12): 1, (5, 9, False, 15): 1, (7, 9, False, 17): 1, (9, 1, False, 15): 0, (20, 7, True, 12): 1, (16, 7, False, 13): 1, (19, 6, False, 12): 0, (13, 5, True, 16): 1, (9, 3, False, 28): 1, (6, 1, False, 14): 0, (8, 5, False, 29): 1, (6, 4, False, 16): 1, (15, 9, False, 28): 0, (12, 5, False, 30): 0, (17, 6, True, 26): 2, (21, 8, False, 27): 0, (16, 1, True, 15): 1, (14, 9, True, 15): 0, (9, 5, False, 30): 2, (16, 9, True, 26): 1, (12, 2, True, 24): 2, (18, 6, False, 27): 1, (15, 7, True, 27): 0, (15, 7, False, 28): 0, (9, 6, False, 15): 2, (9, 2, False, 15): 2, (21, 4, False, 16): 0, (4, 1, False, 25): 0, (10, 4, False, 28): 0, (15, 4, False, 29): 1, (20, 6, False, 29): 0, (21, 7, False, 26): 0, (20, 8, True, 26): 0, (17, 5, True, 24): 0, (16, 7, False, 11): 1, (15, 8, False, 11): 0, (14, 9, False, 29): 1, (16, 3, False, 30): 1, (16, 8, False, 29): 0, (4, 3, False, 25): 0, (12, 5, False, 13): 2, (4, 10, False, 16): 0, (14, 2, True, 15): 2, (12, 6, True, 14): 1, (17, 4, False, 26): 1, (7, 8, False, 15): 0, (14, 9, True, 12): 0, (7, 5, False, 27): 0, (13, 4, True, 27): 1, (13, 3, False, 29): 0, (18, 4, True, 12): 0, (12, 3, True, 15): 2, (21, 9, True, 12): 2, (13, 8, True, 26): 1, (14, 10, True, 26): 1, (11, 3, False, 15): 0, (18, 2, True, 25): 0, (14, 9, False, 27): 2, (20, 4, True, 16): 0, (4, 7, False, 26): 0, (11, 10, False, 10): 1, (4, 5, False, 27): 2, (15, 7, True, 14): 2, (21, 4, False, 12): 0, (12, 4, True, 23): 1, (12, 8, True, 27): 0, (18, 7, False, 13): 0, (20, 1, True, 15): 0, (7, 2, False, 18): 1, (4, 2, False, 17): 1, (20, 2, False, 28): 0, (16, 2, False, 29): 0, (16, 4, True, 30): 2, (11, 7, False, 10): 2, (10, 2, False, 12): 1, (16, 5, True, 27): 2, (7, 2, False, 29): 2, (13, 1, False, 26): 2, (20, 4, True, 27): 0, (20, 7, True, 13): 0, (14, 8, True, 14): 0, (13, 3, True, 26): 0, (17, 5, True, 28): 0, (21, 1, True, 24): 0, (4, 10, False, 26): 0, (14, 2, False, 15): 0, (14, 8, False, 28): 0, (15, 1, False, 28): 0, (19, 10, True, 12): 2, (15, 5, False, 12): 0, (6, 4, False, 28): 1, (19, 1, True, 23): 1, (16, 8, True, 26): 2, (5, 5, False, 27): 0, (6, 3, False, 17): 0, (16, 3, True, 15): 1, (13, 4, False, 30): 1, (20, 2, True, 28): 0, (13, 10, True, 13): 1, (11, 9, False, 14): 1, (4, 10, False, 13): 0, (12, 4, False, 13): 0, (17, 5, False, 12): 1, (19, 5, False, 12): 0, (20, 2, True, 25): 0, (5, 3, False, 18): 1, (5, 6, False, 27): 0, (5, 2, False, 27): 0, (6, 1, False, 28): 1, (13, 4, True, 25): 1, (17, 1, True, 14): 2, (20, 8, True, 14): 0, (18, 3, False, 10): 0, (14, 2, True, 13): 0, (10, 6, False, 16): 2, (11, 3, False, 30): 0, (16, 7, True, 25): 2, (19, 9, True, 11): 2, (16, 4, False, 13): 0, (15, 2, False, 29): 2, (11, 2, False, 29): 1, (12, 2, True, 12): 0, (15, 9, True, 26): 1, (16, 2, False, 28): 0, (9, 4, False, 13): 2, (17, 2, False, 29): 0, (15, 4, False, 30): 2, (21, 3, True, 26): 0, (12, 7, True, 11): 0, (15, 7, True, 12): 0, (7, 7, False, 14): 1, (19, 4, False, 10): 0, (18, 1, False, 11): 0, (14, 8, False, 10): 2, (6, 10, False, 13): 0, (19, 6, False, 11): 0, (14, 1, True, 24): 1, (17, 10, False, 9): 0, (12, 6, False, 12): 0, (8, 1, False, 13): 2, (17, 1, True, 13): 2, (13, 5, False, 12): 2, (18, 9, False, 27): 0, (20, 1, False, 28): 2, (11, 9, False, 29): 2, (5, 6, False, 17): 1, (15, 8, True, 25): 1, (19, 5, False, 28): 1, (8, 10, False, 29): 2, (17, 2, True, 14): 2, (21, 10, False, 28): 0, (12, 10, True, 26): 0, (15, 1, True, 12): 1, (19, 3, True, 15): 0, (13, 3, True, 14): 2, (18, 1, True, 11): 0, (20, 5, True, 25): 0, (12, 9, False, 28): 0, (11, 1, False, 12): 0, (19, 6, True, 15): 0, (21, 4, True, 27): 0, (16, 7, True, 26): 2, (21, 7, True, 27): 0, (19, 1, True, 11): 1, (9, 6, False, 14): 2, (15, 4, False, 28): 0, (12, 3, False, 28): 0, (8, 2, False, 14): 1, (21, 5, True, 10): 0, (20, 5, False, 10): 0, (11, 8, False, 10): 1, (9, 8, False, 12): 1, (6, 10, False, 29): 0, (8, 1, False, 27): 1, (20, 4, False, 27): 0, (13, 2, True, 12): 0, (18, 2, True, 13): 0, (20, 4, False, 12): 0, (18, 7, False, 27): 0, (4, 6, False, 26): 1, (7, 9, False, 15): 2, (15, 4, True, 15): 1, (7, 4, False, 15): 0, (8, 6, False, 27): 0, (4, 1, False, 15): 1, (7, 9, False, 14): 1, (13, 3, True, 28): 1, (19, 4, True, 25): 1, (4, 5, False, 26): 0, (12, 5, True, 14): 1, (20, 2, False, 11): 0, (7, 4, False, 29): 1, (16, 2, True, 15): 0, (4, 9, False, 24): 1, (10, 8, False, 31): 1, (18, 8, False, 31): 1, (19, 8, False, 30): 0, (20, 5, True, 15): 0, (14, 10, True, 27): 0, (12, 5, True, 26): 0, (14, 8, True, 11): 1, (15, 9, True, 13): 0, (17, 7, True, 28): 0, (20, 1, False, 10): 0, (12, 6, True, 9): 1, (20, 6, True, 9): 0, (16, 5, False, 14): 1, (5, 10, False, 28): 1, (16, 10, True, 27): 0, (13, 1, False, 29): 1, (5, 7, False, 29): 0, (14, 5, False, 31): 0, (13, 2, False, 32): 0, (16, 10, False, 31): 0, (12, 7, False, 11): 1, (9, 8, False, 15): 1, (18, 8, False, 29): 0, (8, 9, False, 30): 1, (12, 1, False, 30): 1, (6, 8, False, 14): 0, (20, 5, True, 26): 2, (10, 2, False, 29): 0, (14, 2, True, 16): 2, (14, 5, True, 16): 0, (11, 5, False, 29): 2, (21, 5, False, 28): 0, (6, 4, False, 29): 2, (7, 8, False, 14): 0, (9, 2, False, 13): 1, (9, 2, False, 28): 2, (17, 6, True, 28): 0, (4, 4, False, 20): 1, (18, 4, True, 29): 0, (19, 4, True, 28): 0, (20, 2, False, 30): 0, (21, 8, False, 26): 0, (17, 2, True, 27): 0, (6, 2, False, 16): 1, (8, 5, False, 16): 1, (19, 9, True, 14): 2, (17, 4, True, 13): 1, (20, 3, False, 27): 0, (6, 8, False, 32): 0, (11, 8, False, 33): 0, (14, 8, False, 34): 1, (14, 4, False, 29): 1, (19, 10, True, 28): 2, (15, 3, False, 30): 0, (4, 3, False, 17): 2, (12, 5, True, 23): 1, (20, 10, True, 26): 0, (17, 3, True, 14): 1, (12, 7, False, 12): 0, (20, 3, True, 12): 2, (19, 7, False, 9): 0, (18, 3, True, 26): 2, (14, 1, True, 25): 0, (17, 8, True, 13): 0, (19, 1, True, 25): 0, (16, 9, False, 12): 1, (18, 2, True, 12): 0, (4, 4, False, 15): 1, (18, 5, True, 14): 2, (14, 10, False, 11): 2, (16, 4, False, 10): 1, (12, 6, True, 13): 2, (9, 9, False, 28): 1, (19, 2, True, 12): 0, (21, 9, True, 26): 0, (18, 4, True, 27): 2, (12, 1, True, 12): 1, (14, 1, True, 13): 1, (6, 9, False, 14): 0, (7, 9, False, 29): 1, (5, 3, False, 28): 0, (4, 1, False, 26): 0, (12, 4, True, 22): 0, (5, 9, False, 25): 1, (18, 8, True, 27): 0, (13, 10, True, 27): 1, (8, 4, False, 16): 2, (12, 7, True, 12): 1, (10, 7, False, 30): 1, (20, 7, False, 29): 0, (14, 2, True, 14): 0, (5, 7, False, 17): 0, (14, 2, True, 30): 2, (9, 3, False, 29): 1, (14, 3, True, 27): 0, (19, 3, True, 28): 0, (16, 5, True, 14): 1, (13, 1, True, 13): 2, (9, 5, False, 15): 2, (5, 7, False, 15): 0, (21, 8, False, 14): 0, (18, 6, False, 13): 1, (15, 6, False, 12): 1, (16, 9, False, 11): 2, (19, 2, True, 27): 2, (16, 5, False, 29): 2, (18, 9, True, 25): 2, (19, 9, False, 28): 2, (19, 3, False, 28): 0, (17, 1, False, 11): 0, (4, 8, False, 16): 0, (21, 7, False, 27): 0, (18, 10, True, 10): 1, (16, 10, False, 10): 2, (17, 1, False, 9): 0, (17, 8, False, 28): 2, (6, 6, False, 15): 0, (20, 4, True, 28): 0, (7, 1, False, 13): 1, (13, 5, False, 29): 0, (18, 4, True, 13): 1, (20, 3, False, 29): 0, (12, 4, True, 15): 0, (18, 9, False, 29): 0, (18, 5, False, 12): 0, (10, 7, False, 28): 1, (21, 5, True, 28): 1, (20, 5, False, 28): 0, (20, 1, True, 13): 2, (15, 10, False, 11): 1, (15, 5, True, 14): 2, (11, 5, False, 12): 2, (19, 4, True, 12): 0, (18, 9, True, 12): 2, (20, 5, True, 12): 0, (21, 8, True, 11): 0, (10, 3, False, 30): 0, (18, 1, False, 27): 0, (6, 3, False, 15): 2, (15, 7, True, 26): 1, (13, 7, False, 28): 1, (20, 7, False, 28): 0, (13, 9, True, 27): 0, (20, 10, False, 29): 0, (14, 3, True, 16): 0, (12, 8, True, 13): 1, (6, 5, False, 28): 0, (14, 9, False, 11): 0, (17, 2, True, 12): 0, (16, 1, True, 14): 0, (11, 4, False, 28): 1, (20, 1, False, 9): 0, (10, 8, False, 12): 0, (18, 3, True, 14): 0, (18, 5, True, 28): 2, (21, 6, False, 18): 0, (18, 3, False, 12): 0, (13, 1, True, 25): 1, (15, 1, True, 26): 0, (5, 3, False, 27): 1, (19, 7, True, 26): 0, (18, 3, False, 28): 0, (14, 5, True, 26): 0, (16, 1, True, 11): 2, (15, 2, False, 31): 0, (10, 8, False, 15): 2, (12, 9, True, 26): 1, (18, 9, True, 27): 0, (11, 8, False, 29): 2, (17, 4, True, 14): 1, (12, 9, False, 12): 1, (5, 3, False, 17): 2, (19, 1, False, 28): 0, (19, 10, False, 29): 1, (11, 9, False, 30): 2, (5, 5, False, 17): 2, (18, 3, True, 28): 0, (18, 2, True, 14): 0, (20, 3, True, 27): 0, (15, 9, True, 27): 0, (7, 10, False, 30): 2, (12, 10, False, 31): 1, (20, 6, False, 30): 0, (7, 2, False, 14): 2, (17, 5, False, 28): 2, (21, 1, True, 25): 0, (19, 10, True, 8): 0, (15, 8, False, 29): 0, (14, 5, True, 27): 0, (16, 9, False, 28): 0, (13, 5, True, 13): 0, (7, 3, False, 16): 0, (6, 6, False, 30): 0, (14, 4, True, 14): 1, (4, 2, False, 18): 1, (8, 8, False, 29): 0, (21, 3, False, 11): 0, (16, 8, True, 15): 1, (11, 6, False, 12): 1, (6, 2, False, 14): 0, (20, 1, True, 25): 0, (5, 4, False, 31): 2, (20, 10, False, 28): 0, (11, 4, False, 29): 1, (12, 3, False, 30): 0, (11, 5, False, 32): 1, (12, 5, False, 31): 1, (19, 5, False, 31): 0, (12, 7, False, 31): 0, (17, 7, True, 26): 1, (7, 6, False, 28): 2, (18, 6, True, 27): 0, (19, 6, True, 26): 0, (12, 2, True, 15): 1, (16, 2, True, 14): 1, (13, 5, False, 13): 2, (9, 3, False, 14): 1, (17, 3, True, 15): 2, (5, 3, False, 16): 1, (16, 5, True, 15): 0, (17, 4, False, 30): 0, (19, 2, True, 14): 0, (14, 8, True, 26): 2, (15, 2, True, 26): 0, (7, 1, False, 15): 0, (16, 5, True, 28): 2, (15, 3, False, 29): 1, (19, 4, True, 26): 0, (13, 9, False, 30): 0, (14, 5, False, 30): 1, (19, 3, True, 13): 0, (11, 4, False, 15): 2, (18, 3, True, 27): 2, (17, 8, True, 28): 2, (20, 8, False, 28): 0, (19, 9, True, 13): 0, (5, 5, False, 30): 0, (17, 7, True, 29): 0, (7, 6, False, 15): 0, (6, 9, False, 15): 2, (19, 10, False, 9): 0, (8, 5, False, 15): 1, (18, 6, False, 12): 0, (20, 10, True, 27): 2, (4, 9, False, 27): 0, (7, 10, False, 29): 0, (17, 8, True, 27): 2, (10, 4, False, 30): 0, (16, 7, False, 30): 1, (19, 9, False, 29): 0, (13, 2, False, 31): 0, (14, 9, True, 14): 0, (16, 6, False, 12): 0, (15, 4, True, 13): 0, (15, 3, False, 13): 0, (12, 5, True, 22): 1, (18, 4, True, 28): 0, (17, 10, True, 27): 2, (21, 10, True, 28): 0, (6, 3, False, 29): 1, (17, 10, True, 28): 0, (12, 2, False, 13): 1, (14, 3, False, 29): 0, (20, 8, False, 9): 0, (17, 6, True, 13): 1, (20, 7, False, 9): 0, (16, 2, True, 9): 1, (12, 2, False, 10): 0, (14, 8, True, 28): 0, (9, 10, False, 11): 1, (13, 7, True, 26): 1, (20, 5, False, 11): 0, (18, 5, False, 28): 1, (21, 5, False, 29): 0, (13, 3, True, 15): 0, (13, 4, False, 12): 1, (21, 9, False, 13): 0, (9, 2, False, 30): 1, (12, 6, False, 31): 0, (18, 7, True, 12): 2, (13, 6, True, 27): 0, (15, 8, True, 28): 0, (6, 6, False, 14): 1, (13, 1, True, 27): 1, (12, 9, False, 29): 0, (21, 1, True, 26): 0, (14, 5, True, 28): 0, (20, 8, True, 27): 1, (15, 7, True, 13): 1, (20, 7, False, 10): 0, (20, 10, False, 27): 2, (17, 10, False, 10): 1, (20, 9, False, 8): 0, (15, 3, False, 10): 0, (19, 4, False, 28): 0, (19, 6, True, 13): 1, (4, 4, False, 18): 1, (10, 9, False, 30): 1, (16, 10, True, 29): 0, (6, 3, False, 28): 1, (18, 1, False, 28): 0, (20, 2, False, 29): 0, (15, 6, False, 13): 1, (10, 2, False, 14): 1, (9, 7, False, 30): 2, (13, 2, False, 12): 0, (20, 3, True, 13): 0, (15, 3, True, 27): 1, (20, 3, True, 28): 2, (16, 8, True, 27): 0, (9, 2, False, 14): 0, (12, 9, True, 13): 0, (17, 7, False, 13): 2, (14, 2, True, 28): 1, (19, 2, True, 29): 1, (20, 5, True, 13): 0, (15, 6, True, 28): 2, (12, 3, True, 23): 0, (12, 7, True, 22): 1, (13, 10, True, 10): 0, (19, 5, False, 13): 0, (9, 2, False, 29): 0, (21, 7, True, 11): 0, (12, 7, False, 13): 1, (13, 1, True, 12): 0, (4, 6, False, 18): 2, (17, 4, True, 28): 2, (16, 6, True, 28): 2, (18, 5, False, 11): 1, (10, 6, False, 31): 1, (17, 6, False, 31): 1, (18, 6, False, 30): 0, (15, 6, False, 31): 2, (16, 1, False, 30): 1, (16, 7, True, 27): 2, (16, 10, False, 9): 0, (14, 4, True, 10): 2, (21, 6, False, 15): 0, (13, 7, True, 13): 2, (17, 7, True, 14): 1, (19, 8, True, 25): 0, (12, 9, True, 14): 1, (7, 10, False, 12): 2, (11, 2, False, 12): 0, (17, 6, False, 12): 1, (12, 8, True, 14): 1, (14, 5, True, 13): 0, (4, 4, False, 13): 1, (18, 9, False, 11): 0, (13, 1, False, 10): 2, (12, 1, True, 22): 1, (13, 4, True, 15): 0, (20, 10, True, 10): 0, (11, 5, False, 30): 2, (14, 9, False, 10): 1, (12, 4, True, 13): 1, (18, 4, True, 14): 1, (21, 6, False, 28): 0, (10, 4, False, 29): 2, (17, 4, False, 29): 0, (19, 7, True, 28): 2, (19, 3, True, 29): 0, (18, 6, True, 12): 2, (13, 10, False, 30): 1, (8, 1, False, 12): 0, (8, 9, False, 29): 0, (4, 8, False, 28): 0, (12, 9, True, 25): 0, (17, 3, False, 12): 0, (10, 5, False, 13): 2, (17, 6, False, 29): 0, (18, 6, False, 28): 2, (20, 9, True, 12): 0, (17, 1, True, 26): 0, (13, 2, True, 27): 2, (6, 8, False, 16): 1, (12, 8, True, 15): 1, (14, 10, True, 11): 1, (12, 7, True, 15): 0, (17, 2, True, 29): 1, (15, 5, True, 12): 0, (7, 2, False, 13): 1, (15, 7, False, 10): 0, (11, 7, False, 29): 2, (15, 7, True, 29): 2, (7, 5, False, 15): 2, (12, 4, False, 12): 0, (10, 7, False, 12): 0, (13, 6, False, 12): 0, (8, 5, False, 30): 1, (21, 8, True, 30): 2, (18, 6, True, 13): 2, (13, 7, True, 14): 1, (7, 5, False, 30): 0, (17, 8, False, 29): 0, (19, 6, True, 28): 0, (16, 8, False, 11): 0, (9, 7, False, 13): 0, (15, 8, True, 14): 1, (8, 1, False, 30): 1, (21, 1, False, 31): 0, (10, 9, False, 14): 0, (6, 2, False, 30): 0, (20, 4, False, 30): 0, (9, 10, False, 31): 1, (17, 4, False, 10): 1, (16, 3, False, 11): 0, (7, 7, False, 29): 0, (21, 2, True, 30): 0, (4, 5, False, 18): 2, (13, 1, False, 11): 2, (19, 10, True, 27): 1, (19, 6, False, 29): 0, (20, 4, True, 12): 0, (21, 1, False, 27): 0, (21, 4, True, 11): 2, (20, 7, True, 28): 0, (15, 5, True, 27): 0, (21, 5, False, 27): 0, (11, 9, False, 11): 0, (14, 4, True, 13): 1, (14, 7, True, 11): 2, (12, 3, False, 11): 1, (12, 1, True, 13): 0, (8, 1, False, 11): 0, (12, 8, True, 24): 0, (17, 1, True, 27): 0, (19, 3, True, 27): 0, (16, 10, True, 10): 1, (4, 3, False, 18): 0, (9, 6, False, 12): 1, (16, 3, False, 29): 0, (12, 8, False, 11): 2, (16, 9, True, 12): 0, (13, 2, False, 30): 0, (13, 3, True, 29): 0, (9, 10, False, 30): 0, (5, 3, False, 29): 0, (5, 7, False, 28): 1, (14, 5, False, 29): 0, (19, 8, True, 28): 1, (12, 7, True, 25): 0, (13, 2, True, 15): 2, (15, 4, True, 28): 2, (10, 4, False, 12): 1, (7, 3, False, 30): 0, (8, 7, False, 30): 0, (12, 7, True, 14): 1, (17, 4, True, 27): 1, (21, 2, True, 12): 0, (21, 8, False, 11): 0, (19, 9, False, 12): 0, (13, 3, False, 30): 0, (19, 1, True, 27): 0, (21, 6, True, 27): 0, (8, 7, False, 13): 0, (17, 3, True, 27): 0, (12, 4, True, 24): 2, (20, 2, False, 9): 0, (12, 4, False, 11): 2, (21, 1, False, 28): 0, (17, 3, True, 28): 1, (6, 8, False, 15): 0, (6, 1, False, 15): 1, (14, 4, True, 27): 1, (19, 2, False, 9): 0, (20, 6, False, 11): 0, (12, 10, True, 11): 2, (10, 8, False, 30): 1, (12, 2, True, 23): 1, (14, 3, True, 14): 1, (8, 10, False, 12): 1, (11, 8, False, 12): 1, (18, 8, False, 28): 0, (21, 9, False, 29): 0, (17, 9, True, 28): 0, (10, 1, False, 29): 1, (10, 10, False, 9): 0, (20, 4, True, 11): 1, (14, 3, False, 11): 0, (20, 8, False, 10): 0, (14, 6, False, 30): 1, (20, 8, True, 29): 0, (13, 6, False, 30): 0, (12, 3, True, 25): 1, (16, 6, True, 29): 1, (8, 9, False, 14): 1, (21, 3, True, 27): 0, (6, 5, False, 29): 0, (20, 10, False, 8): 0, (20, 1, False, 29): 0, (12, 1, False, 11): 1, (16, 6, False, 11): 0, (15, 7, False, 11): 0, (21, 2, False, 28): 0, (18, 1, True, 26): 0, (15, 8, True, 29): 0, (14, 6, True, 28): 1, (10, 9, False, 29): 1, (16, 1, True, 28): 0, (12, 7, True, 10): 2, (12, 10, False, 10): 0, (16, 7, True, 9): 0, (16, 10, True, 11): 0, (14, 7, True, 13): 1, (21, 5, False, 13): 0, (12, 5, True, 13): 0, (14, 6, False, 11): 2, (12, 1, False, 10): 0, (14, 9, True, 13): 0, (4, 3, False, 28): 2, (7, 9, False, 31): 0, (11, 10, False, 30): 2, (21, 9, True, 9): 2, (13, 2, False, 11): 0, (19, 2, False, 10): 2, (16, 1, False, 9): 0, (17, 1, False, 8): 1, (5, 10, False, 9): 1, (14, 5, False, 11): 0, (21, 5, True, 12): 1, (21, 2, False, 14): 0, (5, 8, False, 28): 0}\n"
          ]
        }
      ]
    },
    {
      "cell_type": "code",
      "metadata": {
        "colab": {
          "base_uri": "https://localhost:8080/",
          "height": 297
        },
        "id": "N3nOozcPCSj4",
        "outputId": "1cd73ed2-7765-4a07-e991-0d2da9808831"
      },
      "source": [
        "plt.plot( range(300000), result_count)\n",
        "plt.title(\"Cреда c подсчетом колоды, средняя награда по мере обучения\")"
      ],
      "execution_count": 11,
      "outputs": [
        {
          "output_type": "execute_result",
          "data": {
            "text/plain": [
              "Text(0.5, 1.0, 'Cреда c double, средняя награда по мере обучения')"
            ]
          },
          "metadata": {},
          "execution_count": 11
        },
        {
          "output_type": "display_data",
          "data": {
            "image/png": "[encoded data removed]",
            "text/plain": [
              "<Figure size 432x288 with 1 Axes>"
            ]
          },
          "metadata": {
            "needs_background": "light"
          }
        }
      ]
    },
    {
      "cell_type": "code",
      "metadata": {
        "id": "UjRaqm52CSj5"
      },
      "source": [
        "def policy_func_count(state):\n",
        "  return policy_count[state]"
      ],
      "execution_count": 12,
      "outputs": []
    },
    {
      "cell_type": "code",
      "metadata": {
        "id": "xKfZRZ6pCSj6"
      },
      "source": [
        "# num_episodes = 100000\n",
        "# rewards_count_best = (get_rewards(policy_func_count, env_count, num_episodes))\n"
      ],
      "execution_count": null,
      "outputs": []
    },
    {
      "cell_type": "markdown",
      "metadata": {
        "id": "yeMh-VK-1tCo"
      },
      "source": [
        ""
      ]
    },
    {
      "cell_type": "code",
      "metadata": {
        "id": "sg6ZK-VICSj7"
      },
      "source": [
        "#print(f\"Средний выигрыш по простой стратегии {np.mean(rewards_count_best)}\")"
      ],
      "execution_count": null,
      "outputs": []
    },
    {
      "cell_type": "markdown",
      "metadata": {
        "id": "1ENkBvDN1P1I"
      },
      "source": [
        "При добавлении подсчета колоды методом плюс минус, количество состояний возросло, Показатели награды стали ниже видимо из-за того, чтобы процесс не совсем сошелся."
      ]
    }
  ]
}